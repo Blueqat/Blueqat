{
  "nbformat": 4,
  "nbformat_minor": 0,
  "metadata": {
    "colab": {
      "name": "tutorial001_basic_circuit_en.ipynb",
      "version": "0.3.2",
      "provenance": []
    },
    "kernelspec": {
      "name": "python3",
      "display_name": "Python 3"
    }
  },
  "cells": [
    {
      "metadata": {
        "id": "NjHnSAbHrInP",
        "colab_type": "text"
      },
      "cell_type": "markdown",
      "source": [
        "#Basic circuit\n",
        "Now we check the basic operation to make a gate model circuit\n",
        "First we install blueqat"
      ]
    },
    {
      "metadata": {
        "id": "0ss4RJk9jbGw",
        "colab_type": "code",
        "colab": {}
      },
      "cell_type": "code",
      "source": [
        "!pip install blueqat"
      ],
      "execution_count": 0,
      "outputs": []
    },
    {
      "metadata": {
        "id": "PKhFYi-drld1",
        "colab_type": "text"
      },
      "cell_type": "markdown",
      "source": [
        "##Creating a circuit\n",
        "It is very simple just write a few lines.\n",
        "You don't have to specify the number of qubits."
      ]
    },
    {
      "metadata": {
        "id": "O674HiVxjc7P",
        "colab_type": "code",
        "colab": {}
      },
      "cell_type": "code",
      "source": [
        "from blueqat import Circuit\n",
        "import math\n",
        "\n",
        "#Without specify the number of qubits\n",
        "c = Circuit()\n",
        "\n",
        "# Of course you can specify the qubits\n",
        "c = Circuit(3) # start with 3qubits"
      ],
      "execution_count": 0,
      "outputs": []
    },
    {
      "metadata": {
        "id": "oFkt8P9CrhEA",
        "colab_type": "text"
      },
      "cell_type": "markdown",
      "source": [
        "## Method Chain\n",
        "\n",
        "Circuit on blueqat we use the method chain to create circuit."
      ]
    },
    {
      "metadata": {
        "id": "WFzxl7hwrdBd",
        "colab_type": "code",
        "colab": {
          "base_uri": "https://localhost:8080/",
          "height": 34
        },
        "outputId": "7baa44d8-c89d-4021-a0e1-b2a8638ee815"
      },
      "cell_type": "code",
      "source": [
        "#Write in chain\n",
        "Circuit().h[0].x[0].z[0]\n",
        "\n",
        "# Write separetely\n",
        "c = Circuit().h[0]\n",
        "c.x[0].z[0]"
      ],
      "execution_count": 5,
      "outputs": [
        {
          "output_type": "execute_result",
          "data": {
            "text/plain": [
              "<blueqat.circuit.Circuit at 0x7f5b48835470>"
            ]
          },
          "metadata": {
            "tags": []
          },
          "execution_count": 5
        }
      ]
    },
    {
      "metadata": {
        "id": "8iaHrnn8tE4M",
        "colab_type": "text"
      },
      "cell_type": "markdown",
      "source": [
        "##Slice \n",
        "It is simply use slice to write the circuit"
      ]
    },
    {
      "metadata": {
        "id": "usP0odKfs4xp",
        "colab_type": "code",
        "colab": {}
      },
      "cell_type": "code",
      "source": [
        "# example\n",
        "s = \"abcde\"\n",
        "s[1:3] # “bc”: s[1] to s[2]\n",
        "s[:3] # “abc”: from first to s[2]\n",
        "s[3:] # “de”: from s[3] to the end\n",
        "s[:] # “abcde”: all\n",
        "s[1:4:2] # s[1:4] from 1 taking every 2 (s[1] and s[3])"
      ],
      "execution_count": 0,
      "outputs": []
    },
    {
      "metadata": {
        "id": "xwBDPSuztcbJ",
        "colab_type": "code",
        "colab": {}
      },
      "cell_type": "code",
      "source": [
        "Circuit().z[1:3] # Z gate on 1,2\n",
        "Circuit().x[:3] # X gate on (0, 1, 2)\n",
        "Circuit().h[:] # H gate on all qubits\n",
        "Circuit().x[1, 2] # 1qubit gate can write with comma"
      ],
      "execution_count": 0,
      "outputs": []
    },
    {
      "metadata": {
        "id": "NueRsFwJthAM",
        "colab_type": "text"
      },
      "cell_type": "markdown",
      "source": [
        "##Rotation gate\n",
        "Angle with () and qubit with []"
      ]
    },
    {
      "metadata": {
        "id": "hTNFRCaQtyRp",
        "colab_type": "code",
        "colab": {}
      },
      "cell_type": "code",
      "source": [
        "Circuit().rz(math.pi / 4)[0]"
      ],
      "execution_count": 0,
      "outputs": []
    },
    {
      "metadata": {
        "id": "j-RsIi7OtrJA",
        "colab_type": "text"
      },
      "cell_type": "markdown",
      "source": [
        "## Measurement\n",
        "Same as the gate operation"
      ]
    },
    {
      "metadata": {
        "id": "ayI7ZlbZtmll",
        "colab_type": "code",
        "colab": {}
      },
      "cell_type": "code",
      "source": [
        "Circuit().m[0]"
      ],
      "execution_count": 0,
      "outputs": []
    },
    {
      "metadata": {
        "id": "wHrRyYvfuCMC",
        "colab_type": "text"
      },
      "cell_type": "markdown",
      "source": [
        "##run()\n",
        "By using run() you can run the circuit and get the state vector"
      ]
    },
    {
      "metadata": {
        "id": "s4nPf83otvoG",
        "colab_type": "code",
        "colab": {
          "base_uri": "https://localhost:8080/",
          "height": 34
        },
        "outputId": "997ad0d7-e421-4964-ff99-8ced3e3b6d24"
      },
      "cell_type": "code",
      "source": [
        "Circuit().h[0].cx[0,1].run()"
      ],
      "execution_count": 11,
      "outputs": [
        {
          "output_type": "execute_result",
          "data": {
            "text/plain": [
              "array([0.70710678+0.j, 0.        +0.j, 0.        +0.j, 0.70710678+0.j])"
            ]
          },
          "metadata": {
            "tags": []
          },
          "execution_count": 11
        }
      ]
    },
    {
      "metadata": {
        "id": "fUTc3mxmuM06",
        "colab_type": "text"
      },
      "cell_type": "markdown",
      "source": [
        "Can get qubits result by using last_result() method"
      ]
    },
    {
      "metadata": {
        "id": "y-gRFg5huIRv",
        "colab_type": "code",
        "colab": {
          "base_uri": "https://localhost:8080/",
          "height": 34
        },
        "outputId": "bd2192bd-1cb9-4d11-8386-a62fe775cbd5"
      },
      "cell_type": "code",
      "source": [
        "c = Circuit().h[0].cx[0,1].m[0]\n",
        "c.run() # array([0.+0.j, 0.+0.j, 0.+0.j, 1.+0.j])\n",
        "c.last_result() # (1, 0)"
      ],
      "execution_count": 12,
      "outputs": [
        {
          "output_type": "execute_result",
          "data": {
            "text/plain": [
              "(1, 0)"
            ]
          },
          "metadata": {
            "tags": []
          },
          "execution_count": 12
        }
      ]
    }
  ]
}