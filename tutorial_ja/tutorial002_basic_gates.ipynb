{
  "nbformat": 4,
  "nbformat_minor": 0,
  "metadata": {
    "colab": {
      "name": "tutorial3_basic_gates.ipynb",
      "version": "0.3.2",
      "provenance": []
    },
    "kernelspec": {
      "name": "python3",
      "display_name": "Python 3"
    }
  },
  "cells": [
    {
      "metadata": {
        "id": "ZfppwX5TAd-P",
        "colab_type": "text"
      },
      "cell_type": "markdown",
      "source": [
        "#いくつか基本的なゲートの確認"
      ]
    },
    {
      "metadata": {
        "id": "mL3XbZDOAmZc",
        "colab_type": "text"
      },
      "cell_type": "markdown",
      "source": [
        "Blueqatを使って基本的なゲートなどの確認をしてみたいと思います。  \n",
        "下記から入手できます。\n",
        "\n",
        "https://github.com/mdrft/Blueqat\n",
        "\n",
        "##CNOT Reverse"
      ]
    },
    {
      "metadata": {
        "id": "R4zgRvFnA9Ld",
        "colab_type": "text"
      },
      "cell_type": "markdown",
      "source": [
        "通常ゲートには結合の向きや結合できる量子ビットに制限がありますが、ここではアダマールゲートとCNOTゲートを組み合わせることで、CNOTのコントロールビットとターゲットビット\n",
        "を反転させることができます。"
      ]
    },
    {
      "metadata": {
        "id": "p3C4XJvRAb4E",
        "colab_type": "code",
        "colab": {}
      },
      "cell_type": "code",
      "source": [
        "import numpy as np\n",
        "from blueqat import Circuit"
      ],
      "execution_count": 0,
      "outputs": []
    },
    {
      "metadata": {
        "id": "8Kl1xka-AcmC",
        "colab_type": "text"
      },
      "cell_type": "markdown",
      "source": [
        "次に一連のゲート操作を再現します。まずは0番目の量子ビットにXゲートを作用させて1にした上でCNOTを適用しますが、HゲートでこのCNOTを囲むことで、CNOT Reverseを実現できます。\n",
        "<img src=\"./img/003_0.png\">"
      ]
    },
    {
      "metadata": {
        "id": "4KEHXGm-BrNJ",
        "colab_type": "code",
        "colab": {
          "base_uri": "https://localhost:8080/",
          "height": 34
        },
        "outputId": "49cdd72c-d503-42aa-fca4-1c9ece83937b"
      },
      "cell_type": "code",
      "source": [
        "c = Circuit().x[0].h[:].cnot[1,0].h[:]\n",
        "c.run()"
      ],
      "execution_count": 2,
      "outputs": [
        {
          "output_type": "execute_result",
          "data": {
            "text/plain": [
              "array([0.+0.j, 0.+0.j, 0.+0.j, 1.+0.j])"
            ]
          },
          "metadata": {
            "tags": []
          },
          "execution_count": 2
        }
      ]
    },
    {
      "metadata": {
        "id": "iZDCjpXTBxtw",
        "colab_type": "code",
        "colab": {
          "base_uri": "https://localhost:8080/",
          "height": 34
        },
        "outputId": "71542db5-688e-4f75-d56d-5f6338936cf7"
      },
      "cell_type": "code",
      "source": [
        "bin(3)"
      ],
      "execution_count": 3,
      "outputs": [
        {
          "output_type": "execute_result",
          "data": {
            "text/plain": [
              "'0b11'"
            ]
          },
          "metadata": {
            "tags": []
          },
          "execution_count": 3
        }
      ]
    },
    {
      "metadata": {
        "id": "vseVy-0yB7-V",
        "colab_type": "text"
      },
      "cell_type": "markdown",
      "source": [
        "量子ビットは両方とも1となっており、HゲートによってCNOTのコントロールビットとターゲットビットを逆に変換することができました。"
      ]
    },
    {
      "metadata": {
        "id": "ooWcHY6-ClM2",
        "colab_type": "text"
      },
      "cell_type": "markdown",
      "source": [
        "##SWAPゲート"
      ]
    },
    {
      "metadata": {
        "id": "LJsTqOVYCsFF",
        "colab_type": "text"
      },
      "cell_type": "markdown",
      "source": [
        "２つのゲートを入れ替えるにはSWAPゲートを使います。SWAPゲートはCNOTゲートを３回適用することで実現できます。\n",
        "\n",
        "<img src=\"./img/003_1.png\">\n",
        "\n",
        "真ん中のCNOTゲートは都合でCNOT Reverseになっていますが、今回はコントロールとターゲットを単純に反転させた回路を使います。"
      ]
    },
    {
      "metadata": {
        "id": "xkxbg9xZCo7F",
        "colab_type": "code",
        "colab": {
          "base_uri": "https://localhost:8080/",
          "height": 34
        },
        "outputId": "bcf96e25-f2b2-43df-968a-3c5b7d1a373d"
      },
      "cell_type": "code",
      "source": [
        "c = Circuit().x[0].cnot[1,0].cnot[0,1].cnot[1,0]\n",
        "c.run()"
      ],
      "execution_count": 4,
      "outputs": [
        {
          "output_type": "execute_result",
          "data": {
            "text/plain": [
              "array([0.+0.j, 0.+0.j, 1.+0.j, 0.+0.j])"
            ]
          },
          "metadata": {
            "tags": []
          },
          "execution_count": 4
        }
      ]
    },
    {
      "metadata": {
        "id": "JFtjihSbDIE-",
        "colab_type": "code",
        "colab": {
          "base_uri": "https://localhost:8080/",
          "height": 34
        },
        "outputId": "4c12219f-d223-47f0-a510-226f29df0466"
      },
      "cell_type": "code",
      "source": [
        "bin(2)"
      ],
      "execution_count": 5,
      "outputs": [
        {
          "output_type": "execute_result",
          "data": {
            "text/plain": [
              "'0b10'"
            ]
          },
          "metadata": {
            "tags": []
          },
          "execution_count": 5
        }
      ]
    },
    {
      "metadata": {
        "id": "XGBSXNQbDMkQ",
        "colab_type": "text"
      },
      "cell_type": "markdown",
      "source": [
        "これは、１番目の量子ビットをXゲートで1にしてからSWAPゲートで入れ替えていることが確認できました。"
      ]
    },
    {
      "metadata": {
        "id": "3vO82k43eVTo",
        "colab_type": "text"
      },
      "cell_type": "markdown",
      "source": [
        "#Toffoliゲート\n",
        "コントロールゲートが２つあり、両方とも1の時だけターゲットビットを反転させます。\n",
        "\n",
        "<img src=\"https://camo.qiitausercontent.com/96bf5dab6ceb49219f8654b0403c255526157f6f/68747470733a2f2f71696974612d696d6167652d73746f72652e73332e616d617a6f6e6177732e636f6d2f302f3231383639342f36333539393839612d626636622d303064632d353336322d3639356562636362376366612e706e67\">"
      ]
    },
    {
      "metadata": {
        "id": "67Oq9-9Qeipr",
        "colab_type": "code",
        "colab": {
          "base_uri": "https://localhost:8080/",
          "height": 68
        },
        "outputId": "4cacfd9a-ee7e-407e-9cd8-03be0922576b"
      },
      "cell_type": "code",
      "source": [
        "c = Circuit().x[1:].h[0].cnot[1,0].rz(-np.pi/4)[0].cnot[2,0].rz(np.pi/4)[0].cnot[1,0].rz(-np.pi/4)[0].cnot[2,0].rz(np.pi/4)[:1].h[0].cnot[1,0].cnot[0,1].cnot[1,0].cnot[2,0].rz(-np.pi/4)[0].rz(np.pi/4)[2].cnot[2,0]\n",
        "c.run()"
      ],
      "execution_count": 6,
      "outputs": [
        {
          "output_type": "execute_result",
          "data": {
            "text/plain": [
              "array([0.+0.00000000e+00j, 0.+0.00000000e+00j, 0.+0.00000000e+00j,\n",
              "       0.+0.00000000e+00j, 0.+0.00000000e+00j, 0.+1.57009246e-16j,\n",
              "       0.+0.00000000e+00j, 1.+0.00000000e+00j])"
            ]
          },
          "metadata": {
            "tags": []
          },
          "execution_count": 6
        }
      ]
    },
    {
      "metadata": {
        "id": "hTUB7qvYeoBt",
        "colab_type": "code",
        "colab": {
          "base_uri": "https://localhost:8080/",
          "height": 34
        },
        "outputId": "5333aefd-f9e6-43d0-fdbc-c76ffe59918e"
      },
      "cell_type": "code",
      "source": [
        "bin(7)"
      ],
      "execution_count": 7,
      "outputs": [
        {
          "output_type": "execute_result",
          "data": {
            "text/plain": [
              "'0b111'"
            ]
          },
          "metadata": {
            "tags": []
          },
          "execution_count": 7
        }
      ]
    },
    {
      "metadata": {
        "id": "rb9X0dC0e4ZA",
        "colab_type": "text"
      },
      "cell_type": "markdown",
      "source": [
        "１番目と２番目の量子ビットが１の場合、０番目の量子ビットも１になりました。"
      ]
    },
    {
      "metadata": {
        "id": "eThYqBOve3bZ",
        "colab_type": "code",
        "colab": {
          "base_uri": "https://localhost:8080/",
          "height": 34
        },
        "outputId": "bc8bc817-573b-45cf-b8d9-23c4deaf449f"
      },
      "cell_type": "code",
      "source": [
        "c = Circuit().x[2].h[0].cnot[1,0].rz(-np.pi/4)[0].cnot[2,0].rz(np.pi/4)[0].cnot[1,0].rz(-np.pi/4)[0].cnot[2,0].rz(np.pi/4)[:1].h[0].cnot[1,0].cnot[0,1].cnot[1,0].cnot[2,0].rz(-np.pi/4)[0].rz(np.pi/4)[2].cnot[2,0]\n",
        "c.run()"
      ],
      "execution_count": 8,
      "outputs": [
        {
          "output_type": "execute_result",
          "data": {
            "text/plain": [
              "array([0.+0.j, 0.+0.j, 0.+0.j, 0.+0.j, 1.+0.j, 0.+0.j, 0.+0.j, 0.+0.j])"
            ]
          },
          "metadata": {
            "tags": []
          },
          "execution_count": 8
        }
      ]
    },
    {
      "metadata": {
        "id": "oP8ZMGu8fKWn",
        "colab_type": "code",
        "colab": {
          "base_uri": "https://localhost:8080/",
          "height": 34
        },
        "outputId": "29addc8a-8efa-4a74-bedc-bff030ff523e"
      },
      "cell_type": "code",
      "source": [
        "bin(4)"
      ],
      "execution_count": 9,
      "outputs": [
        {
          "output_type": "execute_result",
          "data": {
            "text/plain": [
              "'0b100'"
            ]
          },
          "metadata": {
            "tags": []
          },
          "execution_count": 9
        }
      ]
    },
    {
      "metadata": {
        "id": "3y6Umw9zfcYg",
        "colab_type": "text"
      },
      "cell_type": "markdown",
      "source": [
        "２番目だけを１にしても他の量子ビットは反応がありませんでした。"
      ]
    }
  ]
}