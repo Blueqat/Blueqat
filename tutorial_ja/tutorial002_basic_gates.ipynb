{
 "cells": [
  {
   "cell_type": "markdown",
   "metadata": {
    "colab_type": "text",
    "id": "ZfppwX5TAd-P"
   },
   "source": [
    "# いくつか基本的なゲートの確認"
   ]
  },
  {
   "cell_type": "markdown",
   "metadata": {
    "colab_type": "text",
    "id": "mL3XbZDOAmZc"
   },
   "source": [
    "Blueqatを使って基本的なゲートなどの確認をしてみたいと思います。  \n",
    "下記から入手できます。\n",
    "\n",
    "https://github.com/mdrft/Blueqat\n",
    "\n",
    "## CNOT Reverse"
   ]
  },
  {
   "cell_type": "markdown",
   "metadata": {
    "colab_type": "text",
    "id": "R4zgRvFnA9Ld"
   },
   "source": [
    "通常ゲートには結合の向きや結合できる量子ビットに制限がありますが、ここではアダマールゲートとCNOTゲートを組み合わせることで、CNOTのコントロールビットとターゲットビット\n",
    "を反転させることができます。"
   ]
  },
  {
   "cell_type": "code",
   "execution_count": 1,
   "metadata": {
    "colab": {},
    "colab_type": "code",
    "id": "p3C4XJvRAb4E"
   },
   "outputs": [],
   "source": [
    "import numpy as np\n",
    "from blueqat import Circuit"
   ]
  },
  {
   "cell_type": "markdown",
   "metadata": {
    "colab_type": "text",
    "id": "8Kl1xka-AcmC"
   },
   "source": [
    "次に一連のゲート操作を再現します。まずは0番目の量子ビットにXゲートを作用させて1にした上でCNOTを適用しますが、HゲートでこのCNOTを囲むことで、CNOT Reverseを実現できます。\n",
    "<img src=\"./img/003_0.png\">"
   ]
  },
  {
   "cell_type": "code",
   "execution_count": 2,
   "metadata": {
    "colab": {
     "base_uri": "https://localhost:8080/",
     "height": 34
    },
    "colab_type": "code",
    "id": "4KEHXGm-BrNJ",
    "outputId": "49cdd72c-d503-42aa-fca4-1c9ece83937b"
   },
   "outputs": [
    {
     "data": {
      "text/plain": [
       "array([0.+0.j, 0.+0.j, 0.+0.j, 1.+0.j])"
      ]
     },
     "execution_count": 2,
     "metadata": {},
     "output_type": "execute_result"
    }
   ],
   "source": [
    "c = Circuit().x[0].h[:].cnot[1,0].h[:]\n",
    "c.run()"
   ]
  },
  {
   "cell_type": "code",
   "execution_count": 3,
   "metadata": {
    "colab": {
     "base_uri": "https://localhost:8080/",
     "height": 34
    },
    "colab_type": "code",
    "id": "iZDCjpXTBxtw",
    "outputId": "71542db5-688e-4f75-d56d-5f6338936cf7"
   },
   "outputs": [
    {
     "data": {
      "text/plain": [
       "'0b11'"
      ]
     },
     "execution_count": 3,
     "metadata": {},
     "output_type": "execute_result"
    }
   ],
   "source": [
    "bin(3)"
   ]
  },
  {
   "cell_type": "markdown",
   "metadata": {
    "colab_type": "text",
    "id": "vseVy-0yB7-V"
   },
   "source": [
    "量子ビットは両方とも1となっており、HゲートによってCNOTのコントロールビットとターゲットビットを逆に変換することができました。"
   ]
  },
  {
   "cell_type": "markdown",
   "metadata": {
    "colab_type": "text",
    "id": "ooWcHY6-ClM2"
   },
   "source": [
    "## SWAPゲート"
   ]
  },
  {
   "cell_type": "markdown",
   "metadata": {
    "colab_type": "text",
    "id": "LJsTqOVYCsFF"
   },
   "source": [
    "２つのゲートを入れ替えるにはSWAPゲートを使います。SWAPゲートはCNOTゲートを３回適用することで実現できます。\n",
    "\n",
    "<img src=\"./img/003_1.png\">\n",
    "\n",
    "真ん中のCNOTゲートは都合でCNOT Reverseになっていますが、今回はコントロールとターゲットを単純に反転させた回路を使います。"
   ]
  },
  {
   "cell_type": "code",
   "execution_count": 4,
   "metadata": {
    "colab": {
     "base_uri": "https://localhost:8080/",
     "height": 34
    },
    "colab_type": "code",
    "id": "xkxbg9xZCo7F",
    "outputId": "bcf96e25-f2b2-43df-968a-3c5b7d1a373d"
   },
   "outputs": [
    {
     "data": {
      "text/plain": [
       "array([0.+0.j, 0.+0.j, 1.+0.j, 0.+0.j])"
      ]
     },
     "execution_count": 4,
     "metadata": {},
     "output_type": "execute_result"
    }
   ],
   "source": [
    "c = Circuit().x[0].cnot[1,0].cnot[0,1].cnot[1,0]\n",
    "c.run()"
   ]
  },
  {
   "cell_type": "code",
   "execution_count": 5,
   "metadata": {
    "colab": {
     "base_uri": "https://localhost:8080/",
     "height": 34
    },
    "colab_type": "code",
    "id": "JFtjihSbDIE-",
    "outputId": "4c12219f-d223-47f0-a510-226f29df0466"
   },
   "outputs": [
    {
     "data": {
      "text/plain": [
       "'0b10'"
      ]
     },
     "execution_count": 5,
     "metadata": {},
     "output_type": "execute_result"
    }
   ],
   "source": [
    "bin(2)"
   ]
  },
  {
   "cell_type": "markdown",
   "metadata": {
    "colab_type": "text",
    "id": "XGBSXNQbDMkQ"
   },
   "source": [
    "これは、１番目の量子ビットをXゲートで1にしてからSWAPゲートで入れ替えていることが確認できました。"
   ]
  },
  {
   "cell_type": "markdown",
   "metadata": {
    "colab_type": "text",
    "id": "3vO82k43eVTo"
   },
   "source": [
    "#Toffoliゲート\n",
    "コントロールゲートが２つあり、両方とも1の時だけターゲットビットを反転させます。\n",
    "\n",
    "<img src=\"https://camo.qiitausercontent.com/96bf5dab6ceb49219f8654b0403c255526157f6f/68747470733a2f2f71696974612d696d6167652d73746f72652e73332e616d617a6f6e6177732e636f6d2f302f3231383639342f36333539393839612d626636622d303064632d353336322d3639356562636362376366612e706e67\">"
   ]
  },
  {
   "cell_type": "code",
   "execution_count": 6,
   "metadata": {
    "colab": {
     "base_uri": "https://localhost:8080/",
     "height": 68
    },
    "colab_type": "code",
    "id": "67Oq9-9Qeipr",
    "outputId": "4cacfd9a-ee7e-407e-9cd8-03be0922576b"
   },
   "outputs": [
    {
     "data": {
      "text/plain": [
       "array([0.+0.00000000e+00j, 0.+0.00000000e+00j, 0.+0.00000000e+00j,\n",
       "       0.+0.00000000e+00j, 0.+0.00000000e+00j, 0.+1.57009246e-16j,\n",
       "       0.+0.00000000e+00j, 1.+0.00000000e+00j])"
      ]
     },
     "execution_count": 6,
     "metadata": {},
     "output_type": "execute_result"
    }
   ],
   "source": [
    "c = Circuit().x[1:].h[0].cnot[1,0].rz(-np.pi/4)[0].cnot[2,0].rz(np.pi/4)[0].cnot[1,0].rz(-np.pi/4)[0].cnot[2,0].rz(np.pi/4)[:1].h[0].cnot[1,0].cnot[0,1].cnot[1,0].cnot[2,0].rz(-np.pi/4)[0].rz(np.pi/4)[2].cnot[2,0]\n",
    "c.run()"
   ]
  },
  {
   "cell_type": "code",
   "execution_count": 7,
   "metadata": {
    "colab": {
     "base_uri": "https://localhost:8080/",
     "height": 34
    },
    "colab_type": "code",
    "id": "hTUB7qvYeoBt",
    "outputId": "5333aefd-f9e6-43d0-fdbc-c76ffe59918e"
   },
   "outputs": [
    {
     "data": {
      "text/plain": [
       "'0b111'"
      ]
     },
     "execution_count": 7,
     "metadata": {},
     "output_type": "execute_result"
    }
   ],
   "source": [
    "bin(7)"
   ]
  },
  {
   "cell_type": "markdown",
   "metadata": {
    "colab_type": "text",
    "id": "rb9X0dC0e4ZA"
   },
   "source": [
    "１番目と２番目の量子ビットが１の場合、０番目の量子ビットも１になりました。"
   ]
  },
  {
   "cell_type": "code",
   "execution_count": 8,
   "metadata": {
    "colab": {
     "base_uri": "https://localhost:8080/",
     "height": 34
    },
    "colab_type": "code",
    "id": "eThYqBOve3bZ",
    "outputId": "bc8bc817-573b-45cf-b8d9-23c4deaf449f"
   },
   "outputs": [
    {
     "data": {
      "text/plain": [
       "array([0.+0.j, 0.+0.j, 0.+0.j, 0.+0.j, 1.+0.j, 0.+0.j, 0.+0.j, 0.+0.j])"
      ]
     },
     "execution_count": 8,
     "metadata": {},
     "output_type": "execute_result"
    }
   ],
   "source": [
    "c = Circuit().x[2].h[0].cnot[1,0].rz(-np.pi/4)[0].cnot[2,0].rz(np.pi/4)[0].cnot[1,0].rz(-np.pi/4)[0].cnot[2,0].rz(np.pi/4)[:1].h[0].cnot[1,0].cnot[0,1].cnot[1,0].cnot[2,0].rz(-np.pi/4)[0].rz(np.pi/4)[2].cnot[2,0]\n",
    "c.run()"
   ]
  },
  {
   "cell_type": "code",
   "execution_count": 9,
   "metadata": {
    "colab": {
     "base_uri": "https://localhost:8080/",
     "height": 34
    },
    "colab_type": "code",
    "id": "oP8ZMGu8fKWn",
    "outputId": "29addc8a-8efa-4a74-bedc-bff030ff523e"
   },
   "outputs": [
    {
     "data": {
      "text/plain": [
       "'0b100'"
      ]
     },
     "execution_count": 9,
     "metadata": {},
     "output_type": "execute_result"
    }
   ],
   "source": [
    "bin(4)"
   ]
  },
  {
   "cell_type": "markdown",
   "metadata": {
    "colab_type": "text",
    "id": "3y6Umw9zfcYg"
   },
   "source": [
    "２番目だけを１にしても他の量子ビットは反応がありませんでした。"
   ]
  }
 ],
 "metadata": {
  "colab": {
   "name": "tutorial3_basic_gates.ipynb",
   "provenance": [],
   "version": "0.3.2"
  },
  "kernelspec": {
   "display_name": "Python 3",
   "language": "python",
   "name": "python3"
  },
  "language_info": {
   "codemirror_mode": {
    "name": "ipython",
    "version": 3
   },
   "file_extension": ".py",
   "mimetype": "text/x-python",
   "name": "python",
   "nbconvert_exporter": "python",
   "pygments_lexer": "ipython3",
   "version": "3.7.1"
  }
 },
 "nbformat": 4,
 "nbformat_minor": 1
}
