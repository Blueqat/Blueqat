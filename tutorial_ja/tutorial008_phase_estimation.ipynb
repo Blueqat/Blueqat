{
  "nbformat": 4,
  "nbformat_minor": 0,
  "metadata": {
    "colab": {
      "name": "Untitled6.ipynb",
      "version": "0.3.2",
      "provenance": []
    },
    "kernelspec": {
      "name": "python3",
      "display_name": "Python 3"
    }
  },
  "cells": [
    {
      "metadata": {
        "id": "1ZxoFT8ScpHA",
        "colab_type": "text"
      },
      "cell_type": "markdown",
      "source": [
        "##位相推定アルゴリズム\n",
        "量子位相推定は、あるユニタリ変換に対する固有値の位相を求めるためのアルゴリズムです。  \n",
        "U|ψ> = eiφ|ψ>  \n",
        "\n",
        "今回はとある状態ベクトルを入力として位相を小数で求めるアルゴリズムをBlueqatで実装します。"
      ]
    },
    {
      "metadata": {
        "id": "1Kh7m_xRcvWt",
        "colab_type": "text"
      },
      "cell_type": "markdown",
      "source": [
        "##全体構成\n",
        "位相推定アルゴリズムは２パートからなります。\n",
        "前半のコントロールユニタリ変換のパートと、後半の逆量子フーリエ変換の部分です。量子フーリエ変換は以前確認をしましたので、\n",
        "そちらの回路を利用します。\n",
        "\n",
        "<img src=\"./img/008_1.png\">"
      ]
    },
    {
      "metadata": {
        "id": "a8o6g6AsdGu1",
        "colab_type": "text"
      },
      "cell_type": "markdown",
      "source": [
        "##例題\n",
        "今回は２つの例題を取り上げてみたいと思います。2量子ビットからなる簡単な回路です。\n",
        "\n",
        "<img src=\"./img/008_2.png\">\n",
        "\n",
        "入力は2量子ビット目にあります。\n",
        "この場合にはHゲートをかけて、[1,1]の状態を用意します。\n",
        "ユニタリ変換としてCXを用意しました。こちらは、コントロールユニタリ変換として、\n",
        "X=[[0,1],[1,0]]のユニタリ変換を使います。\n",
        "\n",
        "求めたいものは、X=[[0,1],[1,0]]のユニタリ変換と[1,1]の固有ベクトルから固有値の位相を求めたいです。\n",
        "解析的に解くと、固有値は1となりますので、位相は0となるはずです。\n",
        "\n",
        "重ね合わせを作ってCXを適用し、逆フーリエ変換をかけますが、1量子ビットの場合はアダマールゲートと同じです。\n",
        "\n",
        "出てくる位相は、\n",
        "\n",
        "0.φ * 2π\n",
        "\n",
        "と小数点表記で得られますが、φは0のはずなので最終的に0が出てくるはずです。\n",
        "\n",
        "こちらを実行すると、"
      ]
    },
    {
      "metadata": {
        "id": "x1t5OhgAciT6",
        "colab_type": "code",
        "colab": {
          "base_uri": "https://localhost:8080/",
          "height": 35
        },
        "outputId": "ac1cf862-3034-4608-a539-375c8a92272f"
      },
      "cell_type": "code",
      "source": [
        "from blueqat import Circuit                                             \n",
        "c = Circuit().h[:].cx[0,1].h[0].m[:]                                    \n",
        "c.run()                                                  "
      ],
      "execution_count": 1,
      "outputs": [
        {
          "output_type": "execute_result",
          "data": {
            "text/plain": [
              "array([0.+0.j, 0.+0.j, 1.+0.j, 0.+0.j])"
            ]
          },
          "metadata": {
            "tags": []
          },
          "execution_count": 1
        }
      ]
    },
    {
      "metadata": {
        "id": "7X1JmjyXdU9w",
        "colab_type": "code",
        "colab": {
          "base_uri": "https://localhost:8080/",
          "height": 35
        },
        "outputId": "c2dcda48-e4ce-4a2b-9c07-0b4c16843904"
      },
      "cell_type": "code",
      "source": [
        "c.last_result()                                                         "
      ],
      "execution_count": 2,
      "outputs": [
        {
          "output_type": "execute_result",
          "data": {
            "text/plain": [
              "(0, 1)"
            ]
          },
          "metadata": {
            "tags": []
          },
          "execution_count": 2
        }
      ]
    },
    {
      "metadata": {
        "id": "XaXHUqjJdbKQ",
        "colab_type": "text"
      },
      "cell_type": "markdown",
      "source": [
        "1つめの量子ビットの測定結果だけを使います。\n",
        "\n",
        "よって、測定は0をとりますので、位相が正しく取れました。0.0なので0になります。\n",
        "\n"
      ]
    },
    {
      "metadata": {
        "id": "1w2DL-egds3o",
        "colab_type": "text"
      },
      "cell_type": "markdown",
      "source": [
        "##もう１つの例題\n",
        "続いて下記のような回路を見てみます。\n",
        "\n",
        "<img src=\"./img/008_3.png\">\n",
        "\n",
        "下記の回路は、HZによって準備される状態は、\n",
        "[1,-1]となります。\n",
        "\n",
        "求めたいものは、X=[[0,1],[1,0]]のユニタリ変換と[1,-1]の固有ベクトルから固有値の位相を求めたいです。\n",
        "解析的に解くと、固有値は-1となりますので、位相はπとなるはずです。\n",
        "出てくる位相は、\n",
        "\n",
        "0.φ * 2π\n",
        "\n",
        "と小数点表記で得られますが、φは5のはずなので最終的に1が出てくるはずです。"
      ]
    },
    {
      "metadata": {
        "id": "UrtyHY9hdYSW",
        "colab_type": "code",
        "colab": {
          "base_uri": "https://localhost:8080/",
          "height": 35
        },
        "outputId": "f2c0cdec-c535-4ecf-b51e-dc08f0a86710"
      },
      "cell_type": "code",
      "source": [
        "c = Circuit().h[:].z[1].cx[0,1].h[0].m[:]                               \n",
        "c.run()                  "
      ],
      "execution_count": 3,
      "outputs": [
        {
          "output_type": "execute_result",
          "data": {
            "text/plain": [
              "array([0.-0.j, 0.-0.j, 0.-0.j, 1.+0.j])"
            ]
          },
          "metadata": {
            "tags": []
          },
          "execution_count": 3
        }
      ]
    },
    {
      "metadata": {
        "id": "KW2Qtyi1d00p",
        "colab_type": "code",
        "colab": {
          "base_uri": "https://localhost:8080/",
          "height": 35
        },
        "outputId": "68a9755c-4ce6-46c8-9d9f-510707693721"
      },
      "cell_type": "code",
      "source": [
        "c.last_result()                                                        "
      ],
      "execution_count": 4,
      "outputs": [
        {
          "output_type": "execute_result",
          "data": {
            "text/plain": [
              "(1, 1)"
            ]
          },
          "metadata": {
            "tags": []
          },
          "execution_count": 4
        }
      ]
    },
    {
      "metadata": {
        "id": "8keFg39Xd41N",
        "colab_type": "text"
      },
      "cell_type": "markdown",
      "source": [
        "よって、測定は1をとりますので、位相が正しく取れました。0.5なので-1になります。\n",
        "\n",
        "このように用意された、もしくは作り出した量子状態とユニタリ変換から量子回路で位相を取り出すことができました。\n",
        "以上です。"
      ]
    }
  ]
}