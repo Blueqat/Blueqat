{
 "cells": [
  {
   "cell_type": "markdown",
   "metadata": {
    "colab_type": "text",
    "id": "-EGZItx-Nuxp"
   },
   "source": [
    "## はじめに\n",
    "高速フーリエ変換（FFT）は、信号処理などで離散化されたデジタル信号の周波数解析などによく使われる離散フーリエ変換（DFT）を計算機上で高速に計算するアルゴリズムですが、同様のものが量子フーリエ変換（QFT）として量子コンピュータ回路で実現できます。"
   ]
  },
  {
   "cell_type": "markdown",
   "metadata": {
    "colab_type": "text",
    "id": "Jgt9KLNTN6in"
   },
   "source": [
    "高速フーリエ変換はpythonのnumpyを使うことで実装ができます。早速例題でやってみたいと思います。{0,1,0}という離散値をfftにかけてみます。"
   ]
  },
  {
   "cell_type": "code",
   "execution_count": 1,
   "metadata": {
    "colab": {
     "base_uri": "https://localhost:8080/",
     "height": 35
    },
    "colab_type": "code",
    "id": "9UtZ6sGqNsCY",
    "outputId": "f1aa47c9-b896-4323-a1f1-fb02c16a27fa"
   },
   "outputs": [
    {
     "name": "stdout",
     "output_type": "stream",
     "text": [
      "[ 1. +0.j        -0.5-0.8660254j -0.5+0.8660254j]\n"
     ]
    }
   ],
   "source": [
    "import numpy as np\n",
    "print(np.fft.fft([0,1,0]))"
   ]
  },
  {
   "cell_type": "markdown",
   "metadata": {
    "colab_type": "text",
    "id": "3UR-a-SXOB4u"
   },
   "source": [
    "このようになりました。高速フーリエ変換では、複素数が答えに出てきました。\n",
    "再度これに逆高速フーリエ変換をかけてみて元に戻ることを確認してみたいと思います。"
   ]
  },
  {
   "cell_type": "code",
   "execution_count": 2,
   "metadata": {
    "colab": {
     "base_uri": "https://localhost:8080/"
    },
    "colab_type": "code",
    "id": "pFTk9x1EN89d",
    "outputId": "86cde3a0-3c52-4f2c-ff05-617050849fb1"
   },
   "outputs": [
    {
     "name": "stdout",
     "output_type": "stream",
     "text": [
      "[0.00000000e+00+0.j 1.00000000e+00+0.j 7.40148683e-17+0.j]\n"
     ]
    }
   ],
   "source": [
    "print(np.fft.ifft(np.fft.fft([0,1,0])))"
   ]
  },
  {
   "cell_type": "markdown",
   "metadata": {
    "colab_type": "text",
    "id": "P2ZeFe18OQYM"
   },
   "source": [
    "だいたい元に戻っています。"
   ]
  },
  {
   "cell_type": "markdown",
   "metadata": {
    "colab_type": "text",
    "id": "iIH-EIf9Wbwq"
   },
   "source": [
    "## 高速フーリエ変換\n",
    "<img src=\"./img/007_1.png\">\n",
    "\n",
    "高速フーリエ変換は行列式の形で書くことができ、かつ式変形を行うことで、より小さい構想フーリエ変換の再帰計算に落とし込むことができます。"
   ]
  },
  {
   "cell_type": "markdown",
   "metadata": {
    "colab_type": "text",
    "id": "frPXb0tSWuI4"
   },
   "source": [
    "## 量子フーリエ変換\n",
    "量子フーリエ変換が高速フーリエ変換と異なるのは、入出力が量子状態であることです。入力の量子状態は波動関数の位相の小数成分で、出力はテンソル積で重なり合った波動の周波数成分の状態ベクトルです。\n",
    "\n",
    "<img src=\"./img/007_2.png\">"
   ]
  },
  {
   "cell_type": "markdown",
   "metadata": {
    "colab_type": "text",
    "id": "VrPrsJbkXGBt"
   },
   "source": [
    "量子フーリエ変換は上記の高速フーリエ変換と同様ですが、量子状態を入力値として出力にも量子状態を得るのが特徴です。\n",
    "回路は再帰的にQFTをかけて、実現できます。\n",
    "\n",
    "ここで特徴的なのは量子状態を出力で得ますが、計算してみると、F4 = [[1,1,1,1],[1,1j,-1,-1j],[1,-1,1,-1],[1,-1j,-1,1j]]/2\n",
    "なので、"
   ]
  },
  {
   "cell_type": "code",
   "execution_count": 3,
   "metadata": {
    "colab": {
     "base_uri": "https://localhost:8080/",
     "height": 35
    },
    "colab_type": "code",
    "id": "zRal4DsoN_IZ",
    "outputId": "93d85fb7-6df7-4c84-f3c5-11c51e7ee733"
   },
   "outputs": [
    {
     "name": "stdout",
     "output_type": "stream",
     "text": [
      "[ 0.5+0.j   0. -0.5j -0.5+0.j   0. +0.5j]\n"
     ]
    }
   ],
   "source": [
    "print(1/2*np.array([[1,1,1,1],[1,1j,-1,-1j],[1,-1,1,-1],[1,-1j,-1,1j]])@np.array([0,0,0,1]))                                                                 "
   ]
  },
  {
   "cell_type": "markdown",
   "metadata": {
    "colab_type": "text",
    "id": "Sp1BcLrRXOBE"
   },
   "source": [
    "状態ベクトルで量子状態が取り出せそうですが、出現確率は1/4ずつなので、観測してもダメそうです。FFTで確認してみると、"
   ]
  },
  {
   "cell_type": "code",
   "execution_count": 4,
   "metadata": {
    "colab": {
     "base_uri": "https://localhost:8080/",
     "height": 35
    },
    "colab_type": "code",
    "id": "4Ybgk9y5XLVo",
    "outputId": "bdf5fbdd-d989-4f18-921a-98a2b61a8b7a"
   },
   "outputs": [
    {
     "data": {
      "text/plain": [
       "array([ 0.5-0.j ,  0. -0.5j, -0.5-0.j ,  0. +0.5j])"
      ]
     },
     "execution_count": 4,
     "metadata": {},
     "output_type": "execute_result"
    }
   ],
   "source": [
    "np.fft.fft(np.array([0,0,0,1])/2).conj()"
   ]
  },
  {
   "cell_type": "markdown",
   "metadata": {
    "colab_type": "text",
    "id": "DcHriAJBXZQ1"
   },
   "source": [
    "実はFFTとQFTは定義の符号が反転しているので、共役を取る必要があります。"
   ]
  },
  {
   "cell_type": "markdown",
   "metadata": {
    "colab_type": "text",
    "id": "S8Wl7M0BXlIv"
   },
   "source": [
    "##量子回路での実装\n",
    "続いて量子回路での実装に入りたいと思います。\n",
    "量子回路では、再帰的に計算を行い、計算量を減らすというのが肝です。\n",
    "また、実機の搭載はまだ先のようで、任意回転角のコントロール回路が必要なので、その辺りも確認してみたいと思います。\n",
    "\n",
    "N=2の量子フーリエ変換回路は、\n",
    "\n",
    "<img src=\"./img/007_3.png\">\n",
    "\n",
    "また、Blueqatで実装する場合にはさらに使えるゲートで分解し、\n",
    "\n",
    "<img src=\"./img/007_4.png\">\n",
    "\n",
    "早速計算してみます。"
   ]
  },
  {
   "cell_type": "code",
   "execution_count": 5,
   "metadata": {
    "colab": {
     "base_uri": "https://localhost:8080/",
     "height": 53
    },
    "colab_type": "code",
    "id": "7TGgZvt6XXJW",
    "outputId": "65001996-3bda-4509-d94b-7709aeb716ec"
   },
   "outputs": [
    {
     "data": {
      "text/plain": [
       "array([ 5.00000000e-01+0.j , -8.32667268e-17-0.5j, -5.00000000e-01+0.j ,\n",
       "        8.32667268e-17+0.5j])"
      ]
     },
     "execution_count": 5,
     "metadata": {},
     "output_type": "execute_result"
    }
   ],
   "source": [
    "from blueqat import Circuit\n",
    "import math\n",
    "Circuit().x[0].x[1].h[0].rz(math.pi/4)[0].cx[1,0].rz(-math.pi/4)[0].cx[1,0].h[1].run()"
   ]
  },
  {
   "cell_type": "code",
   "execution_count": 6,
   "metadata": {
    "colab": {
     "base_uri": "https://localhost:8080/",
     "height": 35
    },
    "colab_type": "code",
    "id": "-AzmNlsdYakh",
    "outputId": "647a7f04-8743-47cc-f9b3-cbb1e49a1a23"
   },
   "outputs": [
    {
     "name": "stdout",
     "output_type": "stream",
     "text": [
      "[ 0.5+0.j   0. -0.5j -0.5+0.j   0. +0.5j]\n"
     ]
    }
   ],
   "source": [
    "print(1/2*np.array([[1,1,1,1],[1,1j,-1,-1j],[1,-1,1,-1],[1,-1j,-1,1j]])@np.array([0,0,0,1]))       "
   ]
  },
  {
   "cell_type": "markdown",
   "metadata": {
    "colab_type": "text",
    "id": "8SLmHR4NYh0z"
   },
   "source": [
    "あっているのが確認できました。"
   ]
  },
  {
   "cell_type": "markdown",
   "metadata": {
    "colab_type": "text",
    "id": "iWnuQxdbYlh9"
   },
   "source": [
    "##3量子ビット\n",
    "次に3量子ビットを行なってみます。回路は、\n",
    "\n",
    "<img src=\"./img/007_5.png\">\n",
    "\n",
    "Blueqatの回路では、"
   ]
  },
  {
   "cell_type": "code",
   "execution_count": 7,
   "metadata": {
    "colab": {
     "base_uri": "https://localhost:8080/",
     "height": 89
    },
    "colab_type": "code",
    "id": "g3VXPDz_Y0yv",
    "outputId": "b50118e8-aa50-4567-9bbb-a585f2114056"
   },
   "outputs": [
    {
     "data": {
      "text/plain": [
       "array([ 3.53553391e-01+1.38777878e-17j,  2.50000000e-01-2.50000000e-01j,\n",
       "       -6.93889390e-17-3.53553391e-01j, -2.50000000e-01-2.50000000e-01j,\n",
       "       -3.53553391e-01-1.38777878e-17j, -2.50000000e-01+2.50000000e-01j,\n",
       "        6.93889390e-17+3.53553391e-01j,  2.50000000e-01+2.50000000e-01j])"
      ]
     },
     "execution_count": 7,
     "metadata": {},
     "output_type": "execute_result"
    }
   ],
   "source": [
    "Circuit().x[:].h[0].rz(math.pi/4)[0].cx[1,0].rz(-math.pi/4)[0].cx[1,0].rz(math.pi/8)[0].cx[2,0].rz(-math.pi/8)[0].cx[2,0].h[1].rz(math.pi/4)[1].cx[2,1].rz(-math.pi/4)[1].cx[2,1].h[2].run()                                                                                        "
   ]
  },
  {
   "cell_type": "markdown",
   "metadata": {
    "colab_type": "text",
    "id": "kJwg7BDsY3yH"
   },
   "source": [
    "## 4量子ビット\n",
    "最後に4量子ビットです。\n",
    "\n",
    "<img src=\"./img/007_6.png\">"
   ]
  },
  {
   "cell_type": "code",
   "execution_count": 8,
   "metadata": {
    "colab": {
     "base_uri": "https://localhost:8080/",
     "height": 161
    },
    "colab_type": "code",
    "id": "HV42RLm0Ygxm",
    "outputId": "25d3a382-f0f8-4cf6-e3c4-2381d25199b0"
   },
   "outputs": [
    {
     "data": {
      "text/plain": [
       "array([ 2.50000000e-01+6.93889390e-18j,  2.30969883e-01-9.56708581e-02j,\n",
       "        1.76776695e-01-1.76776695e-01j,  9.56708581e-02-2.30969883e-01j,\n",
       "       -5.55111512e-17-2.50000000e-01j, -9.56708581e-02-2.30969883e-01j,\n",
       "       -1.76776695e-01-1.76776695e-01j, -2.30969883e-01-9.56708581e-02j,\n",
       "       -2.50000000e-01-6.93889390e-18j, -2.30969883e-01+9.56708581e-02j,\n",
       "       -1.76776695e-01+1.76776695e-01j, -9.56708581e-02+2.30969883e-01j,\n",
       "        5.55111512e-17+2.50000000e-01j,  9.56708581e-02+2.30969883e-01j,\n",
       "        1.76776695e-01+1.76776695e-01j,  2.30969883e-01+9.56708581e-02j])"
      ]
     },
     "execution_count": 8,
     "metadata": {},
     "output_type": "execute_result"
    }
   ],
   "source": [
    "Circuit().x[:].h[0].rz(math.pi/4)[0].cx[1,0].rz(-math.pi/4)[0].cx[1,0].rz(math.pi/8)[0].cx[2,0].rz(-math.pi/8)[0].cx[2,0].rz(math.pi/16)[0].cx[3,0].rz(-math.pi/16)[0].cx[3,0].h[1].rz(math.pi/4)[1].cx[2,1].rz(-math.pi/4)[1].cx[2,1].rz(math.pi/8)[1].cx[3,1].rz(-math.pi/8)[1].cx[3,1].h[2].rz(math.pi/4)[2].cx[3,2].rz(-math.pi/4)[2].cx[3,2].h[3].run()"
   ]
  },
  {
   "cell_type": "markdown",
   "metadata": {
    "colab_type": "text",
    "id": "C5rH2OgrZJRy"
   },
   "source": [
    "numpyのfftでも確認してみました。元の定義の符号がFFTとQFTが異なっているので、共役をとっています。"
   ]
  },
  {
   "cell_type": "code",
   "execution_count": 9,
   "metadata": {
    "colab": {
     "base_uri": "https://localhost:8080/",
     "height": 125
    },
    "colab_type": "code",
    "id": "1ct9jwk5ZHP2",
    "outputId": "64cd6d88-1cee-44f6-bfd7-0ee622167137"
   },
   "outputs": [
    {
     "name": "stdout",
     "output_type": "stream",
     "text": [
      "[ 0.25      -0.j          0.23096988-0.09567086j  0.1767767 -0.1767767j\n",
      "  0.09567086-0.23096988j  0.        -0.25j       -0.09567086-0.23096988j\n",
      " -0.1767767 -0.1767767j  -0.23096988-0.09567086j -0.25      -0.j\n",
      " -0.23096988+0.09567086j -0.1767767 +0.1767767j  -0.09567086+0.23096988j\n",
      "  0.        +0.25j        0.09567086+0.23096988j  0.1767767 +0.1767767j\n",
      "  0.23096988+0.09567086j]\n"
     ]
    }
   ],
   "source": [
    "print(np.fft.fft(np.array([0,0,0,0,0,0,0,0,0,0,0,0,0,0,0,1])/4).conj())  "
   ]
  },
  {
   "cell_type": "markdown",
   "metadata": {
    "colab_type": "text",
    "id": "1Y24V-fRZQy2"
   },
   "source": [
    "以上でblueqatで実装ができました。"
   ]
  }
 ],
 "metadata": {
  "colab": {
   "name": "tutorial007_qft.ipynb",
   "provenance": [],
   "version": "0.3.2"
  },
  "kernelspec": {
   "display_name": "Python 3",
   "language": "python",
   "name": "python3"
  },
  "language_info": {
   "codemirror_mode": {
    "name": "ipython",
    "version": 3
   },
   "file_extension": ".py",
   "mimetype": "text/x-python",
   "name": "python",
   "nbconvert_exporter": "python",
   "pygments_lexer": "ipython3",
   "version": "3.7.1"
  }
 },
 "nbformat": 4,
 "nbformat_minor": 1
}
