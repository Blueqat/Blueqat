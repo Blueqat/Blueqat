{
 "cells": [
  {
   "cell_type": "markdown",
   "metadata": {
    "colab_type": "text",
    "id": "NjHnSAbHrInP"
   },
   "source": [
    "# 基本回路の作成方法\n",
    "ここでは一番最初の量子コンピュータの計算の基本を確認したいと思います。\n",
    "まずはblueqatをインストールします。"
   ]
  },
  {
   "cell_type": "code",
   "execution_count": 0,
   "metadata": {
    "colab": {},
    "colab_type": "code",
    "id": "0ss4RJk9jbGw"
   },
   "outputs": [],
   "source": [
    "!pip install blueqat"
   ]
  },
  {
   "cell_type": "markdown",
   "metadata": {
    "colab_type": "text",
    "id": "PKhFYi-drld1"
   },
   "source": [
    "## 回路の作成\n",
    "基本回路は簡単に作れます。量子ビット数を指定しても指定しなくても大丈夫です。"
   ]
  },
  {
   "cell_type": "code",
   "execution_count": 1,
   "metadata": {
    "colab": {},
    "colab_type": "code",
    "id": "O674HiVxjc7P"
   },
   "outputs": [],
   "source": [
    "from blueqat import Circuit\n",
    "import math\n",
    "\n",
    "#量子ビット数を指定しないで回路が作れます\n",
    "c = Circuit()\n",
    "\n",
    "# 量子ビット数を指定することもできます\n",
    "c = Circuit(3) # 3量子ビット"
   ]
  },
  {
   "cell_type": "markdown",
   "metadata": {
    "colab_type": "text",
    "id": "oFkt8P9CrhEA"
   },
   "source": [
    "## メソッドチェーン\n",
    "\n",
    "BlueqatのCircuitでは、ゲートの追加にメソッドチェーンを採用しています。また、qubitを指定するのに、[]を利用しています。"
   ]
  },
  {
   "cell_type": "code",
   "execution_count": 2,
   "metadata": {
    "colab": {
     "base_uri": "https://localhost:8080/",
     "height": 34
    },
    "colab_type": "code",
    "id": "WFzxl7hwrdBd",
    "outputId": "959c600e-b70b-4721-a90d-925e2bdcb8d1"
   },
   "outputs": [
    {
     "data": {
      "text/plain": [
       "<blueqat.circuit.Circuit at 0x7fb679b21588>"
      ]
     },
     "execution_count": 2,
     "metadata": {},
     "output_type": "execute_result"
    }
   ],
   "source": [
    "#繋げて書けます。\n",
    "Circuit().h[0].x[0].z[0]\n",
    "\n",
    "# 分けて書くこともできます。\n",
    "c = Circuit().h[0]\n",
    "c.x[0].z[0]"
   ]
  },
  {
   "cell_type": "markdown",
   "metadata": {
    "colab_type": "text",
    "id": "8iaHrnn8tE4M"
   },
   "source": [
    "## スライス記法\n",
    "Pythonのスライス記法により、配列や文字列を範囲指定することができ、ゲート適用に使えます。"
   ]
  },
  {
   "cell_type": "code",
   "execution_count": 4,
   "metadata": {
    "colab": {},
    "colab_type": "code",
    "id": "usP0odKfs4xp"
   },
   "outputs": [
    {
     "data": {
      "text/plain": [
       "'bd'"
      ]
     },
     "execution_count": 4,
     "metadata": {},
     "output_type": "execute_result"
    }
   ],
   "source": [
    "# スライス記法の例:\n",
    "s = \"abcde\"\n",
    "s[1:3] # “bc”: s[1]から、s[3]の直前まで\n",
    "s[:3] # “abc”: sの先頭から、s[3]の直前まで\n",
    "s[3:] # “de”: s[3]から、sの末尾まで\n",
    "s[:] # “abcde”: sの先頭から末尾まで\n",
    "s[1:4:2] # s[1:4]を2個おきに取る(つまり、s[1]とs[3])"
   ]
  },
  {
   "cell_type": "code",
   "execution_count": 5,
   "metadata": {
    "colab": {},
    "colab_type": "code",
    "id": "xwBDPSuztcbJ"
   },
   "outputs": [
    {
     "data": {
      "text/plain": [
       "<blueqat.circuit.Circuit at 0x7fb679b21b70>"
      ]
     },
     "execution_count": 5,
     "metadata": {},
     "output_type": "execute_result"
    }
   ],
   "source": [
    "Circuit().z[1:3] # 1,2にZゲート\n",
    "Circuit().x[:3] # 3の直前まで(0, 1, 2)にXゲート\n",
    "Circuit().h[:] # 全ビットにHゲート\n",
    "Circuit().x[1, 2] # 1ビットゲートではカンマでも書ける"
   ]
  },
  {
   "cell_type": "markdown",
   "metadata": {
    "colab_type": "text",
    "id": "NueRsFwJthAM"
   },
   "source": [
    "## 回転ゲート\n",
    "回転ゲートは、角度の指定は()で、量子ビットの指定は[]で行います"
   ]
  },
  {
   "cell_type": "code",
   "execution_count": 6,
   "metadata": {
    "colab": {},
    "colab_type": "code",
    "id": "hTNFRCaQtyRp"
   },
   "outputs": [
    {
     "data": {
      "text/plain": [
       "<blueqat.circuit.Circuit at 0x7fb679b21908>"
      ]
     },
     "execution_count": 6,
     "metadata": {},
     "output_type": "execute_result"
    }
   ],
   "source": [
    "Circuit().rz(math.pi / 4)[0]"
   ]
  },
  {
   "cell_type": "markdown",
   "metadata": {
    "colab_type": "text",
    "id": "j-RsIi7OtrJA"
   },
   "source": [
    "## 測定\n",
    "測定もゲート適用と同様に行います"
   ]
  },
  {
   "cell_type": "code",
   "execution_count": 7,
   "metadata": {
    "colab": {},
    "colab_type": "code",
    "id": "ayI7ZlbZtmll"
   },
   "outputs": [
    {
     "data": {
      "text/plain": [
       "<blueqat.circuit.Circuit at 0x7fb6c06940f0>"
      ]
     },
     "execution_count": 7,
     "metadata": {},
     "output_type": "execute_result"
    }
   ],
   "source": [
    "Circuit().m[0]"
   ]
  },
  {
   "cell_type": "markdown",
   "metadata": {
    "colab_type": "text",
    "id": "wHrRyYvfuCMC"
   },
   "source": [
    "## run()\n",
    "作ったCircuitはrun()メソッドで実行することができます。\n",
    "run()メソッドは、実行後の状態ベクトルを返します。"
   ]
  },
  {
   "cell_type": "code",
   "execution_count": 8,
   "metadata": {
    "colab": {
     "base_uri": "https://localhost:8080/",
     "height": 34
    },
    "colab_type": "code",
    "id": "s4nPf83otvoG",
    "outputId": "2b357dca-8a7d-4a5d-d1f5-630dcb47c4e5"
   },
   "outputs": [
    {
     "data": {
      "text/plain": [
       "array([0.70710678+0.j, 0.        +0.j, 0.        +0.j, 0.70710678+0.j])"
      ]
     },
     "execution_count": 8,
     "metadata": {},
     "output_type": "execute_result"
    }
   ],
   "source": [
    "Circuit().h[0].cx[0,1].run()"
   ]
  },
  {
   "cell_type": "markdown",
   "metadata": {
    "colab_type": "text",
    "id": "fUTc3mxmuM06"
   },
   "source": [
    "何度か測定を行って、その結果を取得したい場合は、run()メソッドの引数にshots=...を追加します"
   ]
  },
  {
   "cell_type": "code",
   "execution_count": 9,
   "metadata": {
    "colab": {
     "base_uri": "https://localhost:8080/",
     "height": 34
    },
    "colab_type": "code",
    "id": "y-gRFg5huIRv",
    "outputId": "0ed38dca-05fd-46a8-999d-2475e8bb087f"
   },
   "outputs": [
    {
     "data": {
      "text/plain": [
       "Counter({'10': 54, '00': 46})"
      ]
     },
     "execution_count": 9,
     "metadata": {},
     "output_type": "execute_result"
    }
   ],
   "source": [
    "c = Circuit().h[0].cx[0,1].m[0]\n",
    "c.run(shots=100)"
   ]
  },
  {
   "cell_type": "code",
   "execution_count": null,
   "metadata": {},
   "outputs": [],
   "source": []
  }
 ],
 "metadata": {
  "colab": {
   "name": "tutorial001_basic_circuit.ipynb",
   "provenance": [],
   "version": "0.3.2"
  },
  "kernelspec": {
   "display_name": "Python 3",
   "language": "python",
   "name": "python3"
  },
  "language_info": {
   "codemirror_mode": {
    "name": "ipython",
    "version": 3
   },
   "file_extension": ".py",
   "mimetype": "text/x-python",
   "name": "python",
   "nbconvert_exporter": "python",
   "pygments_lexer": "ipython3",
   "version": "3.7.1"
  }
 },
 "nbformat": 4,
 "nbformat_minor": 1
}
