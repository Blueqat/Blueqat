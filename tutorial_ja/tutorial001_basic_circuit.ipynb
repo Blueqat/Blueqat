{
  "nbformat": 4,
  "nbformat_minor": 0,
  "metadata": {
    "colab": {
      "name": "tutorial001_basic_circuit.ipynb",
      "version": "0.3.2",
      "provenance": []
    },
    "kernelspec": {
      "name": "python3",
      "display_name": "Python 3"
    }
  },
  "cells": [
    {
      "metadata": {
        "id": "NjHnSAbHrInP",
        "colab_type": "text"
      },
      "cell_type": "markdown",
      "source": [
        "#基本回路の作成方法\n",
        "ここでは一番最初の量子コンピュータの計算の基本を確認したいと思います。\n",
        "まずはblueqatをインストールします。"
      ]
    },
    {
      "metadata": {
        "id": "0ss4RJk9jbGw",
        "colab_type": "code",
        "colab": {}
      },
      "cell_type": "code",
      "source": [
        "!pip install blueqat"
      ],
      "execution_count": 0,
      "outputs": []
    },
    {
      "metadata": {
        "id": "PKhFYi-drld1",
        "colab_type": "text"
      },
      "cell_type": "markdown",
      "source": [
        "##回路の作成\n",
        "基本回路は簡単に作れます。量子ビット数を指定しても指定しなくても大丈夫です。"
      ]
    },
    {
      "metadata": {
        "id": "O674HiVxjc7P",
        "colab_type": "code",
        "colab": {}
      },
      "cell_type": "code",
      "source": [
        "from blueqat import Circuit\n",
        "import math\n",
        "\n",
        "#量子ビット数を指定しないで回路が作れます\n",
        "c = Circuit()\n",
        "\n",
        "# 量子ビット数を指定することもできます\n",
        "c = Circuit(3) # 3量子ビット"
      ],
      "execution_count": 0,
      "outputs": []
    },
    {
      "metadata": {
        "id": "oFkt8P9CrhEA",
        "colab_type": "text"
      },
      "cell_type": "markdown",
      "source": [
        "##メソッドチェーン\n",
        "\n",
        "BlueqatのCircuitでは、ゲートの追加にメソッドチェーンを採用しています。また、qubitを指定するのに、[]を利用しています。"
      ]
    },
    {
      "metadata": {
        "id": "WFzxl7hwrdBd",
        "colab_type": "code",
        "colab": {
          "base_uri": "https://localhost:8080/",
          "height": 34
        },
        "outputId": "959c600e-b70b-4721-a90d-925e2bdcb8d1"
      },
      "cell_type": "code",
      "source": [
        "#繋げて書けます。\n",
        "Circuit().h[0].x[0].z[0]\n",
        "\n",
        "# 分けて書くこともできます。\n",
        "c = Circuit().h[0]\n",
        "c.x[0].z[0]"
      ],
      "execution_count": 4,
      "outputs": [
        {
          "output_type": "execute_result",
          "data": {
            "text/plain": [
              "<blueqat.circuit.Circuit at 0x7fca52cd49b0>"
            ]
          },
          "metadata": {
            "tags": []
          },
          "execution_count": 4
        }
      ]
    },
    {
      "metadata": {
        "id": "8iaHrnn8tE4M",
        "colab_type": "text"
      },
      "cell_type": "markdown",
      "source": [
        "##スライス記法\n",
        "Pythonのスライス記法により、配列や文字列を範囲指定することができ、ゲート適用に使えます。"
      ]
    },
    {
      "metadata": {
        "id": "usP0odKfs4xp",
        "colab_type": "code",
        "colab": {}
      },
      "cell_type": "code",
      "source": [
        "# スライス記法の例:\n",
        "s = “abcde”\n",
        "s[1:3] # “bc”: s[1]から、s[3]の直前まで\n",
        "s[:3] # “abc”: sの先頭から、s[3]の直前まで\n",
        "s[3:] # “de”: s[3]から、sの末尾まで\n",
        "s[:] # “abcde”: sの先頭から末尾まで\n",
        "s[1:4:2] # s[1:4]を2個おきに取る(つまり、s[1]とs[3])"
      ],
      "execution_count": 0,
      "outputs": []
    },
    {
      "metadata": {
        "id": "xwBDPSuztcbJ",
        "colab_type": "code",
        "colab": {}
      },
      "cell_type": "code",
      "source": [
        "Circuit().z[1:3] # 1,2にZゲート\n",
        "Circuit().x[:3] # 3の直前まで(0, 1, 2)にXゲート\n",
        "Circuit().h[:] # 全ビットにHゲート\n",
        "Circuit().x[1, 2] # 1ビットゲートではカンマでも書ける"
      ],
      "execution_count": 0,
      "outputs": []
    },
    {
      "metadata": {
        "id": "NueRsFwJthAM",
        "colab_type": "text"
      },
      "cell_type": "markdown",
      "source": [
        "##回転ゲート\n",
        "回転ゲートは、角度の指定は()で、量子ビットの指定は[]で行います"
      ]
    },
    {
      "metadata": {
        "id": "hTNFRCaQtyRp",
        "colab_type": "code",
        "colab": {}
      },
      "cell_type": "code",
      "source": [
        "Circuit().rz(math.pi / 4)[0]"
      ],
      "execution_count": 0,
      "outputs": []
    },
    {
      "metadata": {
        "id": "j-RsIi7OtrJA",
        "colab_type": "text"
      },
      "cell_type": "markdown",
      "source": [
        "##測定\n",
        "測定もゲート適用と同様に行います"
      ]
    },
    {
      "metadata": {
        "id": "ayI7ZlbZtmll",
        "colab_type": "code",
        "colab": {}
      },
      "cell_type": "code",
      "source": [
        "Circuit().m[0]"
      ],
      "execution_count": 0,
      "outputs": []
    },
    {
      "metadata": {
        "id": "wHrRyYvfuCMC",
        "colab_type": "text"
      },
      "cell_type": "markdown",
      "source": [
        "##run()\n",
        "作ったCircuitはrun()メソッドで実行することができます。\n",
        "run()メソッドは、実行後の状態ベクトルを返します。"
      ]
    },
    {
      "metadata": {
        "id": "s4nPf83otvoG",
        "colab_type": "code",
        "colab": {
          "base_uri": "https://localhost:8080/",
          "height": 34
        },
        "outputId": "2b357dca-8a7d-4a5d-d1f5-630dcb47c4e5"
      },
      "cell_type": "code",
      "source": [
        "Circuit().h[0].cx[0,1].run()"
      ],
      "execution_count": 9,
      "outputs": [
        {
          "output_type": "execute_result",
          "data": {
            "text/plain": [
              "array([0.70710678+0.j, 0.        +0.j, 0.        +0.j, 0.70710678+0.j])"
            ]
          },
          "metadata": {
            "tags": []
          },
          "execution_count": 9
        }
      ]
    },
    {
      "metadata": {
        "id": "fUTc3mxmuM06",
        "colab_type": "text"
      },
      "cell_type": "markdown",
      "source": [
        "測定を行った場合、測定結果はlast_result()メソッドで取得できます。"
      ]
    },
    {
      "metadata": {
        "id": "y-gRFg5huIRv",
        "colab_type": "code",
        "colab": {
          "base_uri": "https://localhost:8080/",
          "height": 34
        },
        "outputId": "0ed38dca-05fd-46a8-999d-2475e8bb087f"
      },
      "cell_type": "code",
      "source": [
        "c = Circuit().h[0].cx[0,1].m[0]\n",
        "c.run() # array([0.+0.j, 0.+0.j, 0.+0.j, 1.+0.j])\n",
        "c.last_result() # (1, 0)"
      ],
      "execution_count": 11,
      "outputs": [
        {
          "output_type": "execute_result",
          "data": {
            "text/plain": [
              "(1, 0)"
            ]
          },
          "metadata": {
            "tags": []
          },
          "execution_count": 11
        }
      ]
    }
  ]
}