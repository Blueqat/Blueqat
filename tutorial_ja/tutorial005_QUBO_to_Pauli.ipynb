{
 "cells": [
  {
   "cell_type": "markdown",
   "metadata": {
    "colab_type": "text",
    "id": "XH6JnQKHOpNJ"
   },
   "source": [
    "# QUBOを量子ゲートモデルシミュレータに自動変換\n",
    "WildqatではQUBOをベースとしたイジング問題を解いてきました。これらを解く際にはQUBOmatrixを作成し、Wildqatの内部シミュレーションもしくは外部のシミュレーションを活用できますが、今回は量子ゲートモデルでも同様の計算ができるため、自動変換機能を使って計算して見ます。"
   ]
  },
  {
   "cell_type": "markdown",
   "metadata": {
    "colab_type": "text",
    "id": "IDK-PyXWO8N6"
   },
   "source": [
    "# WildqatとBlueqatの準備\n",
    "今回はQUBOシミュレータのWildqatと量子ゲートシミュレータのBlueqatを両方使用します。"
   ]
  },
  {
   "cell_type": "code",
   "execution_count": 0,
   "metadata": {
    "colab": {},
    "colab_type": "code",
    "id": "yvv5gMdJOoIZ"
   },
   "outputs": [],
   "source": [
    "!pip install wildqat\n",
    "!pip install blueqat"
   ]
  },
  {
   "cell_type": "markdown",
   "metadata": {
    "colab_type": "text",
    "id": "NR4dHQC8O7x8"
   },
   "source": [
    "# 例題\n",
    "早速やってみます。Wildqatの機能で、N量子ビットからK量子ビットを選ぶという関数を使って自動的にQUBOを作った上に、それをBlueqatに計算できるように変換して計算して見ます。まずは4量子ビットから1量子ビットを選ぶというシミュレーションをしてみます。"
   ]
  },
  {
   "cell_type": "code",
   "execution_count": 1,
   "metadata": {
    "colab": {
     "base_uri": "https://localhost:8080/",
     "height": 54
    },
    "colab_type": "code",
    "id": "HmUcF-HxPghV",
    "outputId": "cb99a4cc-c2bb-4ba7-d9bf-32b2412921d1"
   },
   "outputs": [
    {
     "name": "stdout",
     "output_type": "stream",
     "text": [
      "(((1, 0, 0, 0), 0.24466528026549272), ((0, 0, 0, 1), 0.24466528026549272), ((0, 1, 0, 0), 0.2446652802654926), ((0, 0, 1, 0), 0.2446652802654926), ((1, 1, 1, 1), 0.004810730361548221))\n"
     ]
    }
   ],
   "source": [
    "import wildqat as wq\n",
    "from blueqat import vqe\n",
    "\n",
    "qubo = wq.pauli(wq.sel(4,1))\n",
    "step = 4\n",
    "result = vqe.Vqe(vqe.QaoaAnsatz(qubo,step)).run()\n",
    "print(result.most_common(5))"
   ]
  },
  {
   "cell_type": "markdown",
   "metadata": {
    "colab_type": "text",
    "id": "7xa7ebf2PszK"
   },
   "source": [
    "上記ですぐに終わりました。\n",
    "wq.sel()で4量子ビットから1量子ビットを選びます。\n",
    "今回計算の精度は4stepにしてみました。\n",
    "\n",
    "そして、BlueqatのQAOA+VQEのシミュレータに入れて上位５位の出現確率を状態ベクトルから選びます。\n",
    "結果はきちんと計算ができ、見事4量子ビットから1量子ビットが選ばれました。"
   ]
  },
  {
   "cell_type": "code",
   "execution_count": 3,
   "metadata": {
    "colab": {
     "base_uri": "https://localhost:8080/",
     "height": 54
    },
    "colab_type": "code",
    "id": "zDzwpXWfPqX3",
    "outputId": "dad6f8f6-97cd-4ab7-f13b-71e95904c226"
   },
   "outputs": [
    {
     "name": "stdout",
     "output_type": "stream",
     "text": [
      "(((0, 0, 0, 0, 0, 0, 0, 0, 0, 0), 0.00634249196711271), ((1, 1, 0, 0, 0, 0, 0, 0, 0, 1), 0.005852883243572171), ((0, 1, 0, 0, 1, 1, 0, 0, 0, 0), 0.005852883243572169), ((1, 0, 0, 1, 0, 0, 1, 0, 0, 0), 0.005852883243572167), ((0, 0, 0, 0, 1, 1, 1, 0, 0, 0), 0.005852883243572167))\n"
     ]
    }
   ],
   "source": [
    "qubo = wq.pauli(wq.sel(10,3))\n",
    "step = 8\n",
    "result = vqe.Vqe(vqe.QaoaAnsatz(qubo,step)).run()\n",
    "print(result.most_common(5))"
   ]
  },
  {
   "cell_type": "markdown",
   "metadata": {
    "colab_type": "text",
    "id": "2x5gX2MwQ-JQ"
   },
   "source": [
    "きちんと計算できました。大規模計算には問題がありますが、とりあえずシミュレーションはうまくいきました。量子ゲートはだいたい組合せ最適化問題は量子ビット数の制限があります。"
   ]
  }
 ],
 "metadata": {
  "colab": {
   "name": "turorial025_QUBO_to_Pauli",
   "provenance": [],
   "version": "0.3.2"
  },
  "kernelspec": {
   "display_name": "Python 3",
   "language": "python",
   "name": "python3"
  },
  "language_info": {
   "codemirror_mode": {
    "name": "ipython",
    "version": 3
   },
   "file_extension": ".py",
   "mimetype": "text/x-python",
   "name": "python",
   "nbconvert_exporter": "python",
   "pygments_lexer": "ipython3",
   "version": "3.7.1"
  }
 },
 "nbformat": 4,
 "nbformat_minor": 1
}
