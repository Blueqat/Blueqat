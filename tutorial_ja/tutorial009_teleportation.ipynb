{
  "nbformat": 4,
  "nbformat_minor": 0,
  "metadata": {
    "colab": {
      "name": "tutorial009_teleportation.ipynb",
      "version": "0.3.2",
      "provenance": []
    },
    "kernelspec": {
      "name": "python3",
      "display_name": "Python 3"
    }
  },
  "cells": [
    {
      "metadata": {
        "id": "S1zWI2MZgDjq",
        "colab_type": "text"
      },
      "cell_type": "markdown",
      "source": [
        "##量子テレポーテーション\n",
        "量子テレポーテーションは量子ビット同士で相互に情報がもつれた量子もつれを生成し、それを測定し、測定結果を持って、最終的な転送先の量子ビットの操作をすることで量子状態を写すことができルカ色です。遠距離通信などで従来の通信方法と量子のもつれを活用して量子状態を移すための手段です。\n",
        "\n",
        "今回はBlueqatコードでこの量子テレポーテーションの実装をしてみます。"
      ]
    },
    {
      "metadata": {
        "id": "fzavAKhL6E2H",
        "colab_type": "text"
      },
      "cell_type": "markdown",
      "source": [
        "##実装手順\n",
        "最初にq0の状態を決めます。ここでは?にしています。次に、最初に量子もつれを作るのはq1とq2です。q1にHゲート、q1,q2にCNOTをかけることで、EPRペアと呼ばれる量子もつれ状態を実現できます。そして、ベル測定という部分ですが、q0,q1にもつれを発生させ、q0にHゲートをかけてから測定をします。今回は測定の代わりにCX/CZ回路で代替します。本来はCX/CZの代わりに測定をして、Xゲート、Zゲートを適用させます。\n",
        "\n",
        "実際の回路は下記のように実装をしました。\n",
        "\n",
        "<img src=\"./img/009_1.png\">\n",
        "\n",
        "コードは、"
      ]
    },
    {
      "metadata": {
        "id": "kHhS1V-EgCjG",
        "colab_type": "code",
        "colab": {
          "base_uri": "https://localhost:8080/",
          "height": 35
        },
        "outputId": "256a3312-c751-4c30-e67d-92891cff446e"
      },
      "cell_type": "code",
      "source": [
        "from blueqat import Circuit\n",
        "import math\n",
        "\n",
        "#量子テレポーテーション回路\n",
        "Circuit().h[1].cx[1,2].cx[0,1].h[0].cx[1,2].h[2].cx[0,2].h[2]"
      ],
      "execution_count": 1,
      "outputs": [
        {
          "output_type": "execute_result",
          "data": {
            "text/plain": [
              "<blueqat.circuit.Circuit at 0x7f55dd04d0b8>"
            ]
          },
          "metadata": {
            "tags": []
          },
          "execution_count": 1
        }
      ]
    },
    {
      "metadata": {
        "id": "hU3ElWEP6sUI",
        "colab_type": "text"
      },
      "cell_type": "markdown",
      "source": [
        "このように通常のコードで実現できました。状態を少しだけ確認してみます。\n",
        "∣\n",
        "0\n",
        "⟩\n",
        "は何もしなければいいので、"
      ]
    },
    {
      "metadata": {
        "id": "xTXoQX_76p0c",
        "colab_type": "code",
        "colab": {
          "base_uri": "https://localhost:8080/",
          "height": 377
        },
        "outputId": "6104c0e4-996b-41f8-d01f-19f963a55687"
      },
      "cell_type": "code",
      "source": [
        "for i in range(20): \n",
        "    c = Circuit().h[1].cx[1,2].cx[0,1].h[0].cx[1,2].h[2].cx[0,2].h[2].m[:] \n",
        "    c.run() \n",
        "    print(c.last_result()) "
      ],
      "execution_count": 2,
      "outputs": [
        {
          "output_type": "stream",
          "text": [
            "(1, 0, 0)\n",
            "(1, 0, 0)\n",
            "(0, 0, 0)\n",
            "(0, 0, 0)\n",
            "(0, 0, 0)\n",
            "(0, 1, 0)\n",
            "(1, 0, 0)\n",
            "(1, 0, 0)\n",
            "(1, 0, 0)\n",
            "(1, 0, 0)\n",
            "(0, 0, 0)\n",
            "(0, 0, 0)\n",
            "(0, 0, 0)\n",
            "(1, 0, 0)\n",
            "(0, 0, 0)\n",
            "(0, 1, 0)\n",
            "(0, 1, 0)\n",
            "(0, 1, 0)\n",
            "(1, 0, 0)\n",
            "(0, 0, 0)\n"
          ],
          "name": "stdout"
        }
      ]
    },
    {
      "metadata": {
        "id": "2DPBdeCW6yVA",
        "colab_type": "text"
      },
      "cell_type": "markdown",
      "source": [
        "q0とq1の測定結果によらずq2にq0の元の状態の0が移っています。次に∣1⟩は、"
      ]
    },
    {
      "metadata": {
        "id": "8HBWEmG86vmA",
        "colab_type": "code",
        "colab": {
          "base_uri": "https://localhost:8080/",
          "height": 377
        },
        "outputId": "c3f7610f-7779-4246-df8b-8f691d1ff2a0"
      },
      "cell_type": "code",
      "source": [
        "for i in range(20): \n",
        "    c = Circuit().x[0].h[1].cx[1,2].cx[0,1].h[0].cx[1,2].h[2].cx[0,2].h[2].m[:] \n",
        "    c.run() \n",
        "    print(c.last_result()) "
      ],
      "execution_count": 3,
      "outputs": [
        {
          "output_type": "stream",
          "text": [
            "(0, 0, 1)\n",
            "(1, 1, 1)\n",
            "(0, 1, 1)\n",
            "(1, 1, 1)\n",
            "(0, 1, 1)\n",
            "(1, 1, 1)\n",
            "(1, 0, 1)\n",
            "(0, 1, 1)\n",
            "(0, 0, 1)\n",
            "(0, 0, 1)\n",
            "(1, 1, 1)\n",
            "(1, 0, 1)\n",
            "(1, 1, 1)\n",
            "(0, 1, 1)\n",
            "(0, 1, 1)\n",
            "(1, 1, 1)\n",
            "(1, 1, 1)\n",
            "(1, 1, 1)\n",
            "(0, 0, 1)\n",
            "(1, 0, 1)\n"
          ],
          "name": "stdout"
        }
      ]
    },
    {
      "metadata": {
        "id": "E2wPP9I_65Ff",
        "colab_type": "text"
      },
      "cell_type": "markdown",
      "source": [
        "同様にq0とq1の測定結果によらず、q0の状態の1が移ってます。最後にHゲートをq0にかけてみると、\n",
        "\n"
      ]
    },
    {
      "metadata": {
        "id": "5D4uQkcy62AS",
        "colab_type": "code",
        "colab": {
          "base_uri": "https://localhost:8080/",
          "height": 377
        },
        "outputId": "e4b2c89c-db0b-4b07-b937-550a7a6f6a73"
      },
      "cell_type": "code",
      "source": [
        "for i in range(20): \n",
        "    c = Circuit().h[0].h[1].cx[1,2].cx[0,1].h[0].cx[1,2].h[2].cx[0,2].h[2].m[:] \n",
        "    c.run() \n",
        "    print(c.last_result())\n",
        "                            "
      ],
      "execution_count": 4,
      "outputs": [
        {
          "output_type": "stream",
          "text": [
            "(1, 0, 1)\n",
            "(1, 0, 0)\n",
            "(0, 1, 0)\n",
            "(0, 1, 1)\n",
            "(0, 0, 1)\n",
            "(1, 1, 1)\n",
            "(0, 0, 1)\n",
            "(1, 1, 0)\n",
            "(0, 1, 0)\n",
            "(0, 1, 0)\n",
            "(0, 0, 1)\n",
            "(1, 0, 1)\n",
            "(1, 1, 1)\n",
            "(0, 0, 0)\n",
            "(1, 0, 0)\n",
            "(1, 0, 0)\n",
            "(0, 0, 0)\n",
            "(0, 1, 0)\n",
            "(1, 1, 0)\n",
            "(1, 0, 1)\n"
          ],
          "name": "stdout"
        }
      ]
    },
    {
      "metadata": {
        "id": "HB4_ejLe6-Hn",
        "colab_type": "text"
      },
      "cell_type": "markdown",
      "source": [
        "約半々でq2に0と1がでるようになって重ね合わせ状態が移っています。以上です。"
      ]
    }
  ]
}