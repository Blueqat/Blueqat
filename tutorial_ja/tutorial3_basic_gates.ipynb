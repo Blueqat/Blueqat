{
  "nbformat": 4,
  "nbformat_minor": 0,
  "metadata": {
    "colab": {
      "name": "tutorial3_basic_gates.ipynb",
      "version": "0.3.2",
      "provenance": []
    },
    "kernelspec": {
      "name": "python3",
      "display_name": "Python 3"
    }
  },
  "cells": [
    {
      "metadata": {
        "id": "ZfppwX5TAd-P",
        "colab_type": "text"
      },
      "cell_type": "markdown",
      "source": [
        "#いくつか基本的なゲートの確認"
      ]
    },
    {
      "metadata": {
        "id": "mL3XbZDOAmZc",
        "colab_type": "text"
      },
      "cell_type": "markdown",
      "source": [
        "Blueqatを使って基本的なゲートなどの確認をしてみたいと思います。  \n",
        "下記から入手できます。\n",
        "\n",
        "https://github.com/mdrft/Blueqat\n",
        "\n",
        "##CNOT Reverse"
      ]
    },
    {
      "metadata": {
        "id": "R4zgRvFnA9Ld",
        "colab_type": "text"
      },
      "cell_type": "markdown",
      "source": [
        "通常ゲートには結合の向きや結合できる量子ビットに制限がありますが、ここではアダマールゲートとCNOTゲートを組み合わせることで、CNOTのコントロールビットとターゲットビット\n",
        "を反転させることができます。"
      ]
    },
    {
      "metadata": {
        "id": "p3C4XJvRAb4E",
        "colab_type": "code",
        "colab": {}
      },
      "cell_type": "code",
      "source": [
        "import numpy as np\n",
        "from blueqat import Circuit"
      ],
      "execution_count": 0,
      "outputs": []
    },
    {
      "metadata": {
        "id": "8Kl1xka-AcmC",
        "colab_type": "text"
      },
      "cell_type": "markdown",
      "source": [
        "次に一連のゲート操作を再現します。まずは0番目の量子ビットにXゲートを作用させて1にした上でCNOTを適用しますが、HゲートでこのCNOTを囲むことで、CNOT Reverseを実現できます。\n",
        "<img src=\"https://camo.qiitausercontent.com/af23b451165f8d2dbb674ddb2a83fa410c3f46c0/68747470733a2f2f71696974612d696d6167652d73746f72652e73332e616d617a6f6e6177732e636f6d2f302f3231383639342f35306362376362302d376432652d356464392d386335632d3164633134623731336333392e706e67\">"
      ]
    },
    {
      "metadata": {
        "id": "4KEHXGm-BrNJ",
        "colab_type": "code",
        "colab": {
          "base_uri": "https://localhost:8080/",
          "height": 34
        },
        "outputId": "82caf4a7-bf77-4ec8-daf0-5f171d2a91ec"
      },
      "cell_type": "code",
      "source": [
        "c = Circuit().x[0].h[:].cnot[1,0].h[:]\n",
        "c.run()"
      ],
      "execution_count": 5,
      "outputs": [
        {
          "output_type": "execute_result",
          "data": {
            "text/plain": [
              "array([0.+0.j, 0.+0.j, 0.+0.j, 1.+0.j])"
            ]
          },
          "metadata": {
            "tags": []
          },
          "execution_count": 5
        }
      ]
    },
    {
      "metadata": {
        "id": "iZDCjpXTBxtw",
        "colab_type": "code",
        "colab": {
          "base_uri": "https://localhost:8080/",
          "height": 34
        },
        "outputId": "6c5f9fdf-dbfc-4e9d-fecd-6d000d29ba6b"
      },
      "cell_type": "code",
      "source": [
        "bin(3)"
      ],
      "execution_count": 7,
      "outputs": [
        {
          "output_type": "execute_result",
          "data": {
            "text/plain": [
              "'0b11'"
            ]
          },
          "metadata": {
            "tags": []
          },
          "execution_count": 7
        }
      ]
    },
    {
      "metadata": {
        "id": "vseVy-0yB7-V",
        "colab_type": "text"
      },
      "cell_type": "markdown",
      "source": [
        "量子ビットは両方とも1となっており、HゲートによってCNOTのコントロールビットとターゲットビットを逆に変換することができました。"
      ]
    },
    {
      "metadata": {
        "id": "ooWcHY6-ClM2",
        "colab_type": "text"
      },
      "cell_type": "markdown",
      "source": [
        "##SWAPゲート"
      ]
    },
    {
      "metadata": {
        "id": "LJsTqOVYCsFF",
        "colab_type": "text"
      },
      "cell_type": "markdown",
      "source": [
        "２つのゲートを入れ替えるにはSWAPゲートを使います。SWAPゲートはCNOTゲートを３回適用することで実現できます。\n",
        "\n",
        "<img src=\"https://camo.qiitausercontent.com/277a5046fba66d9dc6c553c802faa3232eb2c373/68747470733a2f2f71696974612d696d6167652d73746f72652e73332e616d617a6f6e6177732e636f6d2f302f3231383639342f63333365353362362d336661632d623464342d643366372d6436336266383465653766662e706e67\">\n",
        "\n",
        "真ん中のCNOTゲートは都合でCNOT Reverseになっていますが、今回はコントロールとターゲットを単純に反転させた回路を使います。"
      ]
    },
    {
      "metadata": {
        "id": "xkxbg9xZCo7F",
        "colab_type": "code",
        "colab": {
          "base_uri": "https://localhost:8080/",
          "height": 34
        },
        "outputId": "bdb18e97-0f50-4072-ab3d-a42a39120348"
      },
      "cell_type": "code",
      "source": [
        "c = Circuit().x[0].cnot[1,0].cnot[0,1].cnot[1,0]\n",
        "c.run()"
      ],
      "execution_count": 9,
      "outputs": [
        {
          "output_type": "execute_result",
          "data": {
            "text/plain": [
              "array([0.+0.j, 0.+0.j, 1.+0.j, 0.+0.j])"
            ]
          },
          "metadata": {
            "tags": []
          },
          "execution_count": 9
        }
      ]
    },
    {
      "metadata": {
        "id": "JFtjihSbDIE-",
        "colab_type": "code",
        "colab": {
          "base_uri": "https://localhost:8080/",
          "height": 34
        },
        "outputId": "6313027f-d763-4288-858e-55748bcb2cd0"
      },
      "cell_type": "code",
      "source": [
        "bin(2)"
      ],
      "execution_count": 10,
      "outputs": [
        {
          "output_type": "execute_result",
          "data": {
            "text/plain": [
              "'0b10'"
            ]
          },
          "metadata": {
            "tags": []
          },
          "execution_count": 10
        }
      ]
    },
    {
      "metadata": {
        "id": "XGBSXNQbDMkQ",
        "colab_type": "text"
      },
      "cell_type": "markdown",
      "source": [
        "これは、１番目の量子ビットをXゲートで1にしてからSWAPゲートで入れ替えていることが確認できました。"
      ]
    }
  ]
}