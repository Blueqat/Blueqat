{
 "cells": [
  {
   "cell_type": "markdown",
   "metadata": {
    "colab_type": "text",
    "id": "wYFGJaUJjrTN"
   },
   "source": [
    "# QUBOの組合せ最適化問題でN量子ビットからK量子ビットを選ぶ\n",
    "QAOAとよばれるアルゴリズムを活用して組合せ最適化問題を解くことができます。そのなかで「コスト関数」と「制約条件」と呼ばれる項がでてきます。そのうちの制約条件はよく使われますが、その作り方とルールを確認したいと思います。\n",
    "\n"
   ]
  },
  {
   "cell_type": "markdown",
   "metadata": {
    "colab_type": "text",
    "id": "f1w3zI5ej8MW"
   },
   "source": [
    "## N量子ビットからK量子ビットを選ぶ\n",
    "どういうことかというと、{0,1}のバイナリで表現されるN量子ビットがあり、その中からK量子ビットだけを+1、その他を0となるように組合せ最適化問題でプログラミングしたいとします。実際にはイジングは意識せず、QUBOとよばれるバイナリ値のコスト関数だけを意識してつくることができます。"
   ]
  },
  {
   "cell_type": "markdown",
   "metadata": {
    "colab_type": "text",
    "id": "kpB2TV0MkIog"
   },
   "source": [
    "## コスト関数\n",
    "コスト関数と呼ばれる関数を基本とします。N量子ビットからK量子ビット選ぶコスト関数は下記のようにかけます。\n",
    "\n",
    "<img src=\"https://render.githubusercontent.com/render/math?math=E%20%3D%20(%5Csum_%7Bi%3D0%7D%5E%7BN%7Dq_i%20-%20K)%5E2\">\n",
    "\n"
   ]
  },
  {
   "cell_type": "markdown",
   "metadata": {
    "colab_type": "text",
    "id": "lUfW1mbYkqxS"
   },
   "source": [
    "## QUBOmatrix\n",
    "QUBOmatrixというものを作れば、それを入力することで問題が解けます。ここで例題を5量子ビットから2量子ビット選ぶという問題でやってみましょう。\n",
    "\n",
    "<img src='./img/004_0.png'>\n",
    "\n",
    "上記は全てを展開して、バイナリのルールq^2=qを適用しています。\n",
    "これをBlueqatに代入します。インストールは、"
   ]
  },
  {
   "cell_type": "code",
   "execution_count": 0,
   "metadata": {
    "colab": {},
    "colab_type": "code",
    "id": "2t4iyF5rjgfv"
   },
   "outputs": [],
   "source": [
    "!pip install blueqat"
   ]
  },
  {
   "cell_type": "markdown",
   "metadata": {
    "colab_type": "text",
    "id": "r3I8Vrnjl08B"
   },
   "source": [
    "## シミュレーション開始\n",
    "無事インストールができたら、コスト関数を作ってQUBOを計算するステップ数を決めます。\n",
    "BlueqatにはQUBOを直接計算できる機能がついていますので、コスト関数（ハミルトニアン）をつくり、\n",
    "ステップ数を2にして計算を行ってみました。\n",
    "\n",
    "今回はQAOAというアルゴリズムを使い、さらにVQEというアルゴリズムで基底状態を計算します。"
   ]
  },
  {
   "cell_type": "code",
   "execution_count": 1,
   "metadata": {
    "colab": {
     "base_uri": "https://localhost:8080/",
     "height": 54
    },
    "colab_type": "code",
    "id": "_5vynlNSjivT",
    "outputId": "1c7ddaec-e140-4a48-c6c3-a0e3b0114e33"
   },
   "outputs": [
    {
     "name": "stdout",
     "output_type": "stream",
     "text": [
      "(((0, 1, 1, 0, 0), 0.05148955049278364), ((0, 0, 1, 0, 1), 0.05148955049278364), ((1, 0, 0, 1, 0), 0.051489550492783635), ((0, 1, 0, 1, 0), 0.051489550492783635), ((1, 0, 0, 0, 1), 0.051489550492783635), ((0, 1, 0, 0, 1), 0.05148955049278363), ((0, 0, 1, 1, 0), 0.05148955049278362), ((0, 0, 0, 1, 1), 0.051489550492783615), ((1, 1, 0, 0, 0), 0.05148955049278361), ((1, 0, 1, 0, 0), 0.05148955049278361), ((0, 0, 1, 1, 1), 0.02925038947149023), ((0, 1, 0, 1, 1), 0.029250389471490227))\n"
     ]
    }
   ],
   "source": [
    "from blueqat import vqe\n",
    "from blueqat.pauli import qubo_bit as q\n",
    "\n",
    "hamiltonian = -3*q(0)-3*q(1)-3*q(2)-3*q(3)-3*q(4)+2*q(0)*q(1)+2*q(0)*q(2)+2*q(0)*q(3)+2*q(0)*q(4)+2*q(1)*q(2)+2*q(1)*q(3)+2*q(1)*q(4)+2*q(2)*q(3)+2*q(2)*q(4)+2*q(3)*q(4)\n",
    "step = 2\n",
    "\n",
    "result = vqe.Vqe(vqe.QaoaAnsatz(hamiltonian, step)).run()\n",
    "print(result.most_common(12)) "
   ]
  },
  {
   "cell_type": "markdown",
   "metadata": {
    "colab_type": "text",
    "id": "T2oPiICBmwHw"
   },
   "source": [
    "上記は無事シミュレーションできました。\n",
    "シミュレータの結果として、5量子ビットの中からもっとも出現確率の高い組み合わせが10個出てきて、条件を外れているものが11個目から確率が低くなっています。\n",
    "\n",
    "また、今回はステップ数を2としていたので、精度が少し低いですが、高くしてみてもいいと思います。"
   ]
  },
  {
   "cell_type": "markdown",
   "metadata": {
    "colab_type": "text",
    "id": "NGcYeMIboF1h"
   },
   "source": [
    "## ステップ数をあげてみる\n",
    "上記の組合せ最適化問題のシミュレーションの精度をあげてみます。\n",
    "ステップ数を倍の4にしてみたいと思います。\n"
   ]
  },
  {
   "cell_type": "code",
   "execution_count": 2,
   "metadata": {
    "colab": {
     "base_uri": "https://localhost:8080/",
     "height": 54
    },
    "colab_type": "code",
    "id": "zODdWW9lmliS",
    "outputId": "9c170f54-048b-4212-eaf2-fe27243ce778"
   },
   "outputs": [
    {
     "name": "stdout",
     "output_type": "stream",
     "text": [
      "(((0, 0, 0, 1, 0), 0.06099292728883286), ((1, 0, 0, 0, 0), 0.06099292728883285), ((0, 0, 0, 0, 1), 0.06099292728883284), ((0, 1, 0, 0, 0), 0.06099292728883283), ((0, 0, 1, 0, 0), 0.06099292728883282), ((1, 1, 0, 0, 0), 0.059344340051637565), ((0, 1, 1, 0, 0), 0.05934434005163755), ((1, 0, 0, 1, 0), 0.05934434005163755), ((0, 0, 1, 1, 0), 0.05934434005163755), ((1, 0, 0, 0, 1), 0.05934434005163755), ((0, 1, 0, 0, 1), 0.05934434005163755), ((0, 0, 1, 0, 1), 0.05934434005163755))\n"
     ]
    }
   ],
   "source": [
    "from blueqat import vqe\n",
    "from blueqat.pauli import qubo_bit as q\n",
    "\n",
    "hamiltonian = -3*q(0)-3*q(1)-3*q(2)-3*q(3)-3*q(4)+2*q(0)*q(1)+2*q(0)*q(2)+2*q(0)*q(3)+2*q(0)*q(4)+2*q(1)*q(2)+2*q(1)*q(3)+2*q(1)*q(4)+2*q(2)*q(3)+2*q(2)*q(4)+2*q(3)*q(4)\n",
    "step = 4\n",
    "\n",
    "result = vqe.Vqe(vqe.QaoaAnsatz(hamiltonian, step)).run()\n",
    "print(result.most_common(12)) "
   ]
  },
  {
   "cell_type": "markdown",
   "metadata": {
    "colab_type": "text",
    "id": "9-0Edoduoi8w"
   },
   "source": [
    "少し出現確率が高くなって解の精度が上がった気がします。\n",
    "以上です。"
   ]
  }
 ],
 "metadata": {
  "colab": {
   "name": "Untitled9.ipynb",
   "provenance": [],
   "version": "0.3.2"
  },
  "kernelspec": {
   "display_name": "Python 3",
   "language": "python",
   "name": "python3"
  },
  "language_info": {
   "codemirror_mode": {
    "name": "ipython",
    "version": 3
   },
   "file_extension": ".py",
   "mimetype": "text/x-python",
   "name": "python",
   "nbconvert_exporter": "python",
   "pygments_lexer": "ipython3",
   "version": "3.7.1"
  }
 },
 "nbformat": 4,
 "nbformat_minor": 1
}
