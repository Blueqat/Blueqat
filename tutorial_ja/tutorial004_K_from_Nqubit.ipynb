{
  "nbformat": 4,
  "nbformat_minor": 0,
  "metadata": {
    "colab": {
      "name": "Untitled9.ipynb",
      "version": "0.3.2",
      "provenance": []
    },
    "kernelspec": {
      "name": "python3",
      "display_name": "Python 3"
    }
  },
  "cells": [
    {
      "metadata": {
        "id": "wYFGJaUJjrTN",
        "colab_type": "text"
      },
      "cell_type": "markdown",
      "source": [
        "#QUBOの組合せ最適化問題でN量子ビットからK量子ビットを選ぶ\n",
        "QAOAとよばれるアルゴリズムを活用して組合せ最適化問題を解くことができます。そのなかで「コスト関数」と「制約条件」と呼ばれる項がでてきます。そのうちの制約条件はよく使われますが、その作り方とルールを確認したいと思います。\n",
        "\n"
      ]
    },
    {
      "metadata": {
        "id": "f1w3zI5ej8MW",
        "colab_type": "text"
      },
      "cell_type": "markdown",
      "source": [
        "##N量子ビットからK量子ビットを選ぶ\n",
        "どういうことかというと、{0,1}のバイナリで表現されるN量子ビットがあり、その中からK量子ビットだけを+1、その他を0となるように組合せ最適化問題でプログラミングしたいとします。実際にはイジングは意識せず、QUBOとよばれるバイナリ値のコスト関数だけを意識してつくることができます。"
      ]
    },
    {
      "metadata": {
        "id": "kpB2TV0MkIog",
        "colab_type": "text"
      },
      "cell_type": "markdown",
      "source": [
        "##コスト関数\n",
        "コスト関数と呼ばれる関数を基本とします。N量子ビットからK量子ビット選ぶコスト関数は下記のようにかけます。\n",
        "\n",
        "<img src=\"https://render.githubusercontent.com/render/math?math=E%20%3D%20(%5Csum_%7Bi%3D0%7D%5E%7BN%7Dq_i%20-%20K)%5E2\">\n",
        "\n"
      ]
    },
    {
      "metadata": {
        "id": "lUfW1mbYkqxS",
        "colab_type": "text"
      },
      "cell_type": "markdown",
      "source": [
        "##QUBOmatrix\n",
        "QUBOmatrixというものを作れば、それを入力することで問題が解けます。ここで例題を5量子ビットから2量子ビット選ぶという問題でやってみましょう。\n",
        "\n",
        "[[img_0]]\n",
        "\n",
        "上記は全てを展開して、バイナリのルールq^2=qを適用しています。\n",
        "これをBlueqatに代入します。インストールは、"
      ]
    },
    {
      "metadata": {
        "id": "2t4iyF5rjgfv",
        "colab_type": "code",
        "colab": {}
      },
      "cell_type": "code",
      "source": [
        "!pip install blueqat"
      ],
      "execution_count": 0,
      "outputs": []
    },
    {
      "metadata": {
        "id": "r3I8Vrnjl08B",
        "colab_type": "text"
      },
      "cell_type": "markdown",
      "source": [
        "##シミュレーション開始\n",
        "無事インストールができたら、コスト関数を作ってQUBOを計算するステップ数を決めます。\n",
        "BlueqatにはQUBOを直接計算できる機能がついていますので、コスト関数（ハミルトニアン）をつくり、\n",
        "ステップ数を2にして計算を行ってみました。\n",
        "\n",
        "今回はQAOAというアルゴリズムを使い、さらにVQEというアルゴリズムで基底状態を計算します。"
      ]
    },
    {
      "metadata": {
        "id": "_5vynlNSjivT",
        "colab_type": "code",
        "colab": {
          "base_uri": "https://localhost:8080/",
          "height": 54
        },
        "outputId": "1c7ddaec-e140-4a48-c6c3-a0e3b0114e33"
      },
      "cell_type": "code",
      "source": [
        "from blueqat import vqe\n",
        "from blueqat.pauli import qubo_bit as q\n",
        "\n",
        "hamiltonian = -3*q(0)-3*q(1)-3*q(2)-3*q(3)-3*q(4)+2*q(0)*q(1)+2*q(0)*q(2)+2*q(0)*q(3)+2*q(0)*q(4)+2*q(1)*q(2)+2*q(1)*q(3)+2*q(1)*q(4)+2*q(2)*q(3)+2*q(2)*q(4)+2*q(3)*q(4)\n",
        "step = 2\n",
        "\n",
        "result = vqe.Vqe(vqe.QaoaAnsatz(hamiltonian, step)).run()\n",
        "print(result.most_common(12)) "
      ],
      "execution_count": 6,
      "outputs": [
        {
          "output_type": "stream",
          "text": [
            "(((0, 0, 1, 1, 0), 0.0710114983047343), ((0, 0, 1, 0, 1), 0.0710114983047343), ((1, 1, 0, 0, 0), 0.07101149830473429), ((0, 1, 1, 0, 0), 0.07101149830473429), ((0, 1, 0, 1, 0), 0.07101149830473429), ((0, 1, 0, 0, 1), 0.07101149830473429), ((0, 0, 0, 1, 1), 0.07101149830473429), ((1, 0, 0, 1, 0), 0.07101149830473427), ((1, 0, 1, 0, 0), 0.07101149830473426), ((1, 0, 0, 0, 1), 0.07101149830473426), ((0, 1, 0, 1, 1), 0.022205458584690654), ((1, 1, 1, 0, 0), 0.02220545858469064))\n"
          ],
          "name": "stdout"
        }
      ]
    },
    {
      "metadata": {
        "id": "T2oPiICBmwHw",
        "colab_type": "text"
      },
      "cell_type": "markdown",
      "source": [
        "上記は無事シミュレーションできました。\n",
        "シミュレータの結果として、5量子ビットの中からもっとも出現確率の高い組み合わせが10個出てきて、条件を外れているものが11個目から確率が低くなっています。\n",
        "\n",
        "また、今回はステップ数を2としていたので、精度が少し低いですが、高くしてみてもいいと思います。"
      ]
    },
    {
      "metadata": {
        "id": "NGcYeMIboF1h",
        "colab_type": "text"
      },
      "cell_type": "markdown",
      "source": [
        "##ステップ数をあげてみる\n",
        "上記の組合せ最適化問題のシミュレーションの精度をあげてみます。\n",
        "ステップ数を倍の4にしてみたいと思います。\n"
      ]
    },
    {
      "metadata": {
        "id": "zODdWW9lmliS",
        "colab_type": "code",
        "colab": {
          "base_uri": "https://localhost:8080/",
          "height": 54
        },
        "outputId": "9c170f54-048b-4212-eaf2-fe27243ce778"
      },
      "cell_type": "code",
      "source": [
        "from blueqat import vqe\n",
        "from blueqat.pauli import qubo_bit as q\n",
        "\n",
        "hamiltonian = -3*q(0)-3*q(1)-3*q(2)-3*q(3)-3*q(4)+2*q(0)*q(1)+2*q(0)*q(2)+2*q(0)*q(3)+2*q(0)*q(4)+2*q(1)*q(2)+2*q(1)*q(3)+2*q(1)*q(4)+2*q(2)*q(3)+2*q(2)*q(4)+2*q(3)*q(4)\n",
        "step = 4\n",
        "\n",
        "result = vqe.Vqe(vqe.QaoaAnsatz(hamiltonian, step)).run()\n",
        "print(result.most_common(12)) "
      ],
      "execution_count": 14,
      "outputs": [
        {
          "output_type": "stream",
          "text": [
            "(((1, 1, 0, 0, 0), 0.0935765394276181), ((0, 1, 1, 0, 0), 0.0935765394276181), ((1, 0, 0, 1, 0), 0.0935765394276181), ((0, 1, 0, 1, 0), 0.0935765394276181), ((0, 0, 1, 1, 0), 0.0935765394276181), ((0, 0, 0, 1, 1), 0.0935765394276181), ((1, 0, 1, 0, 0), 0.09357653942761807), ((1, 0, 0, 0, 1), 0.09357653942761802), ((0, 1, 0, 0, 1), 0.09357653942761802), ((0, 0, 1, 0, 1), 0.09357653942761802), ((0, 1, 0, 0, 0), 0.008533411374831915), ((0, 0, 0, 1, 0), 0.008533411374831906))\n"
          ],
          "name": "stdout"
        }
      ]
    },
    {
      "metadata": {
        "id": "9-0Edoduoi8w",
        "colab_type": "text"
      },
      "cell_type": "markdown",
      "source": [
        "少し出現確率が高くなって解の精度が上がった気がします。\n",
        "以上です。"
      ]
    }
  ]
}