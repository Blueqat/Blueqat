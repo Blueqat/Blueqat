{
  "nbformat": 4,
  "nbformat_minor": 0,
  "metadata": {
    "colab": {
      "name": "tutorial2_one_plus_one.ipynb",
      "version": "0.3.2",
      "provenance": []
    },
    "kernelspec": {
      "name": "python3",
      "display_name": "Python 3"
    }
  },
  "cells": [
    {
      "metadata": {
        "id": "jal7xDYFe3Nq",
        "colab_type": "text"
      },
      "cell_type": "markdown",
      "source": [
        "# QUBOで足し算を行う"
      ]
    },
    {
      "metadata": {
        "id": "r7j1DqYse7cB",
        "colab_type": "text"
      },
      "cell_type": "markdown",
      "source": [
        "まずは準備として最適化問題のSDKであるBlueqatを呼び出します。"
      ]
    },
    {
      "metadata": {
        "id": "fMKF-eQyerzg",
        "colab_type": "code",
        "colab": {}
      },
      "cell_type": "code",
      "source": [
        "from blueqat import vqe\n",
        "from blueqat.pauli import qubo_bit as q"
      ],
      "execution_count": 0,
      "outputs": []
    },
    {
      "metadata": {
        "id": "-x7dmTzre7AN",
        "colab_type": "text"
      },
      "cell_type": "markdown",
      "source": [
        "早速問題を解いていきます。今回解きたい問題は、  \n",
        "\n",
        "1+ 1 = x\n",
        "\n",
        "となるようなxを求めます。QUBOにおいて足し算は上記右辺から左辺を引いてその最小値を求めることに相当しますので、\n",
        "\n",
        "E = (x-2)^2\n",
        "\n",
        "というコスト関数ができます。こちらを展開すると、\n",
        "\n",
        "E = x^2 -4x + 4\n",
        "\n",
        "という式が得られます。これを計算します。一方、xは量子ビットを使って、\n",
        "\n",
        "x = q0 + 2q1\n",
        "\n",
        "という二進数表記ができますので、さらにこれを上記のコスト関数に代入すると、\n",
        "\n",
        "H = q0^2 + 4*q0*q1 - 4*q0 + 4*q1^2 - 8*q1 + 4\n",
        "\n",
        "と展開されます。ここで、QUBOはバイナリ値{0,1}を取りますので、二乗の項はすべて指数がとれます。\n",
        "\n",
        "q0^2 = q0  \n",
        "q1^2 = q1\n",
        "\n",
        "より、\n",
        "\n",
        "H = -3q0 + 4q0q1 - 4q1 +4\n",
        "\n",
        "となります。これをゲートマシンに実行しています。QAOAを利用して、精度を決めるステップ数を2とします。"
      ]
    },
    {
      "metadata": {
        "id": "wImQpd7_eum_",
        "colab_type": "code",
        "colab": {
          "base_uri": "https://localhost:8080/",
          "height": 34
        },
        "outputId": "7ee47941-e762-498c-9487-2808a1865703"
      },
      "cell_type": "code",
      "source": [
        "hamiltonian = -3*q(0)+4*q(0)*q(1)-4*q(1)\n",
        "step = 2\n",
        "\n",
        "result = vqe.Vqe(vqe.QaoaAnsatz(hamiltonian, step)).run()\n",
        "print(result.most_common(12))"
      ],
      "execution_count": 4,
      "outputs": [
        {
          "output_type": "stream",
          "text": [
            "(((0, 1), 0.6760767322927544), ((1, 0), 0.3031594455742833), ((1, 1), 0.014187781128012427), ((0, 0), 0.006576041004948503))\n"
          ],
          "name": "stdout"
        }
      ]
    },
    {
      "metadata": {
        "id": "HFw1v_jMfGeR",
        "colab_type": "text"
      },
      "cell_type": "markdown",
      "source": [
        "q0=0,q1=1となりましたので、1+1の答えは、\n",
        "\n",
        "1 + 1 = 0 + 2*1 = 2\n",
        "\n",
        "となります。"
      ]
    }
  ]
}