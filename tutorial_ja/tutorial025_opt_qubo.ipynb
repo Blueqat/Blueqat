{
  "nbformat": 4,
  "nbformat_minor": 0,
  "metadata": {
    "colab": {
      "name": "tutorial1_qubo.ipynb",
      "version": "0.3.2",
      "provenance": []
    },
    "kernelspec": {
      "name": "python3",
      "display_name": "Python 3"
    }
  },
  "cells": [
    {
      "metadata": {
        "id": "S0D6seG9-ZGj",
        "colab_type": "text"
      },
      "cell_type": "markdown",
      "source": [
        "#QUBOにおける計算の基礎"
      ]
    },
    {
      "metadata": {
        "id": "egLv1R7M-jZ8",
        "colab_type": "text"
      },
      "cell_type": "markdown",
      "source": [
        "ここでは、基本的な最適化問題の作り方をQUBOマトリックスをメインに解説をします。\n"
      ]
    },
    {
      "metadata": {
        "id": "wyozSDvU-xpy",
        "colab_type": "text"
      },
      "cell_type": "markdown",
      "source": [
        "SDKであるBlueqatを呼び出し、インスタンスを作成します。"
      ]
    },
    {
      "metadata": {
        "id": "j2QaAh-g9X0s",
        "colab_type": "code",
        "colab": {}
      },
      "cell_type": "code",
      "source": [
        "from blueqat import vqe\n",
        "from blueqat.pauli import qubo_bit as q"
      ],
      "execution_count": 0,
      "outputs": []
    },
    {
      "metadata": {
        "id": "c7n1M9bA_KqW",
        "colab_type": "text"
      },
      "cell_type": "markdown",
      "source": [
        "次は問題を作成します。問題は通常QUBOという方法で記述されます。では、まずQUBOハミルトニアンを作ります。ここでは、例題を取り上げ、下記のようなものを入れてみます。"
      ]
    },
    {
      "metadata": {
        "id": "HfVSNvIv9gGV",
        "colab_type": "code",
        "colab": {}
      },
      "cell_type": "code",
      "source": [
        "qubo = 4*q(0)+4*q(1)+4*q(2)-4*q(0)*q(1)-4*q(0)*q(2)-4*q(1)*q(2)"
      ],
      "execution_count": 0,
      "outputs": []
    },
    {
      "metadata": {
        "id": "_yecEiB8CULm",
        "colab_type": "text"
      },
      "cell_type": "markdown",
      "source": [
        "これを使って計算します。今回はQAOAアルゴリズムを使ってみます。精度を決めるステップ数は2としてみて、"
      ]
    },
    {
      "metadata": {
        "id": "Qlq6q_LLCRpc",
        "colab_type": "code",
        "outputId": "c805d127-563e-4d3f-af1a-17556d805c5f",
        "colab": {
          "base_uri": "https://localhost:8080/",
          "height": 54
        }
      },
      "cell_type": "code",
      "source": [
        "step = 2\n",
        "\n",
        "result = vqe.Vqe(vqe.QaoaAnsatz(qubo, step)).run()\n",
        "print(result.most_common(12))"
      ],
      "execution_count": 22,
      "outputs": [
        {
          "output_type": "stream",
          "text": [
            "(((0, 0, 0), 0.4987401707448642), ((1, 1, 1), 0.4987401707448642), ((1, 1, 0), 0.00041994308504513054), ((0, 0, 1), 0.00041994308504513054), ((1, 0, 0), 0.0004199430850451284), ((0, 1, 1), 0.0004199430850451284), ((0, 1, 0), 0.00041994308504512837), ((1, 0, 1), 0.00041994308504512837))\n"
          ],
          "name": "stdout"
        }
      ]
    },
    {
      "metadata": {
        "id": "53g1MTyMCdC4",
        "colab_type": "text"
      },
      "cell_type": "markdown",
      "source": [
        "問題が解けました。解は常に+1か0を選びます。"
      ]
    }
  ]
}