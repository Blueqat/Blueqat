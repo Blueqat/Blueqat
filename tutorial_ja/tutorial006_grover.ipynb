{
 "cells": [
  {
   "cell_type": "markdown",
   "metadata": {
    "colab_type": "text",
    "id": "EY7Ola7n-_5U"
   },
   "source": [
    "## Grover（グローバー）の検索アルゴリズム\n",
    "グローバーのアルゴリズムは整頓されていないデータの中から目的のデータを探し出すためのアルゴリズムです。理論的には現在の計算機の√Nの計算量で探索ができるということで有名なアルゴリズムです。"
   ]
  },
  {
   "cell_type": "markdown",
   "metadata": {
    "colab_type": "text",
    "id": "xFNGYGCj_a7s"
   },
   "source": [
    "## ステップ\n",
    "全体のアルゴリズムの流れを簡単にまとめます。  \n",
    "  \n",
    "１、重ね合わせ状態を作る（すべての量子ビットにHゲートを適用）  \n",
    "２、マーキングと呼ばれる作業  \n",
    "３、振幅増幅反転と呼ばれる作業（これでほしい答えを浮かび上がらせる）  "
   ]
  },
  {
   "cell_type": "markdown",
   "metadata": {
    "colab_type": "text",
    "id": "xHtp9G4f_4Qb"
   },
   "source": [
    "## マーキング\n",
    "まずは2量子ビットのGroverからです。4通りの組み合わせから11の組み合わせを抜き出してみたいと思います。グローバーのアルゴリズムでは、まず求めたい答えにマーキングを行います。マーキングの方法は簡単で、求めたい解に対応する状態ベクトルだけに-1がかかるようにします。マーキングはゲート操作を使います。\n",
    "\n",
    "たとえば、00にマーキングしたい場合には、  \n",
    "[[-1,0,0,0],[0,1,0,0],[0,0,1,0,],[0,0,0,1]] = S[0],S[1],CZ[0,1],S[0],S[1]  \n",
    "というように、00の状態ベクトル[1,0,0,0]に対応する部分に-1を設定した行列をかけます。  \n",
    "  \n",
    "01の時には、  \n",
    "[[1,0,0,0],[0,-1,0,0],[0,0,1,0,],[0,0,0,1]] = S[1],CZ[0,1],S[1]  \n",
    "  \n",
    "10の時には、  \n",
    "[[1,0,0,0],[0,1,0,0],[0,0,-1,0,],[0,0,0,1]] = S[0],CZ[0,1],S[0]  \n",
    "  \n",
    "11の時には、  \n",
    "[[1,0,0,0],[0,1,0,0],[0,0,1,0,],[0,0,0,-1]] = CZ[0,1]  \n",
    "\n",
    "こうすることによって対応する行列が実現できます。求めたい解に対するユニタリー変換を作り出す必要があります。まずはBlueqatを使う前にnumpyで確認をしてみます。Sゲート、Hゲート、単位行列Iなどを用意して、"
   ]
  },
  {
   "cell_type": "code",
   "execution_count": 1,
   "metadata": {
    "colab": {},
    "colab_type": "code",
    "id": "e0v0ZBOO9uMm"
   },
   "outputs": [],
   "source": [
    "import numpy as np\n",
    "S = np.array([[1,0],[0,1j]])\n",
    "H = 1/np.sqrt(2)*np.array([[1,1],[1,-1]])\n",
    "I = np.eye(2)\n",
    "CNOT = [[1,0,0,0],[0,1,0,0],[0,0,0,1],[0,0,1,0]]"
   ]
  },
  {
   "cell_type": "code",
   "execution_count": 2,
   "metadata": {
    "colab": {
     "base_uri": "https://localhost:8080/",
     "height": 161
    },
    "colab_type": "code",
    "id": "87Wu5Xv_AVYu",
    "outputId": "30c40471-42bc-40ca-8b96-fe5780265be0"
   },
   "outputs": [
    {
     "name": "stdout",
     "output_type": "stream",
     "text": [
      "[[ 1.+0.00000000e+00j  0.-2.23711432e-17j  0.+0.00000000e+00j\n",
      "   0.+0.00000000e+00j]\n",
      " [ 0.-2.23711432e-17j -1.+0.00000000e+00j  0.+0.00000000e+00j\n",
      "   0.+0.00000000e+00j]\n",
      " [ 0.+0.00000000e+00j  0.+0.00000000e+00j -1.+0.00000000e+00j\n",
      "   0.+2.23711432e-17j]\n",
      " [ 0.+0.00000000e+00j  0.+0.00000000e+00j  0.-2.23711432e-17j\n",
      "  -1.+0.00000000e+00j]]\n"
     ]
    }
   ],
   "source": [
    "print(np.kron(S,S)@np.kron(I,H)@CNOT@np.kron(I,H)@np.kron(S,S))"
   ]
  },
  {
   "cell_type": "code",
   "execution_count": 3,
   "metadata": {
    "colab": {
     "base_uri": "https://localhost:8080/",
     "height": 161
    },
    "colab_type": "code",
    "id": "TAmgTunYBAub",
    "outputId": "830939be-4acb-4047-9835-2f31d3bd1bd1"
   },
   "outputs": [
    {
     "name": "stdout",
     "output_type": "stream",
     "text": [
      "[[ 1.+0.00000000e+00j  0.-2.23711432e-17j  0.+0.00000000e+00j\n",
      "   0.+0.00000000e+00j]\n",
      " [ 0.-2.23711432e-17j -1.+0.00000000e+00j  0.+0.00000000e+00j\n",
      "   0.+0.00000000e+00j]\n",
      " [ 0.+0.00000000e+00j  0.+0.00000000e+00j  1.+0.00000000e+00j\n",
      "   0.-2.23711432e-17j]\n",
      " [ 0.+0.00000000e+00j  0.+0.00000000e+00j  0.+2.23711432e-17j\n",
      "   1.+0.00000000e+00j]]\n"
     ]
    }
   ],
   "source": [
    "print(np.kron(I,S)@np.kron(I,H)@CNOT@np.kron(I,H)@np.kron(I,S)) "
   ]
  },
  {
   "cell_type": "code",
   "execution_count": 4,
   "metadata": {
    "colab": {
     "base_uri": "https://localhost:8080/",
     "height": 161
    },
    "colab_type": "code",
    "id": "UBmEAS2SBVv9",
    "outputId": "bd8bb797-5b40-4090-cbb5-be188b092716"
   },
   "outputs": [
    {
     "name": "stdout",
     "output_type": "stream",
     "text": [
      "[[ 1.00000000e+00+0.j -2.23711432e-17+0.j  0.00000000e+00+0.j\n",
      "   0.00000000e+00+0.j]\n",
      " [-2.23711432e-17+0.j  1.00000000e+00+0.j  0.00000000e+00+0.j\n",
      "   0.00000000e+00+0.j]\n",
      " [ 0.00000000e+00+0.j  0.00000000e+00+0.j -1.00000000e+00+0.j\n",
      "   2.23711432e-17+0.j]\n",
      " [ 0.00000000e+00+0.j  0.00000000e+00+0.j -2.23711432e-17+0.j\n",
      "   1.00000000e+00+0.j]]\n"
     ]
    }
   ],
   "source": [
    "print(np.kron(S,I)@np.kron(I,H)@CNOT@np.kron(I,H)@np.kron(S,I))"
   ]
  },
  {
   "cell_type": "code",
   "execution_count": 5,
   "metadata": {
    "colab": {
     "base_uri": "https://localhost:8080/",
     "height": 89
    },
    "colab_type": "code",
    "id": "cVzGIaCTBcnu",
    "outputId": "68b005de-a477-4597-c7db-fc412772562b"
   },
   "outputs": [
    {
     "name": "stdout",
     "output_type": "stream",
     "text": [
      "[[ 1.00000000e+00 -2.23711432e-17  0.00000000e+00  0.00000000e+00]\n",
      " [-2.23711432e-17  1.00000000e+00  0.00000000e+00  0.00000000e+00]\n",
      " [ 0.00000000e+00  0.00000000e+00  1.00000000e+00 -2.23711432e-17]\n",
      " [ 0.00000000e+00  0.00000000e+00  2.23711432e-17 -1.00000000e+00]]\n"
     ]
    }
   ],
   "source": [
    "print(np.kron(I,H)@CNOT@np.kron(I,H))"
   ]
  },
  {
   "cell_type": "markdown",
   "metadata": {
    "colab_type": "text",
    "id": "MlVU_gLkBijH"
   },
   "source": [
    "これらは４つのマーキングの行列を表しており、対応する状態ベクトルにマイナスマーキングするようになっています。基本はCNOTゲートをベースに作られています。このような考え方は今後量子ビットが多くなってきたり、より複雑な検索回路を作るのに便利です。"
   ]
  },
  {
   "cell_type": "markdown",
   "metadata": {
    "colab_type": "text",
    "id": "LsoVEAKSB35g"
   },
   "source": [
    "## 振幅増幅反転\n",
    "そして次のステップは反転させた状態ベクトルの振幅を増幅させ+に戻します。この際に振幅を増幅させるということは、出現確率を増やし求めたい検索結果の出る確率を上げるということに対応します。\n",
    "\n",
    "振幅増幅反転回路は量子ビット数に依存し、今回のように二量子ビットの場合には、"
   ]
  },
  {
   "cell_type": "code",
   "execution_count": 6,
   "metadata": {
    "colab": {},
    "colab_type": "code",
    "id": "CqvOA9GRBe4D"
   },
   "outputs": [],
   "source": [
    "D = np.array([[-1,1,1,1],[1,-1,1,1],[1,1,-1,1],[1,1,1,-1]])/2"
   ]
  },
  {
   "cell_type": "markdown",
   "metadata": {
    "colab_type": "text",
    "id": "ClI9krtfCM_T"
   },
   "source": [
    "このように、対角項と非対角項の符号が異なるような平均値周りでの反転回路を実現することでできます。このゲートはやはりCNOTをベースに作ることができます。CNOT=CCXにHゲートを適用し、CCZにしてから、XとHゲートで囲むことで実現できます。"
   ]
  },
  {
   "cell_type": "code",
   "execution_count": 7,
   "metadata": {
    "colab": {
     "base_uri": "https://localhost:8080/",
     "height": 89
    },
    "colab_type": "code",
    "id": "Xen0Oa1tCMEm",
    "outputId": "397be115-b916-4f09-cc1a-ab5c9579b831"
   },
   "outputs": [
    {
     "name": "stdout",
     "output_type": "stream",
     "text": [
      "[[ 0.5 -0.5 -0.5 -0.5]\n",
      " [-0.5  0.5 -0.5 -0.5]\n",
      " [-0.5 -0.5  0.5 -0.5]\n",
      " [-0.5 -0.5 -0.5  0.5]]\n"
     ]
    }
   ],
   "source": [
    "X = [[0,1],[1,0]]\n",
    "print(np.kron(H,H)@np.kron(X,X)@np.array([[1,0,0,0],[0,1,0,0],[0,0,1,0],[0,0,0,-1]])@np.kron(X,X)@np.kron(H,H))"
   ]
  },
  {
   "cell_type": "markdown",
   "metadata": {
    "colab_type": "text",
    "id": "syvpkbaBCyn2"
   },
   "source": [
    "このように同様の行列ができました。これを適用することで振幅増幅反転を実現できます。\n",
    "\n",
    "00の回路では、適用してない場合と適用した場合を比較して、"
   ]
  },
  {
   "cell_type": "code",
   "execution_count": 8,
   "metadata": {
    "colab": {
     "base_uri": "https://localhost:8080/",
     "height": 35
    },
    "colab_type": "code",
    "id": "i0RHrUONCwzW",
    "outputId": "8d4e8357-8770-4729-fe68-9f0f666e62be"
   },
   "outputs": [
    {
     "name": "stdout",
     "output_type": "stream",
     "text": [
      "[-0.5  0.5  0.5  0.5]\n"
     ]
    }
   ],
   "source": [
    "print(np.diag([-1,1,1,1])@np.kron(H,H)@np.array([1,0,0,0]))                                            "
   ]
  },
  {
   "cell_type": "code",
   "execution_count": 9,
   "metadata": {
    "colab": {
     "base_uri": "https://localhost:8080/",
     "height": 35
    },
    "colab_type": "code",
    "id": "g3S1bpHQDBUm",
    "outputId": "fd13484a-0f75-42c6-ca64-1913229346da"
   },
   "outputs": [
    {
     "name": "stdout",
     "output_type": "stream",
     "text": [
      "[1. 0. 0. 0.]\n"
     ]
    }
   ],
   "source": [
    "print(D@np.diag([-1,1,1,1])@np.kron(H,H)@np.array([1,0,0,0]))    "
   ]
  },
  {
   "cell_type": "markdown",
   "metadata": {
    "colab_type": "text",
    "id": "HciyTmvTDRRc"
   },
   "source": [
    "つぎに01回路は、"
   ]
  },
  {
   "cell_type": "code",
   "execution_count": 10,
   "metadata": {
    "colab": {
     "base_uri": "https://localhost:8080/",
     "height": 35
    },
    "colab_type": "code",
    "id": "ZXKHUQaoDGkj",
    "outputId": "2180d63a-c195-4863-d64d-cec9a99f9a87"
   },
   "outputs": [
    {
     "name": "stdout",
     "output_type": "stream",
     "text": [
      "[ 0.5 -0.5  0.5  0.5]\n"
     ]
    }
   ],
   "source": [
    "print(np.diag([1,-1,1,1])@np.kron(H,H)@np.array([1,0,0,0]))    "
   ]
  },
  {
   "cell_type": "code",
   "execution_count": 11,
   "metadata": {
    "colab": {
     "base_uri": "https://localhost:8080/",
     "height": 35
    },
    "colab_type": "code",
    "id": "3zbxqEaiDWbi",
    "outputId": "d0090304-5514-4e38-8a05-4ddf1f72819e"
   },
   "outputs": [
    {
     "name": "stdout",
     "output_type": "stream",
     "text": [
      "[0. 1. 0. 0.]\n"
     ]
    }
   ],
   "source": [
    "print(D@np.diag([1,-1,1,1])@np.kron(H,H)@np.array([1,0,0,0]))    "
   ]
  },
  {
   "cell_type": "markdown",
   "metadata": {
    "colab_type": "text",
    "id": "MX6uHMEzDbwI"
   },
   "source": [
    "そして10回路、"
   ]
  },
  {
   "cell_type": "code",
   "execution_count": 12,
   "metadata": {
    "colab": {
     "base_uri": "https://localhost:8080/",
     "height": 35
    },
    "colab_type": "code",
    "id": "LzLyTnPeDa-p",
    "outputId": "7f101a58-db94-4ca0-f082-6a9e6e86a369"
   },
   "outputs": [
    {
     "name": "stdout",
     "output_type": "stream",
     "text": [
      "[ 0.5  0.5 -0.5  0.5]\n"
     ]
    }
   ],
   "source": [
    "print(np.diag([1,1,-1,1])@np.kron(H,H)@np.array([1,0,0,0]))"
   ]
  },
  {
   "cell_type": "code",
   "execution_count": 13,
   "metadata": {
    "colab": {
     "base_uri": "https://localhost:8080/",
     "height": 35
    },
    "colab_type": "code",
    "id": "3ne51ZCjDhKQ",
    "outputId": "1c9af203-9e9f-46a3-a74f-1ba339e8b3ad"
   },
   "outputs": [
    {
     "name": "stdout",
     "output_type": "stream",
     "text": [
      "[0. 0. 1. 0.]\n"
     ]
    }
   ],
   "source": [
    "print(D@np.diag([1,1,-1,1])@np.kron(H,H)@np.array([1,0,0,0]))"
   ]
  },
  {
   "cell_type": "markdown",
   "metadata": {
    "colab_type": "text",
    "id": "N4G7VZzzDkSL"
   },
   "source": [
    "最後に11回路"
   ]
  },
  {
   "cell_type": "code",
   "execution_count": 14,
   "metadata": {
    "colab": {
     "base_uri": "https://localhost:8080/",
     "height": 35
    },
    "colab_type": "code",
    "id": "SqSKGuUBDjNZ",
    "outputId": "09a0579e-c126-4116-8427-fe6688e360bc"
   },
   "outputs": [
    {
     "name": "stdout",
     "output_type": "stream",
     "text": [
      "[ 0.5  0.5  0.5 -0.5]\n"
     ]
    }
   ],
   "source": [
    "print(np.diag([1,1,1,-1])@np.kron(H,H)@np.array([1,0,0,0])) "
   ]
  },
  {
   "cell_type": "code",
   "execution_count": 15,
   "metadata": {
    "colab": {
     "base_uri": "https://localhost:8080/",
     "height": 35
    },
    "colab_type": "code",
    "id": "rOFy46AvDp4a",
    "outputId": "cf3a3c0d-5531-4388-cd80-0b40c7a33494"
   },
   "outputs": [
    {
     "name": "stdout",
     "output_type": "stream",
     "text": [
      "[0. 0. 0. 1.]\n"
     ]
    }
   ],
   "source": [
    "print(D@np.diag([1,1,1,-1])@np.kron(H,H)@np.array([1,0,0,0])) "
   ]
  },
  {
   "cell_type": "markdown",
   "metadata": {
    "colab_type": "text",
    "id": "0-Qr1j_YDv-g"
   },
   "source": [
    "このように、振幅増幅反転のユニタリ変換は各パターン共通となっています。こちらをBlueqatに直してみます。インストールがまだの場合には、pipインストールで入手できます。"
   ]
  },
  {
   "cell_type": "code",
   "execution_count": 0,
   "metadata": {
    "colab": {},
    "colab_type": "code",
    "id": "1hLpDrY7EKhw"
   },
   "outputs": [],
   "source": [
    "!pip install blueqat"
   ]
  },
  {
   "cell_type": "code",
   "execution_count": 16,
   "metadata": {
    "colab": {
     "base_uri": "https://localhost:8080/",
     "height": 35
    },
    "colab_type": "code",
    "id": "cq9hNFk5DrTy",
    "outputId": "4115fab2-4314-4132-e664-06f6c8d79b3e"
   },
   "outputs": [
    {
     "data": {
      "text/plain": [
       "array([1.+0.j, 0.+0.j, 0.+0.j, 0.+0.j])"
      ]
     },
     "execution_count": 16,
     "metadata": {},
     "output_type": "execute_result"
    }
   ],
   "source": [
    "from blueqat import Circuit\n",
    "Circuit().h[:].s[:].h[1].cnot[0,1].h[1].s[:].h[:].x[:].h[1].cnot[0,1].h[1].x[:].h[:].run()"
   ]
  },
  {
   "cell_type": "code",
   "execution_count": 17,
   "metadata": {
    "colab": {
     "base_uri": "https://localhost:8080/",
     "height": 35
    },
    "colab_type": "code",
    "id": "_Q9Z_5TvEEIc",
    "outputId": "f2f43aa5-e849-45db-95ec-921c4477d60a"
   },
   "outputs": [
    {
     "data": {
      "text/plain": [
       "array([0.-0.j, 1.+0.j, 0.-0.j, 0.-0.j])"
      ]
     },
     "execution_count": 17,
     "metadata": {},
     "output_type": "execute_result"
    }
   ],
   "source": [
    "Circuit().h[:].s[0].h[1].cnot[0,1].h[1].s[0].h[:].x[:].h[1].cnot[0,1].h[1].x[:].h[:].run()             \n"
   ]
  },
  {
   "cell_type": "code",
   "execution_count": 18,
   "metadata": {
    "colab": {
     "base_uri": "https://localhost:8080/",
     "height": 35
    },
    "colab_type": "code",
    "id": "JCosrACmESAu",
    "outputId": "24b94664-b1cb-4a3e-98b0-b58d601a54d1"
   },
   "outputs": [
    {
     "data": {
      "text/plain": [
       "array([0.-0.j, 0.-0.j, 1.+0.j, 0.-0.j])"
      ]
     },
     "execution_count": 18,
     "metadata": {},
     "output_type": "execute_result"
    }
   ],
   "source": [
    "Circuit().h[:].s[1].h[1].cnot[0,1].h[1].s[1].h[:].x[:].h[1].cnot[0,1].h[1].x[:].h[:].run()             \n"
   ]
  },
  {
   "cell_type": "code",
   "execution_count": 19,
   "metadata": {
    "colab": {
     "base_uri": "https://localhost:8080/",
     "height": 35
    },
    "colab_type": "code",
    "id": "p4ujSfxbETzG",
    "outputId": "a21e1693-3a01-499e-ccff-036777721274"
   },
   "outputs": [
    {
     "data": {
      "text/plain": [
       "array([0.-0.j, 0.-0.j, 0.-0.j, 1.+0.j])"
      ]
     },
     "execution_count": 19,
     "metadata": {},
     "output_type": "execute_result"
    }
   ],
   "source": [
    "Circuit().h[:].h[1].cnot[0,1].h[1].h[:].x[:].h[1].cnot[0,1].h[1].x[:].h[:].run()                       \n"
   ]
  },
  {
   "cell_type": "markdown",
   "metadata": {
    "colab_type": "text",
    "id": "4yz6uRcYElp-"
   },
   "source": [
    "これがGroverの検索アルゴリズムです。"
   ]
  },
  {
   "cell_type": "markdown",
   "metadata": {
    "colab_type": "text",
    "id": "2bEa-YBVEmbG"
   },
   "source": [
    "## 3量子ビットの場合\n",
    "続いて3量子ビットもやってみます。\n",
    "CCNOT(CCXもしくはトフォリ)を使います。\n",
    "まず、マーキングの回路として、8つの状態ベクトルを操作する、np.diag([1,1,1,1,1,1,1,-1])という111だけを抜き出す回路を作ります。これは、CCXの最後のXをHで囲むこと、CCZに変換することで実現できます。"
   ]
  },
  {
   "cell_type": "code",
   "execution_count": 20,
   "metadata": {
    "colab": {
     "base_uri": "https://localhost:8080/",
     "height": 305
    },
    "colab_type": "code",
    "id": "u1RaWFZAEYXx",
    "outputId": "d646dc0c-b51f-4c80-9db5-3b345c15acdb"
   },
   "outputs": [
    {
     "name": "stdout",
     "output_type": "stream",
     "text": [
      "[[ 1.00000000e+00 -2.23711432e-17  0.00000000e+00  0.00000000e+00\n",
      "   0.00000000e+00  0.00000000e+00  0.00000000e+00  0.00000000e+00]\n",
      " [-2.23711432e-17  1.00000000e+00  0.00000000e+00  0.00000000e+00\n",
      "   0.00000000e+00  0.00000000e+00  0.00000000e+00  0.00000000e+00]\n",
      " [ 0.00000000e+00  0.00000000e+00  1.00000000e+00 -2.23711432e-17\n",
      "   0.00000000e+00  0.00000000e+00  0.00000000e+00  0.00000000e+00]\n",
      " [ 0.00000000e+00  0.00000000e+00 -2.23711432e-17  1.00000000e+00\n",
      "   0.00000000e+00  0.00000000e+00  0.00000000e+00  0.00000000e+00]\n",
      " [ 0.00000000e+00  0.00000000e+00  0.00000000e+00  0.00000000e+00\n",
      "   1.00000000e+00 -2.23711432e-17  0.00000000e+00  0.00000000e+00]\n",
      " [ 0.00000000e+00  0.00000000e+00  0.00000000e+00  0.00000000e+00\n",
      "  -2.23711432e-17  1.00000000e+00  0.00000000e+00  0.00000000e+00]\n",
      " [ 0.00000000e+00  0.00000000e+00  0.00000000e+00  0.00000000e+00\n",
      "   0.00000000e+00  0.00000000e+00  1.00000000e+00 -2.23711432e-17]\n",
      " [ 0.00000000e+00  0.00000000e+00  0.00000000e+00  0.00000000e+00\n",
      "   0.00000000e+00  0.00000000e+00  2.23711432e-17 -1.00000000e+00]]\n"
     ]
    }
   ],
   "source": [
    "CCNOT = np.array([[1,0,0,0,0,0,0,0],[0,1,0,0,0,0,0,0],[0,0,1,0,0,0,0,0],[0,0,0,1,0,0,0,0],[0,0,0,0,1,0,0,0],[0,0,0,0,0,1,0,0],[0,0,0,0,0,0,0,1],[0,0,0,0,0,0,1,0]])\n",
    "print(np.kron(np.kron(I,I),H)@CCNOT@np.kron(np.kron(I,I),H))"
   ]
  },
  {
   "cell_type": "markdown",
   "metadata": {
    "colab_type": "text",
    "id": "Uv-XfW45FPc8"
   },
   "source": [
    "つづいて、振幅増幅反転もH,XとCCZでつくれます。"
   ]
  },
  {
   "cell_type": "code",
   "execution_count": 21,
   "metadata": {
    "colab": {
     "base_uri": "https://localhost:8080/",
     "height": 161
    },
    "colab_type": "code",
    "id": "8sn3lVGHE0zs",
    "outputId": "1e5f3ad6-8aef-4f37-911e-1514ee660f57"
   },
   "outputs": [
    {
     "name": "stdout",
     "output_type": "stream",
     "text": [
      "[[ 0.75 -0.25 -0.25 -0.25 -0.25 -0.25 -0.25 -0.25]\n",
      " [-0.25  0.75 -0.25 -0.25 -0.25 -0.25 -0.25 -0.25]\n",
      " [-0.25 -0.25  0.75 -0.25 -0.25 -0.25 -0.25 -0.25]\n",
      " [-0.25 -0.25 -0.25  0.75 -0.25 -0.25 -0.25 -0.25]\n",
      " [-0.25 -0.25 -0.25 -0.25  0.75 -0.25 -0.25 -0.25]\n",
      " [-0.25 -0.25 -0.25 -0.25 -0.25  0.75 -0.25 -0.25]\n",
      " [-0.25 -0.25 -0.25 -0.25 -0.25 -0.25  0.75 -0.25]\n",
      " [-0.25 -0.25 -0.25 -0.25 -0.25 -0.25 -0.25  0.75]]\n"
     ]
    }
   ],
   "source": [
    "print(np.kron(np.kron(H,H),H)@np.kron(np.kron(X,X),X)@np.kron(np.kron(I,I),H)@CCNOT@np.kron(np.kron(I,I),H)@np.kron(np.kron(X,X),X)@np.kron(np.kron(H,H),H))    "
   ]
  },
  {
   "cell_type": "markdown",
   "metadata": {
    "colab_type": "text",
    "id": "rcXDxLsrFbQS"
   },
   "source": [
    "Blueqatだと次のようになります。"
   ]
  },
  {
   "cell_type": "code",
   "execution_count": 27,
   "metadata": {},
   "outputs": [
    {
     "data": {
      "text/plain": [
       "array([0.1767767 +0.00000000e+00j, 0.1767767 -5.02559153e-17j,\n",
       "       0.1767767 -6.98820710e-17j, 0.1767767 -1.96261557e-17j,\n",
       "       0.1767767 -6.24500451e-17j, 0.1767767 -7.43202591e-18j,\n",
       "       0.1767767 -7.43202591e-18j, 0.88388348-2.02214187e-16j])"
      ]
     },
     "execution_count": 27,
     "metadata": {},
     "output_type": "execute_result"
    }
   ],
   "source": [
    "# 重ね合わせ状態\n",
    "c = Circuit().h[:]\n",
    "# マーキング\n",
    "c.h[2].ccx[0,1,2].h[2]\n",
    "# 振幅反転増幅\n",
    "c.h[:].x[:].h[2].ccx[0,1,2].h[2].x[:].h[:]\n",
    "# 結果 (状態ベクトル)\n",
    "c.run()"
   ]
  },
  {
   "cell_type": "code",
   "execution_count": 30,
   "metadata": {},
   "outputs": [
    {
     "data": {
      "text/plain": [
       "Counter({'111': 80,\n",
       "         '100': 5,\n",
       "         '000': 1,\n",
       "         '110': 6,\n",
       "         '011': 3,\n",
       "         '101': 1,\n",
       "         '010': 3,\n",
       "         '001': 1})"
      ]
     },
     "execution_count": 30,
     "metadata": {},
     "output_type": "execute_result"
    }
   ],
   "source": [
    "# 結果 (観測)\n",
    "c.m[:].run(shots=100)"
   ]
  },
  {
   "cell_type": "markdown",
   "metadata": {},
   "source": [
    "高い確率で|111>が得られました。"
   ]
  }
 ],
 "metadata": {
  "colab": {
   "name": "tutorial006_grover.ipynb",
   "provenance": [],
   "version": "0.3.2"
  },
  "kernelspec": {
   "display_name": "Python 3",
   "language": "python",
   "name": "python3"
  },
  "language_info": {
   "codemirror_mode": {
    "name": "ipython",
    "version": 3
   },
   "file_extension": ".py",
   "mimetype": "text/x-python",
   "name": "python",
   "nbconvert_exporter": "python",
   "pygments_lexer": "ipython3",
   "version": "3.7.1"
  }
 },
 "nbformat": 4,
 "nbformat_minor": 1
}
