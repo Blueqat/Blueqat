{
  "nbformat": 4,
  "nbformat_minor": 0,
  "metadata": {
    "colab": {
      "name": "tutorial006_grover.ipynb",
      "version": "0.3.2",
      "provenance": []
    },
    "kernelspec": {
      "name": "python3",
      "display_name": "Python 3"
    }
  },
  "cells": [
    {
      "metadata": {
        "id": "EY7Ola7n-_5U",
        "colab_type": "text"
      },
      "cell_type": "markdown",
      "source": [
        "##Grover（グローバー）の検索アルゴリズム\n",
        "グローバーのアルゴリズムは整頓されていないデータの中から目的のデータを探し出すためのアルゴリズムです。理論的には現在の計算機の√Nの計算量で探索ができるということで有名なアルゴリズムです。"
      ]
    },
    {
      "metadata": {
        "id": "xFNGYGCj_a7s",
        "colab_type": "text"
      },
      "cell_type": "markdown",
      "source": [
        "##ステップ\n",
        "全体のアルゴリズムの流れを簡単にまとめます。  \n",
        "  \n",
        "１、重ね合わせ状態を作る（すべての量子ビットにHゲートを適用）  \n",
        "２、マーキングと呼ばれる作業  \n",
        "３、振幅増幅反転と呼ばれる作業（これでほしい答えを浮かび上がらせる）  "
      ]
    },
    {
      "metadata": {
        "id": "xHtp9G4f_4Qb",
        "colab_type": "text"
      },
      "cell_type": "markdown",
      "source": [
        "##マーキング\n",
        "まずは2量子ビットのGroverからです。4通りの組み合わせから11の組み合わせを抜き出してみたいと思います。グローバーのアルゴリズムでは、まず求めたい答えにマーキングを行います。マーキングの方法は簡単で、求めたい解に対応する状態ベクトルだけに-1がかかるようにします。マーキングはゲート操作を使います。\n",
        "\n",
        "たとえば、00にマーキングしたい場合には、  \n",
        "[[-1,0,0,0],[0,1,0,0],[0,0,1,0,],[0,0,0,1]] = S[0],S[1],CZ[0,1],S[0],S[1]  \n",
        "というように、00の状態ベクトル[1,0,0,0]に対応する部分に-1を設定した行列をかけます。  \n",
        "  \n",
        "01の時には、  \n",
        "[[1,0,0,0],[0,-1,0,0],[0,0,1,0,],[0,0,0,1]] = S[1],CZ[0,1],S[1]  \n",
        "  \n",
        "10の時には、  \n",
        "[[1,0,0,0],[0,1,0,0],[0,0,-1,0,],[0,0,0,1]] = S[0],CZ[0,1],S[0]  \n",
        "  \n",
        "11の時には、  \n",
        "[[1,0,0,0],[0,1,0,0],[0,0,1,0,],[0,0,0,-1]] = CZ[0,1]  \n",
        "\n",
        "こうすることによって対応する行列が実現できます。求めたい解に対するユニタリー変換を作り出す必要があります。まずはBlueqatを使う前にnumpyで確認をしてみます。Sゲート、Hゲート、単位行列Iなどを用意して、"
      ]
    },
    {
      "metadata": {
        "id": "e0v0ZBOO9uMm",
        "colab_type": "code",
        "colab": {}
      },
      "cell_type": "code",
      "source": [
        "import numpy as np\n",
        "S = np.array([[1,0],[0,1j]])\n",
        "H = 1/np.sqrt(2)*np.array([[1,1],[1,-1]])\n",
        "I = np.eye(2)\n",
        "CNOT = [[1,0,0,0],[0,1,0,0],[0,0,0,1],[0,0,1,0]]"
      ],
      "execution_count": 0,
      "outputs": []
    },
    {
      "metadata": {
        "id": "87Wu5Xv_AVYu",
        "colab_type": "code",
        "colab": {
          "base_uri": "https://localhost:8080/",
          "height": 161
        },
        "outputId": "30c40471-42bc-40ca-8b96-fe5780265be0"
      },
      "cell_type": "code",
      "source": [
        "print(np.kron(S,S)@np.kron(I,H)@CNOT@np.kron(I,H)@np.kron(S,S))"
      ],
      "execution_count": 6,
      "outputs": [
        {
          "output_type": "stream",
          "text": [
            "[[ 1.+0.00000000e+00j  0.-2.23711432e-17j  0.+0.00000000e+00j\n",
            "   0.+0.00000000e+00j]\n",
            " [ 0.-2.23711432e-17j -1.+0.00000000e+00j  0.+0.00000000e+00j\n",
            "   0.+0.00000000e+00j]\n",
            " [ 0.+0.00000000e+00j  0.+0.00000000e+00j -1.+0.00000000e+00j\n",
            "   0.+2.23711432e-17j]\n",
            " [ 0.+0.00000000e+00j  0.+0.00000000e+00j  0.-2.23711432e-17j\n",
            "  -1.+0.00000000e+00j]]\n"
          ],
          "name": "stdout"
        }
      ]
    },
    {
      "metadata": {
        "id": "TAmgTunYBAub",
        "colab_type": "code",
        "colab": {
          "base_uri": "https://localhost:8080/",
          "height": 161
        },
        "outputId": "830939be-4acb-4047-9835-2f31d3bd1bd1"
      },
      "cell_type": "code",
      "source": [
        "print(np.kron(I,S)@np.kron(I,H)@CNOT@np.kron(I,H)@np.kron(I,S)) "
      ],
      "execution_count": 7,
      "outputs": [
        {
          "output_type": "stream",
          "text": [
            "[[ 1.+0.00000000e+00j  0.-2.23711432e-17j  0.+0.00000000e+00j\n",
            "   0.+0.00000000e+00j]\n",
            " [ 0.-2.23711432e-17j -1.+0.00000000e+00j  0.+0.00000000e+00j\n",
            "   0.+0.00000000e+00j]\n",
            " [ 0.+0.00000000e+00j  0.+0.00000000e+00j  1.+0.00000000e+00j\n",
            "   0.-2.23711432e-17j]\n",
            " [ 0.+0.00000000e+00j  0.+0.00000000e+00j  0.+2.23711432e-17j\n",
            "   1.+0.00000000e+00j]]\n"
          ],
          "name": "stdout"
        }
      ]
    },
    {
      "metadata": {
        "id": "UBmEAS2SBVv9",
        "colab_type": "code",
        "colab": {
          "base_uri": "https://localhost:8080/",
          "height": 161
        },
        "outputId": "bd8bb797-5b40-4090-cbb5-be188b092716"
      },
      "cell_type": "code",
      "source": [
        "print(np.kron(S,I)@np.kron(I,H)@CNOT@np.kron(I,H)@np.kron(S,I))"
      ],
      "execution_count": 8,
      "outputs": [
        {
          "output_type": "stream",
          "text": [
            "[[ 1.00000000e+00+0.j -2.23711432e-17+0.j  0.00000000e+00+0.j\n",
            "   0.00000000e+00+0.j]\n",
            " [-2.23711432e-17+0.j  1.00000000e+00+0.j  0.00000000e+00+0.j\n",
            "   0.00000000e+00+0.j]\n",
            " [ 0.00000000e+00+0.j  0.00000000e+00+0.j -1.00000000e+00+0.j\n",
            "   2.23711432e-17+0.j]\n",
            " [ 0.00000000e+00+0.j  0.00000000e+00+0.j -2.23711432e-17+0.j\n",
            "   1.00000000e+00+0.j]]\n"
          ],
          "name": "stdout"
        }
      ]
    },
    {
      "metadata": {
        "id": "cVzGIaCTBcnu",
        "colab_type": "code",
        "colab": {
          "base_uri": "https://localhost:8080/",
          "height": 89
        },
        "outputId": "68b005de-a477-4597-c7db-fc412772562b"
      },
      "cell_type": "code",
      "source": [
        "print(np.kron(I,H)@CNOT@np.kron(I,H))"
      ],
      "execution_count": 10,
      "outputs": [
        {
          "output_type": "stream",
          "text": [
            "[[ 1.00000000e+00 -2.23711432e-17  0.00000000e+00  0.00000000e+00]\n",
            " [-2.23711432e-17  1.00000000e+00  0.00000000e+00  0.00000000e+00]\n",
            " [ 0.00000000e+00  0.00000000e+00  1.00000000e+00 -2.23711432e-17]\n",
            " [ 0.00000000e+00  0.00000000e+00  2.23711432e-17 -1.00000000e+00]]\n"
          ],
          "name": "stdout"
        }
      ]
    },
    {
      "metadata": {
        "id": "MlVU_gLkBijH",
        "colab_type": "text"
      },
      "cell_type": "markdown",
      "source": [
        "これらは４つのマーキングの行列を表しており、対応する状態ベクトルにマイナスマーキングするようになっています。基本はCNOTゲートをベースに作られています。このような考え方は今後量子ビットが多くなってきたり、より複雑な検索回路を作るのに便利です。"
      ]
    },
    {
      "metadata": {
        "id": "LsoVEAKSB35g",
        "colab_type": "text"
      },
      "cell_type": "markdown",
      "source": [
        "##振幅増幅反転\n",
        "そして次のステップは反転させた状態ベクトルの振幅を増幅させ+に戻します。この際に振幅を増幅させるということは、出現確率を増やし求めたい検索結果の出る確率を上げるということに対応します。\n",
        "\n",
        "振幅増幅反転回路は量子ビット数に依存し、今回のように二量子ビットの場合には、"
      ]
    },
    {
      "metadata": {
        "id": "CqvOA9GRBe4D",
        "colab_type": "code",
        "colab": {}
      },
      "cell_type": "code",
      "source": [
        "D = np.array([[-1,1,1,1],[1,-1,1,1],[1,1,-1,1],[1,1,1,-1]])/2"
      ],
      "execution_count": 0,
      "outputs": []
    },
    {
      "metadata": {
        "id": "ClI9krtfCM_T",
        "colab_type": "text"
      },
      "cell_type": "markdown",
      "source": [
        "このように、対角項と非対角項の符号が異なるような平均値周りでの反転回路を実現することでできます。このゲートはやはりCNOTをベースに作ることができます。CNOT=CCXにHゲートを適用し、CCZにしてから、XとHゲートで囲むことで実現できます。"
      ]
    },
    {
      "metadata": {
        "id": "Xen0Oa1tCMEm",
        "colab_type": "code",
        "colab": {
          "base_uri": "https://localhost:8080/",
          "height": 89
        },
        "outputId": "397be115-b916-4f09-cc1a-ab5c9579b831"
      },
      "cell_type": "code",
      "source": [
        "X = [[0,1],[1,0]]\n",
        "print(np.kron(H,H)@np.kron(X,X)@np.array([[1,0,0,0],[0,1,0,0],[0,0,1,0],[0,0,0,-1]])@np.kron(X,X)@np.kron(H,H))"
      ],
      "execution_count": 12,
      "outputs": [
        {
          "output_type": "stream",
          "text": [
            "[[ 0.5 -0.5 -0.5 -0.5]\n",
            " [-0.5  0.5 -0.5 -0.5]\n",
            " [-0.5 -0.5  0.5 -0.5]\n",
            " [-0.5 -0.5 -0.5  0.5]]\n"
          ],
          "name": "stdout"
        }
      ]
    },
    {
      "metadata": {
        "id": "syvpkbaBCyn2",
        "colab_type": "text"
      },
      "cell_type": "markdown",
      "source": [
        "このように同様の行列ができました。これを適用することで振幅増幅反転を実現できます。\n",
        "\n",
        "00の回路では、適用してない場合と適用した場合を比較して、"
      ]
    },
    {
      "metadata": {
        "id": "i0RHrUONCwzW",
        "colab_type": "code",
        "colab": {
          "base_uri": "https://localhost:8080/",
          "height": 35
        },
        "outputId": "8d4e8357-8770-4729-fe68-9f0f666e62be"
      },
      "cell_type": "code",
      "source": [
        "print(np.diag([-1,1,1,1])@np.kron(H,H)@np.array([1,0,0,0]))                                            "
      ],
      "execution_count": 17,
      "outputs": [
        {
          "output_type": "stream",
          "text": [
            "[-0.5  0.5  0.5  0.5]\n"
          ],
          "name": "stdout"
        }
      ]
    },
    {
      "metadata": {
        "id": "g3S1bpHQDBUm",
        "colab_type": "code",
        "colab": {
          "base_uri": "https://localhost:8080/",
          "height": 35
        },
        "outputId": "fd13484a-0f75-42c6-ca64-1913229346da"
      },
      "cell_type": "code",
      "source": [
        "print(D@np.diag([-1,1,1,1])@np.kron(H,H)@np.array([1,0,0,0]))    "
      ],
      "execution_count": 18,
      "outputs": [
        {
          "output_type": "stream",
          "text": [
            "[1. 0. 0. 0.]\n"
          ],
          "name": "stdout"
        }
      ]
    },
    {
      "metadata": {
        "id": "HciyTmvTDRRc",
        "colab_type": "text"
      },
      "cell_type": "markdown",
      "source": [
        "つぎに01回路は、"
      ]
    },
    {
      "metadata": {
        "id": "ZXKHUQaoDGkj",
        "colab_type": "code",
        "colab": {
          "base_uri": "https://localhost:8080/",
          "height": 35
        },
        "outputId": "2180d63a-c195-4863-d64d-cec9a99f9a87"
      },
      "cell_type": "code",
      "source": [
        "print(np.diag([1,-1,1,1])@np.kron(H,H)@np.array([1,0,0,0]))    "
      ],
      "execution_count": 19,
      "outputs": [
        {
          "output_type": "stream",
          "text": [
            "[ 0.5 -0.5  0.5  0.5]\n"
          ],
          "name": "stdout"
        }
      ]
    },
    {
      "metadata": {
        "id": "3zbxqEaiDWbi",
        "colab_type": "code",
        "colab": {
          "base_uri": "https://localhost:8080/",
          "height": 35
        },
        "outputId": "d0090304-5514-4e38-8a05-4ddf1f72819e"
      },
      "cell_type": "code",
      "source": [
        "print(D@np.diag([1,-1,1,1])@np.kron(H,H)@np.array([1,0,0,0]))    "
      ],
      "execution_count": 20,
      "outputs": [
        {
          "output_type": "stream",
          "text": [
            "[0. 1. 0. 0.]\n"
          ],
          "name": "stdout"
        }
      ]
    },
    {
      "metadata": {
        "id": "MX6uHMEzDbwI",
        "colab_type": "text"
      },
      "cell_type": "markdown",
      "source": [
        "そして10回路、"
      ]
    },
    {
      "metadata": {
        "id": "LzLyTnPeDa-p",
        "colab_type": "code",
        "colab": {
          "base_uri": "https://localhost:8080/",
          "height": 35
        },
        "outputId": "7f101a58-db94-4ca0-f082-6a9e6e86a369"
      },
      "cell_type": "code",
      "source": [
        "print(np.diag([1,1,-1,1])@np.kron(H,H)@np.array([1,0,0,0]))"
      ],
      "execution_count": 21,
      "outputs": [
        {
          "output_type": "stream",
          "text": [
            "[ 0.5  0.5 -0.5  0.5]\n"
          ],
          "name": "stdout"
        }
      ]
    },
    {
      "metadata": {
        "id": "3ne51ZCjDhKQ",
        "colab_type": "code",
        "colab": {
          "base_uri": "https://localhost:8080/",
          "height": 35
        },
        "outputId": "1c9af203-9e9f-46a3-a74f-1ba339e8b3ad"
      },
      "cell_type": "code",
      "source": [
        "print(D@np.diag([1,1,-1,1])@np.kron(H,H)@np.array([1,0,0,0]))"
      ],
      "execution_count": 22,
      "outputs": [
        {
          "output_type": "stream",
          "text": [
            "[0. 0. 1. 0.]\n"
          ],
          "name": "stdout"
        }
      ]
    },
    {
      "metadata": {
        "id": "N4G7VZzzDkSL",
        "colab_type": "text"
      },
      "cell_type": "markdown",
      "source": [
        "最後に11回路"
      ]
    },
    {
      "metadata": {
        "id": "SqSKGuUBDjNZ",
        "colab_type": "code",
        "colab": {
          "base_uri": "https://localhost:8080/",
          "height": 35
        },
        "outputId": "09a0579e-c126-4116-8427-fe6688e360bc"
      },
      "cell_type": "code",
      "source": [
        "print(np.diag([1,1,1,-1])@np.kron(H,H)@np.array([1,0,0,0])) "
      ],
      "execution_count": 23,
      "outputs": [
        {
          "output_type": "stream",
          "text": [
            "[ 0.5  0.5  0.5 -0.5]\n"
          ],
          "name": "stdout"
        }
      ]
    },
    {
      "metadata": {
        "id": "rOFy46AvDp4a",
        "colab_type": "code",
        "colab": {
          "base_uri": "https://localhost:8080/",
          "height": 35
        },
        "outputId": "cf3a3c0d-5531-4388-cd80-0b40c7a33494"
      },
      "cell_type": "code",
      "source": [
        "print(D@np.diag([1,1,1,-1])@np.kron(H,H)@np.array([1,0,0,0])) "
      ],
      "execution_count": 25,
      "outputs": [
        {
          "output_type": "stream",
          "text": [
            "[0. 0. 0. 1.]\n"
          ],
          "name": "stdout"
        }
      ]
    },
    {
      "metadata": {
        "id": "0-Qr1j_YDv-g",
        "colab_type": "text"
      },
      "cell_type": "markdown",
      "source": [
        "このように、振幅増幅反転のユニタリ変換は各パターン共通となっています。こちらをBlueqatに直してみます。インストールがまだの場合には、pipインストールで入手できます。"
      ]
    },
    {
      "metadata": {
        "id": "1hLpDrY7EKhw",
        "colab_type": "code",
        "colab": {}
      },
      "cell_type": "code",
      "source": [
        "!pip install blueqat"
      ],
      "execution_count": 0,
      "outputs": []
    },
    {
      "metadata": {
        "id": "cq9hNFk5DrTy",
        "colab_type": "code",
        "colab": {
          "base_uri": "https://localhost:8080/",
          "height": 35
        },
        "outputId": "4115fab2-4314-4132-e664-06f6c8d79b3e"
      },
      "cell_type": "code",
      "source": [
        "from blueqat import Circuit\n",
        "Circuit().h[:].s[:].h[1].cnot[0,1].h[1].s[:].h[:].x[:].h[1].cnot[0,1].h[1].x[:].h[:].run()"
      ],
      "execution_count": 28,
      "outputs": [
        {
          "output_type": "execute_result",
          "data": {
            "text/plain": [
              "array([1.+0.j, 0.+0.j, 0.+0.j, 0.+0.j])"
            ]
          },
          "metadata": {
            "tags": []
          },
          "execution_count": 28
        }
      ]
    },
    {
      "metadata": {
        "id": "_Q9Z_5TvEEIc",
        "colab_type": "code",
        "colab": {
          "base_uri": "https://localhost:8080/",
          "height": 35
        },
        "outputId": "f2f43aa5-e849-45db-95ec-921c4477d60a"
      },
      "cell_type": "code",
      "source": [
        "Circuit().h[:].s[0].h[1].cnot[0,1].h[1].s[0].h[:].x[:].h[1].cnot[0,1].h[1].x[:].h[:].run()             \n"
      ],
      "execution_count": 29,
      "outputs": [
        {
          "output_type": "execute_result",
          "data": {
            "text/plain": [
              "array([0.-0.j, 1.+0.j, 0.-0.j, 0.-0.j])"
            ]
          },
          "metadata": {
            "tags": []
          },
          "execution_count": 29
        }
      ]
    },
    {
      "metadata": {
        "id": "JCosrACmESAu",
        "colab_type": "code",
        "colab": {
          "base_uri": "https://localhost:8080/",
          "height": 35
        },
        "outputId": "24b94664-b1cb-4a3e-98b0-b58d601a54d1"
      },
      "cell_type": "code",
      "source": [
        "Circuit().h[:].s[1].h[1].cnot[0,1].h[1].s[1].h[:].x[:].h[1].cnot[0,1].h[1].x[:].h[:].run()             \n"
      ],
      "execution_count": 30,
      "outputs": [
        {
          "output_type": "execute_result",
          "data": {
            "text/plain": [
              "array([0.-0.j, 0.-0.j, 1.+0.j, 0.-0.j])"
            ]
          },
          "metadata": {
            "tags": []
          },
          "execution_count": 30
        }
      ]
    },
    {
      "metadata": {
        "id": "p4ujSfxbETzG",
        "colab_type": "code",
        "colab": {
          "base_uri": "https://localhost:8080/",
          "height": 35
        },
        "outputId": "a21e1693-3a01-499e-ccff-036777721274"
      },
      "cell_type": "code",
      "source": [
        "Circuit().h[:].h[1].cnot[0,1].h[1].h[:].x[:].h[1].cnot[0,1].h[1].x[:].h[:].run()                       \n"
      ],
      "execution_count": 31,
      "outputs": [
        {
          "output_type": "execute_result",
          "data": {
            "text/plain": [
              "array([0.-0.j, 0.-0.j, 0.-0.j, 1.+0.j])"
            ]
          },
          "metadata": {
            "tags": []
          },
          "execution_count": 31
        }
      ]
    },
    {
      "metadata": {
        "id": "4yz6uRcYElp-",
        "colab_type": "text"
      },
      "cell_type": "markdown",
      "source": [
        "これがGroverの検索アルゴリズムです。"
      ]
    },
    {
      "metadata": {
        "id": "2bEa-YBVEmbG",
        "colab_type": "text"
      },
      "cell_type": "markdown",
      "source": [
        "##3量子ビットの場合\n",
        "続いて3量子ビットもやってみます。\n",
        "CCNOT(CCXもしくはトフォリ)を使います。\n",
        "まず、マーキングの回路として、8つの状態ベクトルを操作する、np.diag([1,1,1,1,1,1,1,-1])という111だけを抜き出す回路を作ります。これは、CCXの最後のXをHで囲むこと、CCZに変換することで実現できます。"
      ]
    },
    {
      "metadata": {
        "id": "u1RaWFZAEYXx",
        "colab_type": "code",
        "colab": {
          "base_uri": "https://localhost:8080/",
          "height": 305
        },
        "outputId": "d646dc0c-b51f-4c80-9db5-3b345c15acdb"
      },
      "cell_type": "code",
      "source": [
        "CCNOT = np.array([[1,0,0,0,0,0,0,0],[0,1,0,0,0,0,0,0],[0,0,1,0,0,0,0,0],[0,0,0,1,0,0,0,0],[0,0,0,0,1,0,0,0],[0,0,0,0,0,1,0,0],[0,0,0,0,0,0,0,1],[0,0,0,0,0,0,1,0]])\n",
        "print(np.kron(np.kron(I,I),H)@CCNOT@np.kron(np.kron(I,I),H))"
      ],
      "execution_count": 34,
      "outputs": [
        {
          "output_type": "stream",
          "text": [
            "[[ 1.00000000e+00 -2.23711432e-17  0.00000000e+00  0.00000000e+00\n",
            "   0.00000000e+00  0.00000000e+00  0.00000000e+00  0.00000000e+00]\n",
            " [-2.23711432e-17  1.00000000e+00  0.00000000e+00  0.00000000e+00\n",
            "   0.00000000e+00  0.00000000e+00  0.00000000e+00  0.00000000e+00]\n",
            " [ 0.00000000e+00  0.00000000e+00  1.00000000e+00 -2.23711432e-17\n",
            "   0.00000000e+00  0.00000000e+00  0.00000000e+00  0.00000000e+00]\n",
            " [ 0.00000000e+00  0.00000000e+00 -2.23711432e-17  1.00000000e+00\n",
            "   0.00000000e+00  0.00000000e+00  0.00000000e+00  0.00000000e+00]\n",
            " [ 0.00000000e+00  0.00000000e+00  0.00000000e+00  0.00000000e+00\n",
            "   1.00000000e+00 -2.23711432e-17  0.00000000e+00  0.00000000e+00]\n",
            " [ 0.00000000e+00  0.00000000e+00  0.00000000e+00  0.00000000e+00\n",
            "  -2.23711432e-17  1.00000000e+00  0.00000000e+00  0.00000000e+00]\n",
            " [ 0.00000000e+00  0.00000000e+00  0.00000000e+00  0.00000000e+00\n",
            "   0.00000000e+00  0.00000000e+00  1.00000000e+00 -2.23711432e-17]\n",
            " [ 0.00000000e+00  0.00000000e+00  0.00000000e+00  0.00000000e+00\n",
            "   0.00000000e+00  0.00000000e+00  2.23711432e-17 -1.00000000e+00]]\n"
          ],
          "name": "stdout"
        }
      ]
    },
    {
      "metadata": {
        "id": "Uv-XfW45FPc8",
        "colab_type": "text"
      },
      "cell_type": "markdown",
      "source": [
        "つづいて、振幅増幅反転もH,XとCCZでつくれます。"
      ]
    },
    {
      "metadata": {
        "id": "8sn3lVGHE0zs",
        "colab_type": "code",
        "colab": {
          "base_uri": "https://localhost:8080/",
          "height": 161
        },
        "outputId": "1e5f3ad6-8aef-4f37-911e-1514ee660f57"
      },
      "cell_type": "code",
      "source": [
        "print(np.kron(np.kron(H,H),H)@np.kron(np.kron(X,X),X)@np.kron(np.kron(I,I),H)@CCNOT@np.kron(np.kron(I,I),H)@np.kron(np.kron(X,X),X)@np.kron(np.kron(H,H),H))    "
      ],
      "execution_count": 35,
      "outputs": [
        {
          "output_type": "stream",
          "text": [
            "[[ 0.75 -0.25 -0.25 -0.25 -0.25 -0.25 -0.25 -0.25]\n",
            " [-0.25  0.75 -0.25 -0.25 -0.25 -0.25 -0.25 -0.25]\n",
            " [-0.25 -0.25  0.75 -0.25 -0.25 -0.25 -0.25 -0.25]\n",
            " [-0.25 -0.25 -0.25  0.75 -0.25 -0.25 -0.25 -0.25]\n",
            " [-0.25 -0.25 -0.25 -0.25  0.75 -0.25 -0.25 -0.25]\n",
            " [-0.25 -0.25 -0.25 -0.25 -0.25  0.75 -0.25 -0.25]\n",
            " [-0.25 -0.25 -0.25 -0.25 -0.25 -0.25  0.75 -0.25]\n",
            " [-0.25 -0.25 -0.25 -0.25 -0.25 -0.25 -0.25  0.75]]\n"
          ],
          "name": "stdout"
        }
      ]
    },
    {
      "metadata": {
        "id": "rcXDxLsrFbQS",
        "colab_type": "text"
      },
      "cell_type": "markdown",
      "source": [
        "Blueqatだとコードが長くなりすぎますので、コードを短くかけるようにリクエスト中です。\n",
        "コンパクトにかけるようになったらまたおしらせします。"
      ]
    }
  ]
}