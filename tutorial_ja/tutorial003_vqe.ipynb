{
  "nbformat": 4,
  "nbformat_minor": 0,
  "metadata": {
    "colab": {
      "name": "Untitled35.ipynb",
      "version": "0.3.2",
      "provenance": []
    },
    "kernelspec": {
      "name": "python3",
      "display_name": "Python 3"
    }
  },
  "cells": [
    {
      "metadata": {
        "id": "1Oq6A6XmAET4",
        "colab_type": "text"
      },
      "cell_type": "markdown",
      "source": [
        "#ハミルトニアンとVQE\n",
        "量子コンピュータを使ってシミュレーションを行う際には、元のシミュレーションをするためのハミルトニアンを用意する必要があります。作り方を簡単に確認します。"
      ]
    },
    {
      "metadata": {
        "id": "S8IrqHrOAuFG",
        "colab_type": "text"
      },
      "cell_type": "markdown",
      "source": [
        "##ハミルトニアンの表現と単純化\n",
        "ハミルトニアンの表記を簡潔にし、さらに自動的にハミルトニアンの不要な演算子を消去しシンプルにする機能を搭載しています。"
      ]
    },
    {
      "metadata": {
        "id": "LutYJO2iADa6",
        "colab_type": "code",
        "colab": {
          "base_uri": "https://localhost:8080/",
          "height": 54
        },
        "outputId": "931abd32-201d-43b1-a5e3-11437fd1be49"
      },
      "cell_type": "code",
      "source": [
        "from blueqat.pauli import *\n",
        "\n",
        "hamiltonian1 = (1.23 * Z[0] + 4.56 * X[1] * Z[2]) ** 2\n",
        "hamiltonian2 = (2.46 * Y[0] + 5.55 * Z[1] * X[2] * X[1]) ** 2\n",
        "hamiltonian = hamiltonian1 + hamiltonian2\n",
        "print(hamiltonian)"
      ],
      "execution_count": 2,
      "outputs": [
        {
          "output_type": "stream",
          "text": [
            "7.5645*I + 5.6088*Z[0]*X[1]*Z[2] + 5.6088*X[1]*Z[2]*Z[0] + 20.793599999999998*X[1]*Z[2]*X[1]*Z[2] + 13.652999999999999*Y[0]*Z[1]*X[2]*X[1] + 13.652999999999999*Z[1]*X[2]*X[1]*Y[0] + 30.8025*Z[1]*X[2]*X[1]*Z[1]*X[2]*X[1]\n"
          ],
          "name": "stdout"
        }
      ]
    },
    {
      "metadata": {
        "id": "pHxBofk9AqsQ",
        "colab_type": "code",
        "colab": {
          "base_uri": "https://localhost:8080/",
          "height": 34
        },
        "outputId": "e33d3630-5e5e-4cfa-d2f0-c3da6c7cd133"
      },
      "cell_type": "code",
      "source": [
        "hamiltonian = hamiltonian.simplify() # 無駄な演算子を省き、シンプルにする\n",
        "print(hamiltonian)"
      ],
      "execution_count": 3,
      "outputs": [
        {
          "output_type": "stream",
          "text": [
            "-2.4444000000000017*I - 27.305999999999997j*Y[0]*Y[1]*X[2] + 11.2176*Z[0]*X[1]*Z[2]\n"
          ],
          "name": "stdout"
        }
      ]
    },
    {
      "metadata": {
        "id": "1j33-NfuBBOy",
        "colab_type": "text"
      },
      "cell_type": "markdown",
      "source": [
        "##VQE\n",
        "作成したハミルトニアンはVQEというアルゴリズムを通じて計算を行うことができます。\n",
        "精度に影響するステップ数を規定し、シミュレーションにかけます。\n",
        "\n",
        "シミュレーションが終了するとシミュレーションの状態関数から出現確率と共に答えが出てきます。"
      ]
    },
    {
      "metadata": {
        "id": "QBm2DR0mAylx",
        "colab_type": "code",
        "colab": {
          "base_uri": "https://localhost:8080/",
          "height": 54
        },
        "outputId": "f8278dab-e595-4541-a385-f983f473dce6"
      },
      "cell_type": "code",
      "source": [
        "from blueqat import vqe\n",
        "from blueqat.pauli import qubo_bit as q\n",
        "\n",
        "hamiltonian = -3*q(0)-3*q(1)-3*q(2)-3*q(3)-3*q(4)+2*q(0)*q(1)+2*q(0)*q(2)+2*q(0)*q(3)+2*q(0)*q(4)+2*q(1)*q(2)+2*q(1)*q(3)+2*q(1)*q(4)+2*q(2)*q(3)+2*q(2)*q(4)+2*q(3)*q(4)\n",
        "step = 2\n",
        "\n",
        "result = vqe.Vqe(vqe.QaoaAnsatz(hamiltonian, step)).run() # VQEこれだけ\n",
        "print(result.most_common(12))"
      ],
      "execution_count": 4,
      "outputs": [
        {
          "output_type": "stream",
          "text": [
            "(((0, 0, 0, 1, 1), 0.0669142552997253), ((0, 0, 1, 1, 0), 0.06691425529972529), ((0, 0, 1, 0, 1), 0.06691425529972529), ((1, 1, 0, 0, 0), 0.06691425529972526), ((1, 0, 1, 0, 0), 0.06691425529972526), ((1, 0, 0, 1, 0), 0.06691425529972526), ((1, 0, 0, 0, 1), 0.06691425529972526), ((0, 1, 1, 0, 0), 0.06691425529972524), ((0, 1, 0, 1, 0), 0.06691425529972524), ((0, 1, 0, 0, 1), 0.06691425529972524), ((1, 0, 0, 0, 0), 0.022190614260905954), ((0, 0, 0, 1, 0), 0.022190614260905937))\n"
          ],
          "name": "stdout"
        }
      ]
    }
  ]
}