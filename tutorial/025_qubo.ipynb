{
  "nbformat": 4,
  "nbformat_minor": 0,
  "metadata": {
    "colab": {
      "name": "024_anneal_qubo.ipynb",
      "version": "0.3.2",
      "provenance": [],
      "collapsed_sections": []
    },
    "kernelspec": {
      "display_name": "Python 3",
      "language": "python",
      "name": "python3"
    }
  },
  "cells": [
    {
      "metadata": {
        "id": "Ke7dyo7rFyUe",
        "colab_type": "text"
      },
      "cell_type": "markdown",
      "source": [
        "## QUBO\n",
        "For the ising model we usually use +1 and -1 value for the qubits. But it is not usueful for the commercial use. Basically the commersical market is using 01 of binary number for the computer science. So now we introduce the QUBO for binary value solver for ising model."
      ]
    },
    {
      "metadata": {
        "id": "5_HU7GuQF5QE",
        "colab_type": "text"
      },
      "cell_type": "markdown",
      "source": [
        "##QUBO and cost funciton\n",
        "Now we solve a cost function to minimize the total cost funciton. Cost function is like,\n",
        "\n",
        "$$E = q_0+q_0*q_1$$\n",
        "\n",
        "$q_0$ and $q_1$ is qubit and QUBO has the value of 0 and 1 for qubits."
      ]
    },
    {
      "metadata": {
        "id": "5kcY82PnVI2H",
        "colab_type": "text"
      },
      "cell_type": "markdown",
      "source": [
        "##QUBOmatrix\n",
        "To solve QUBO we prepare QUBO matrix to put the coefficient of the equation on the matrix.\n",
        "\n",
        "First we put the coefficient of each qubits on diagonal element and interaction on the off-diagonal element.\n",
        "\n",
        "\n",
        "\\begin{bmatrix}\n",
        "1 & 1 \\\\\n",
        "0 & 0 \\\\\n",
        "\\end{bmatrix}"
      ]
    },
    {
      "metadata": {
        "id": "9LpScRYyV05W",
        "colab_type": "text"
      },
      "cell_type": "markdown",
      "source": [
        "##Install and import of blueqat\n",
        "Now we have opt module inside blueqat to solve optimization problem."
      ]
    },
    {
      "metadata": {
        "id": "3uffzR9gOnAy",
        "colab_type": "code",
        "colab": {}
      },
      "cell_type": "code",
      "source": [
        "!pip install blueqat"
      ],
      "execution_count": 0,
      "outputs": []
    },
    {
      "metadata": {
        "id": "cjerHPm3WOVo",
        "colab_type": "code",
        "colab": {}
      },
      "cell_type": "code",
      "source": [
        "from blueqat import opt"
      ],
      "execution_count": 0,
      "outputs": []
    },
    {
      "metadata": {
        "id": "7ZrKi0VPWQDy",
        "colab_type": "text"
      },
      "cell_type": "markdown",
      "source": [
        "##Solution1\n",
        "The first solution is to put the QUBO matrix in the solver."
      ]
    },
    {
      "metadata": {
        "id": "qzVe_fZMQ0TC",
        "colab_type": "code",
        "colab": {
          "base_uri": "https://localhost:8080/",
          "height": 34
        },
        "outputId": "406259e2-5dc7-466d-d02b-b6b87f2e715c"
      },
      "cell_type": "code",
      "source": [
        "from blueqat.opt import Opt\n",
        "c = Opt().add([[1,1],[0,0]])\n",
        "opt.counter(c.run(shots=100))"
      ],
      "execution_count": 9,
      "outputs": [
        {
          "output_type": "execute_result",
          "data": {
            "text/plain": [
              "Counter({'00': 42, '01': 58})"
            ]
          },
          "metadata": {
            "tags": []
          },
          "execution_count": 9
        }
      ]
    },
    {
      "metadata": {
        "id": "PGBkYSP1F7yy",
        "colab_type": "text"
      },
      "cell_type": "markdown",
      "source": [
        "##Solution2\n",
        "The second solution is much easier. Just put the cost function directly."
      ]
    },
    {
      "metadata": {
        "id": "MbkCTqEfR7be",
        "colab_type": "code",
        "outputId": "f1a5c3ed-d081-4906-8300-bdfb1b8ab921",
        "colab": {
          "base_uri": "https://localhost:8080/",
          "height": 34
        }
      },
      "cell_type": "code",
      "source": [
        "from blueqat.opt import Opt\n",
        "c = Opt().add(\"q0+q0*q1\")\n",
        "opt.counter(c.run(shots=100))"
      ],
      "execution_count": 11,
      "outputs": [
        {
          "output_type": "execute_result",
          "data": {
            "text/plain": [
              "Counter({'00': 50, '01': 50})"
            ]
          },
          "metadata": {
            "tags": []
          },
          "execution_count": 11
        }
      ]
    },
    {
      "metadata": {
        "id": "QMN2XnnQPuwS",
        "colab_type": "text"
      },
      "cell_type": "markdown",
      "source": [
        "##Solution3\n",
        "The third solution is to use the simulation of state vector with qaoa algorithm"
      ]
    },
    {
      "metadata": {
        "id": "AAzSXUShP3yM",
        "colab_type": "code",
        "colab": {
          "base_uri": "https://localhost:8080/",
          "height": 34
        },
        "outputId": "c2f8669e-a395-4d65-914f-67087ecb7d0c"
      },
      "cell_type": "code",
      "source": [
        "from blueqat.opt import Opt\n",
        "c = Opt().add(\"q0+q0*q1\")\n",
        "print(c.qaoa().most_common(5))"
      ],
      "execution_count": 13,
      "outputs": [
        {
          "output_type": "stream",
          "text": [
            "(((0, 1), 0.8262374844817257), ((0, 0), 0.16714141389494053), ((1, 0), 0.004651841302410872), ((1, 1), 0.0019692603209227285))\n"
          ],
          "name": "stdout"
        }
      ]
    },
    {
      "metadata": {
        "id": "0q2SopjVTg9o",
        "colab_type": "text"
      },
      "cell_type": "markdown",
      "source": [
        "Here we now have several answer.\n",
        "Both 01 and 00 takes E=0 as the minimum cost."
      ]
    }
  ]
}