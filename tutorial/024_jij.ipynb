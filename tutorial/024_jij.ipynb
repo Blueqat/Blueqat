{
  "nbformat": 4,
  "nbformat_minor": 0,
  "metadata": {
    "colab": {
      "name": "023_anneal_jij.ipynb",
      "version": "0.3.2",
      "provenance": [],
      "collapsed_sections": []
    },
    "kernelspec": {
      "display_name": "Python 3",
      "language": "python",
      "name": "python3"
    }
  },
  "cells": [
    {
      "metadata": {
        "id": "Ke7dyo7rFyUe",
        "colab_type": "text"
      },
      "cell_type": "markdown",
      "source": [
        "## Ising model\n",
        "We learned about basic quantum circuit calculation now we started to learn optimization problems using blueqat."
      ]
    },
    {
      "metadata": {
        "id": "5_HU7GuQF5QE",
        "colab_type": "text"
      },
      "cell_type": "markdown",
      "source": [
        "##Ising model and cost function\n",
        "Ising model is a physical model to solve discrete optimization problem. Using hamiltonian, cost function and energy function to minimize these kind of functions. Here let's check the way to calculate.\n",
        "\n",
        "$$E = q_0+q_0*q_1$$\n",
        "\n",
        "This is the cost function q is a qubit and it takes value of +1 or -1.\n",
        "The final value of q is tend to take the value to minimize the cost function, and it looks that $q_0$ takes -1 and $q_1$ takes +1 to minimize the cost function E."
      ]
    },
    {
      "metadata": {
        "id": "5kcY82PnVI2H",
        "colab_type": "text"
      },
      "cell_type": "markdown",
      "source": [
        "##Ising model Matrix\n",
        "Ising model is to make the ising model matrix to calculate the answer.\n",
        "The matrix has the coeffficient of the equation.\n",
        "\n",
        "First we prepare the 2*2 matrix because now we have $q_0$ and $q_1$\n",
        "\n",
        "\\begin{bmatrix}\n",
        "0 & 0 \\\\\n",
        "0 & 0 \\\\\n",
        "\\end{bmatrix}\n",
        "\n",
        "Next we put the coefficient of $q_0$ and $q_1$ on the diagonal element.\n",
        "\n",
        "The coefficient of $q_0$ is 1 so we put 1 on the first diagonal element.\n",
        "\n",
        "\\begin{bmatrix}\n",
        "1 & 0 \\\\\n",
        "0 & 0 \\\\\n",
        "\\end{bmatrix}\n",
        "\n",
        "And we put the coefficient of $q_0*q_1$ on the off-diagonal element.\n",
        "\n",
        "\\begin{bmatrix}\n",
        "1 & 1 \\\\\n",
        "0 & 0 \\\\\n",
        "\\end{bmatrix}\n",
        "\n",
        "The ising model matrix is a symmetric matrix so we don't need to put the value on the lower part of the off-diagonal element.\n",
        "\n"
      ]
    },
    {
      "metadata": {
        "id": "9LpScRYyV05W",
        "colab_type": "text"
      },
      "cell_type": "markdown",
      "source": [
        "##Install and import of blueqqat"
      ]
    },
    {
      "metadata": {
        "id": "R6jTOswXD1Y9",
        "colab_type": "code",
        "colab": {}
      },
      "cell_type": "code",
      "source": [
        "!pip install blueqat"
      ],
      "execution_count": 0,
      "outputs": []
    },
    {
      "metadata": {
        "id": "h1SvpkQSD_0r",
        "colab_type": "code",
        "colab": {}
      },
      "cell_type": "code",
      "source": [
        "from blueqat import opt\n",
        "a = opt.opt()"
      ],
      "execution_count": 0,
      "outputs": []
    },
    {
      "metadata": {
        "id": "7ZrKi0VPWQDy",
        "colab_type": "text"
      },
      "cell_type": "markdown",
      "source": [
        "Now we put the ising model matrix"
      ]
    },
    {
      "metadata": {
        "id": "qzVe_fZMQ0TC",
        "colab_type": "code",
        "colab": {}
      },
      "cell_type": "code",
      "source": [
        "a.J = [[1,1],[0,0]]"
      ],
      "execution_count": 0,
      "outputs": []
    },
    {
      "metadata": {
        "id": "PGBkYSP1F7yy",
        "colab_type": "text"
      },
      "cell_type": "markdown",
      "source": [
        "And calculate it. This time we try 100 times."
      ]
    },
    {
      "metadata": {
        "id": "MbkCTqEfR7be",
        "colab_type": "code",
        "outputId": "154fdb1d-38be-4a58-8fd8-57baac856461",
        "colab": {
          "base_uri": "https://localhost:8080/",
          "height": 34
        }
      },
      "cell_type": "code",
      "source": [
        "result = a.sa(shots=100,sampler=\"fast\")\n",
        "opt.counter(result)"
      ],
      "execution_count": 4,
      "outputs": [
        {
          "output_type": "execute_result",
          "data": {
            "text/plain": [
              "Counter({'01': 100})"
            ]
          },
          "metadata": {
            "tags": []
          },
          "execution_count": 4
        }
      ]
    },
    {
      "metadata": {
        "id": "0q2SopjVTg9o",
        "colab_type": "text"
      },
      "cell_type": "markdown",
      "source": [
        "Now we have 01 as the result. Please read 0 as -1 and we get, $q_0 = -1$ and $q_1 = 1$ as the result."
      ]
    }
  ]
}