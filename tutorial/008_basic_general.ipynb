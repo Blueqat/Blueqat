{
  "nbformat": 4,
  "nbformat_minor": 0,
  "metadata": {
    "colab": {
      "name": "008_basic_general.ipynb",
      "version": "0.3.2",
      "provenance": [],
      "collapsed_sections": []
    },
    "kernelspec": {
      "display_name": "Python 3",
      "language": "python",
      "name": "python3"
    }
  },
  "cells": [
    {
      "metadata": {
        "colab_type": "text",
        "id": "NjHnSAbHrInP"
      },
      "cell_type": "markdown",
      "source": [
        "# Adder Circuit\n",
        "This tutorial we will learn about basic universal gate circuit which is an adder circuit of 2 qubits.\n",
        "\n",
        "Let's see 0+0,0+1,1+0,1+1."
      ]
    },
    {
      "metadata": {
        "colab_type": "text",
        "id": "PKhFYi-drld1"
      },
      "cell_type": "markdown",
      "source": [
        "## Adder function of 2qubits\n",
        "Adder function can be realized with CCX gate as carry circuit and CX gate as sum. Now we think about a+b = cd as an example.\n",
        "\n",
        "0+0 = 00 => 0000  \n",
        "0+1 = 10 => 0110  \n",
        "1+0 = 10 => 1010  \n",
        "1+1 = 01 =>1101  \n",
        "\n",
        "We plan the circuit as this order of qubtis. Like the input data as 1 is realized by using Xgate at the beginning of the circuit.\n",
        "\n",
        "\n"
      ]
    },
    {
      "metadata": {
        "id": "N0fDdMDOpELd",
        "colab_type": "code",
        "colab": {}
      },
      "cell_type": "code",
      "source": [
        "!pip install blueqat"
      ],
      "execution_count": 0,
      "outputs": []
    },
    {
      "metadata": {
        "colab_type": "code",
        "id": "O674HiVxjc7P",
        "outputId": "38be4f12-a254-444c-a47f-cf341827d782",
        "colab": {
          "base_uri": "https://localhost:8080/",
          "height": 34
        }
      },
      "cell_type": "code",
      "source": [
        "from blueqat import Circuit\n",
        "\n",
        "adder = Circuit().ccx[0,1,3].cx[1,2].cx[0,2]\n",
        "\n",
        "#0+0\n",
        "(Circuit() + adder).m[:].run(shots=1)"
      ],
      "execution_count": 2,
      "outputs": [
        {
          "output_type": "execute_result",
          "data": {
            "text/plain": [
              "Counter({'0000': 1})"
            ]
          },
          "metadata": {
            "tags": []
          },
          "execution_count": 2
        }
      ]
    },
    {
      "metadata": {
        "id": "xlTAVvSt3iZv",
        "colab_type": "code",
        "outputId": "5eae639d-435f-42ef-a3f9-85d0443eefa7",
        "colab": {
          "base_uri": "https://localhost:8080/",
          "height": 34
        }
      },
      "cell_type": "code",
      "source": [
        "#0+1\n",
        "(Circuit().x[1] + adder).m[:].run(shots=1)"
      ],
      "execution_count": 3,
      "outputs": [
        {
          "output_type": "execute_result",
          "data": {
            "text/plain": [
              "Counter({'0110': 1})"
            ]
          },
          "metadata": {
            "tags": []
          },
          "execution_count": 3
        }
      ]
    },
    {
      "metadata": {
        "id": "BtkqFj8n3kBS",
        "colab_type": "code",
        "outputId": "eff61393-ce8e-40ab-c422-3dc116cac446",
        "colab": {
          "base_uri": "https://localhost:8080/",
          "height": 34
        }
      },
      "cell_type": "code",
      "source": [
        "#1+0\n",
        "(Circuit().x[0] + adder).m[:].run(shots=1)"
      ],
      "execution_count": 4,
      "outputs": [
        {
          "output_type": "execute_result",
          "data": {
            "text/plain": [
              "Counter({'1010': 1})"
            ]
          },
          "metadata": {
            "tags": []
          },
          "execution_count": 4
        }
      ]
    },
    {
      "metadata": {
        "id": "JnmWCnOf3xGw",
        "colab_type": "code",
        "outputId": "6158acf7-b493-4c9b-ac4e-b54caa1b7f1b",
        "colab": {
          "base_uri": "https://localhost:8080/",
          "height": 34
        }
      },
      "cell_type": "code",
      "source": [
        "#1+1\n",
        "(Circuit().x[0].x[1] + adder).m[:].run(shots=1)"
      ],
      "execution_count": 5,
      "outputs": [
        {
          "output_type": "execute_result",
          "data": {
            "text/plain": [
              "Counter({'1101': 1})"
            ]
          },
          "metadata": {
            "tags": []
          },
          "execution_count": 5
        }
      ]
    },
    {
      "metadata": {
        "id": "OPe8FDu04AtN",
        "colab_type": "text"
      },
      "cell_type": "markdown",
      "source": [
        "These are the basic universal circuit of adder."
      ]
    }
  ]
}