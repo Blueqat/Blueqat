{
  "nbformat": 4,
  "nbformat_minor": 0,
  "metadata": {
    "colab": {
      "name": "009_basic_adder_hadamard.ipynb",
      "version": "0.3.2",
      "provenance": [],
      "collapsed_sections": []
    },
    "kernelspec": {
      "display_name": "Python 3",
      "language": "python",
      "name": "python3"
    }
  },
  "cells": [
    {
      "metadata": {
        "colab_type": "text",
        "id": "NjHnSAbHrInP"
      },
      "cell_type": "markdown",
      "source": [
        "# Adder circuit with Hadamard gate\n",
        "Now we learned about basic adder and this time we try use Hadamard gate with this basic adder function. We can realize a specific function on this.\n"
      ]
    },
    {
      "metadata": {
        "colab_type": "text",
        "id": "PKhFYi-drld1"
      },
      "cell_type": "markdown",
      "source": [
        "## Adder with superposition\n",
        "Now we try a+b=cd and apply H gate on both a and b. We try calculation 100times.\n",
        "\n"
      ]
    },
    {
      "metadata": {
        "id": "93lqI-Dypxii",
        "colab_type": "code",
        "colab": {}
      },
      "cell_type": "code",
      "source": [
        "!pip install blueqat"
      ],
      "execution_count": 0,
      "outputs": []
    },
    {
      "metadata": {
        "colab_type": "code",
        "id": "O674HiVxjc7P",
        "outputId": "c1ee1d3a-3be0-416a-f4ae-af94d9f70622",
        "colab": {
          "base_uri": "https://localhost:8080/",
          "height": 34
        }
      },
      "cell_type": "code",
      "source": [
        "from blueqat import Circuit\n",
        "\n",
        "adder = Circuit().ccx[0,1,3].cx[1,2].cx[0,2]\n",
        "\n",
        "#Superposition\n",
        "(Circuit().h[0].h[1] + adder).m[:].run(shots=100)"
      ],
      "execution_count": 2,
      "outputs": [
        {
          "output_type": "execute_result",
          "data": {
            "text/plain": [
              "Counter({'0000': 23, '0110': 29, '1010': 21, '1101': 27})"
            ]
          },
          "metadata": {
            "tags": []
          },
          "execution_count": 2
        }
      ]
    },
    {
      "metadata": {
        "id": "OPe8FDu04AtN",
        "colab_type": "text"
      },
      "cell_type": "markdown",
      "source": [
        "Now we have all possibility of adder at one expression.\n",
        "\n",
        "0+0=00\n",
        "0+1=10\n",
        "1+0=10\n",
        "1+1=01\n",
        "\n",
        "This is the universal gate circuit with superposition."
      ]
    }
  ]
}