{
  "nbformat": 4,
  "nbformat_minor": 0,
  "metadata": {
    "colab": {
      "name": "022_algo_qaoa.ipynb",
      "version": "0.3.2",
      "provenance": [],
      "collapsed_sections": []
    },
    "kernelspec": {
      "display_name": "Python 3",
      "language": "python",
      "name": "python3"
    }
  },
  "cells": [
    {
      "metadata": {
        "colab_type": "text",
        "id": "NjHnSAbHrInP"
      },
      "cell_type": "markdown",
      "source": [
        "#QAOA Algorithm\n",
        "QAOA is an algorithm to calculate the best combination from many possibilities. It is based on an adiabatic quantum algorithm."
      ]
    },
    {
      "metadata": {
        "id": "Ke7dyo7rFyUe",
        "colab_type": "text"
      },
      "cell_type": "markdown",
      "source": [
        "QAOA can optimize a cost function by optimizing 2 kind of angle, beta and gamma. We have to put the problem to solve on ising model. Let's see the cost function."
      ]
    },
    {
      "metadata": {
        "id": "5_HU7GuQF5QE",
        "colab_type": "text"
      },
      "cell_type": "markdown",
      "source": [
        "## Cost function\n",
        "\n",
        "Cost function is the basic function to optimized. It is implemented on a specific physical model called ising model.\n",
        "\n",
        "The cost function is consists of qubits which has binary number.\n",
        "\n",
        "$$E = q(0) * q(1)$$\n",
        "\n",
        "This cost function is a combination of $0*0, 0*1,1*0,1*1$.\n",
        "\n",
        "Apparently the answer is 0, and try to solve this on optimization problem using qaoa. Let's use blueqat and blueqat.pauli module."
      ]
    },
    {
      "metadata": {
        "id": "zbZfDJBxw7El",
        "colab_type": "code",
        "colab": {}
      },
      "cell_type": "code",
      "source": [
        "!pip install blueqat"
      ],
      "execution_count": 0,
      "outputs": []
    },
    {
      "metadata": {
        "id": "qzVe_fZMQ0TC",
        "colab_type": "code",
        "colab": {}
      },
      "cell_type": "code",
      "source": [
        "from blueqat import vqe\n",
        "from blueqat.pauli import qubo_bit as q\n",
        "\n",
        "E = q(0)*q(1)"
      ],
      "execution_count": 0,
      "outputs": []
    },
    {
      "metadata": {
        "id": "PGBkYSP1F7yy",
        "colab_type": "text"
      },
      "cell_type": "markdown",
      "source": [
        "We decide the step of accuracy depends on the difficulty of problems."
      ]
    },
    {
      "metadata": {
        "id": "MbkCTqEfR7be",
        "colab_type": "code",
        "outputId": "4795ce84-ec7b-4e96-d8c0-0c35059493b3",
        "colab": {
          "base_uri": "https://localhost:8080/",
          "height": 34
        }
      },
      "cell_type": "code",
      "source": [
        "step = 2\n",
        "\n",
        "result = vqe.Vqe(vqe.QaoaAnsatz(E, step)).run()\n",
        "print(result.most_common(12))"
      ],
      "execution_count": 4,
      "outputs": [
        {
          "output_type": "stream",
          "text": [
            "(((0, 1), 0.4838015774986655), ((1, 0), 0.48380157749866537), ((0, 0), 0.03239684500266859), ((1, 1), 5.746827907600131e-18))\n"
          ],
          "name": "stdout"
        }
      ]
    },
    {
      "metadata": {
        "id": "0q2SopjVTg9o",
        "colab_type": "text"
      },
      "cell_type": "markdown",
      "source": [
        "Now we get (0,0) and (1,0) and (0,1) the same probability. This shows that these are answers."
      ]
    }
  ]
}