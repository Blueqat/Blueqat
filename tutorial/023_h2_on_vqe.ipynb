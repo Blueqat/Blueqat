{
  "nbformat": 4,
  "nbformat_minor": 0,
  "metadata": {
    "colab": {
      "name": "023_h2_on_vqe.ipynb",
      "version": "0.3.2",
      "provenance": [],
      "collapsed_sections": []
    },
    "kernelspec": {
      "name": "python3",
      "display_name": "Python 3"
    }
  },
  "cells": [
    {
      "metadata": {
        "id": "bakHFUpzWUI1",
        "colab_type": "text"
      },
      "cell_type": "markdown",
      "source": [
        "##Quantum Chemistry Calcuration on H2 Molecule energy\n",
        "On the quantum computer the scalable quantum chemistry is expected as a killer application. Here we introduce the way to calculate the basic molecule energy of H2 molecule using near-term algorithm. It is not scalable at the moment but can learn a lot from the step of the algorithm. Let's see it."
      ]
    },
    {
      "metadata": {
        "id": "B64H-6pbYJSA",
        "colab_type": "text"
      },
      "cell_type": "markdown",
      "source": [
        "##Install\n",
        "First let's install required environment"
      ]
    },
    {
      "metadata": {
        "id": "Nz2GmbZ5D-4_",
        "colab_type": "code",
        "colab": {}
      },
      "cell_type": "code",
      "source": [
        "!pip install blueqat openfermionblueqat openfermion"
      ],
      "execution_count": 0,
      "outputs": []
    },
    {
      "metadata": {
        "id": "EaNqSHe1YSkj",
        "colab_type": "text"
      },
      "cell_type": "markdown",
      "source": [
        "Impor all of these components."
      ]
    },
    {
      "metadata": {
        "id": "1wJqMJMAEDXC",
        "colab_type": "code",
        "colab": {}
      },
      "cell_type": "code",
      "source": [
        "from blueqat import *\n",
        "from openfermion import *\n",
        "from openfermionblueqat import*"
      ],
      "execution_count": 0,
      "outputs": []
    },
    {
      "metadata": {
        "id": "g6LttpNAYb58",
        "colab_type": "text"
      },
      "cell_type": "markdown",
      "source": [
        "Here we get the basic molecule info from the bond length of molecule."
      ]
    },
    {
      "metadata": {
        "id": "yZrXrCPuEFKj",
        "colab_type": "code",
        "colab": {}
      },
      "cell_type": "code",
      "source": [
        "def get_molecule(bond_len):\n",
        "  geometry = [('H',(0.,0.,0.)),('H',(0.,0.,bond_len))]\n",
        "  \n",
        "  description = format(bond_len)\n",
        "  molecule = MolecularData(geometry, \"sto-3g\",1,description=description)\n",
        "  \n",
        "  molecule.load()\n",
        "  return molecule"
      ],
      "execution_count": 0,
      "outputs": []
    },
    {
      "metadata": {
        "id": "A-I0BERXE9Ng",
        "colab_type": "code",
        "colab": {}
      },
      "cell_type": "code",
      "source": [
        "m = get_molecule(0.4)"
      ],
      "execution_count": 0,
      "outputs": []
    },
    {
      "metadata": {
        "id": "98YT2FqWYoNG",
        "colab_type": "text"
      },
      "cell_type": "markdown",
      "source": [
        "Just try to check the basic molecule energy on H2 as bond length of 0.4"
      ]
    },
    {
      "metadata": {
        "id": "33od4mgaFLw-",
        "colab_type": "code",
        "outputId": "1a0b26d0-a379-4f8b-b27a-84df2c589645",
        "colab": {
          "base_uri": "https://localhost:8080/",
          "height": 646
        }
      },
      "cell_type": "code",
      "source": [
        "m.get_molecular_hamiltonian()"
      ],
      "execution_count": 6,
      "outputs": [
        {
          "output_type": "execute_result",
          "data": {
            "text/plain": [
              "() 1.322943021475\n",
              "((0, 1), (0, 0)) -1.4820918858979102\n",
              "((1, 1), (1, 0)) -1.4820918858979102\n",
              "((2, 1), (2, 0)) -0.1187350527865787\n",
              "((3, 1), (3, 0)) -0.1187350527865787\n",
              "((0, 1), (0, 1), (0, 0), (0, 0)) 0.36843967630348756\n",
              "((0, 1), (0, 1), (2, 0), (2, 0)) 0.08225771204699692\n",
              "((0, 1), (1, 1), (1, 0), (0, 0)) 0.36843967630348756\n",
              "((0, 1), (1, 1), (3, 0), (2, 0)) 0.08225771204699692\n",
              "((0, 1), (2, 1), (0, 0), (2, 0)) 0.082257712046997\n",
              "((0, 1), (2, 1), (2, 0), (0, 0)) 0.3626667179796745\n",
              "((0, 1), (3, 1), (1, 0), (2, 0)) 0.082257712046997\n",
              "((0, 1), (3, 1), (3, 0), (0, 0)) 0.3626667179796745\n",
              "((1, 1), (0, 1), (0, 0), (1, 0)) 0.36843967630348756\n",
              "((1, 1), (0, 1), (2, 0), (3, 0)) 0.08225771204699692\n",
              "((1, 1), (1, 1), (1, 0), (1, 0)) 0.36843967630348756\n",
              "((1, 1), (1, 1), (3, 0), (3, 0)) 0.08225771204699692\n",
              "((1, 1), (2, 1), (0, 0), (3, 0)) 0.082257712046997\n",
              "((1, 1), (2, 1), (2, 0), (1, 0)) 0.3626667179796745\n",
              "((1, 1), (3, 1), (1, 0), (3, 0)) 0.082257712046997\n",
              "((1, 1), (3, 1), (3, 0), (1, 0)) 0.3626667179796745\n",
              "((2, 1), (0, 1), (0, 0), (2, 0)) 0.36266671797967454\n",
              "((2, 1), (0, 1), (2, 0), (0, 0)) 0.08225771204699726\n",
              "((2, 1), (1, 1), (1, 0), (2, 0)) 0.36266671797967454\n",
              "((2, 1), (1, 1), (3, 0), (0, 0)) 0.08225771204699726\n",
              "((2, 1), (2, 1), (0, 0), (0, 0)) 0.08225771204699728\n",
              "((2, 1), (2, 1), (2, 0), (2, 0)) 0.38272169831413727\n",
              "((2, 1), (3, 1), (1, 0), (0, 0)) 0.08225771204699728\n",
              "((2, 1), (3, 1), (3, 0), (2, 0)) 0.38272169831413727\n",
              "((3, 1), (0, 1), (0, 0), (3, 0)) 0.36266671797967454\n",
              "((3, 1), (0, 1), (2, 0), (1, 0)) 0.08225771204699726\n",
              "((3, 1), (1, 1), (1, 0), (3, 0)) 0.36266671797967454\n",
              "((3, 1), (1, 1), (3, 0), (1, 0)) 0.08225771204699726\n",
              "((3, 1), (2, 1), (0, 0), (1, 0)) 0.08225771204699728\n",
              "((3, 1), (2, 1), (2, 0), (3, 0)) 0.38272169831413727\n",
              "((3, 1), (3, 1), (1, 0), (1, 0)) 0.08225771204699728\n",
              "((3, 1), (3, 1), (3, 0), (3, 0)) 0.38272169831413727"
            ]
          },
          "metadata": {
            "tags": []
          },
          "execution_count": 6
        }
      ]
    },
    {
      "metadata": {
        "id": "4Zfp6LTnYwYR",
        "colab_type": "text"
      },
      "cell_type": "markdown",
      "source": [
        "Get as fermion operator"
      ]
    },
    {
      "metadata": {
        "id": "p1MDgjRwFtH-",
        "colab_type": "code",
        "outputId": "5f92877b-1e3c-433d-b308-2237fa4efbb7",
        "colab": {
          "base_uri": "https://localhost:8080/",
          "height": 646
        }
      },
      "cell_type": "code",
      "source": [
        "get_fermion_operator(m.get_molecular_hamiltonian())"
      ],
      "execution_count": 7,
      "outputs": [
        {
          "output_type": "execute_result",
          "data": {
            "text/plain": [
              "1.322943021475 [] +\n",
              "-1.4820918858979102 [0^ 0] +\n",
              "0.36843967630348756 [0^ 0^ 0 0] +\n",
              "0.08225771204699692 [0^ 0^ 2 2] +\n",
              "0.36843967630348756 [0^ 1^ 1 0] +\n",
              "0.08225771204699692 [0^ 1^ 3 2] +\n",
              "0.082257712046997 [0^ 2^ 0 2] +\n",
              "0.3626667179796745 [0^ 2^ 2 0] +\n",
              "0.082257712046997 [0^ 3^ 1 2] +\n",
              "0.3626667179796745 [0^ 3^ 3 0] +\n",
              "0.36843967630348756 [1^ 0^ 0 1] +\n",
              "0.08225771204699692 [1^ 0^ 2 3] +\n",
              "-1.4820918858979102 [1^ 1] +\n",
              "0.36843967630348756 [1^ 1^ 1 1] +\n",
              "0.08225771204699692 [1^ 1^ 3 3] +\n",
              "0.082257712046997 [1^ 2^ 0 3] +\n",
              "0.3626667179796745 [1^ 2^ 2 1] +\n",
              "0.082257712046997 [1^ 3^ 1 3] +\n",
              "0.3626667179796745 [1^ 3^ 3 1] +\n",
              "0.36266671797967454 [2^ 0^ 0 2] +\n",
              "0.08225771204699726 [2^ 0^ 2 0] +\n",
              "0.36266671797967454 [2^ 1^ 1 2] +\n",
              "0.08225771204699726 [2^ 1^ 3 0] +\n",
              "-0.1187350527865787 [2^ 2] +\n",
              "0.08225771204699728 [2^ 2^ 0 0] +\n",
              "0.38272169831413727 [2^ 2^ 2 2] +\n",
              "0.08225771204699728 [2^ 3^ 1 0] +\n",
              "0.38272169831413727 [2^ 3^ 3 2] +\n",
              "0.36266671797967454 [3^ 0^ 0 3] +\n",
              "0.08225771204699726 [3^ 0^ 2 1] +\n",
              "0.36266671797967454 [3^ 1^ 1 3] +\n",
              "0.08225771204699726 [3^ 1^ 3 1] +\n",
              "0.08225771204699728 [3^ 2^ 0 1] +\n",
              "0.38272169831413727 [3^ 2^ 2 3] +\n",
              "-0.1187350527865787 [3^ 3] +\n",
              "0.08225771204699728 [3^ 3^ 1 1] +\n",
              "0.38272169831413727 [3^ 3^ 3 3]"
            ]
          },
          "metadata": {
            "tags": []
          },
          "execution_count": 7
        }
      ]
    },
    {
      "metadata": {
        "id": "08_xWKBUYzDi",
        "colab_type": "text"
      },
      "cell_type": "markdown",
      "source": [
        "Let's convert fermion operator to pauli operator of quantum computation."
      ]
    },
    {
      "metadata": {
        "id": "bB7dhDZ7GN9B",
        "colab_type": "code",
        "colab": {}
      },
      "cell_type": "code",
      "source": [
        "h = bravyi_kitaev(get_fermion_operator(m.get_molecular_hamiltonian()))"
      ],
      "execution_count": 0,
      "outputs": []
    },
    {
      "metadata": {
        "id": "WkzEw60axbsq",
        "colab_type": "code",
        "outputId": "82a20757-1e57-4f79-b7db-848a7c29a2da",
        "colab": {
          "base_uri": "https://localhost:8080/",
          "height": 272
        }
      },
      "cell_type": "code",
      "source": [
        "print(h)"
      ],
      "execution_count": 9,
      "outputs": [
        {
          "output_type": "stream",
          "text": [
            "(0.7407724940116754+0j) [] +\n",
            "(0.041128856023498556+0j) [X0 Z1 X2] +\n",
            "(0.041128856023498556+0j) [X0 Z1 X2 Z3] +\n",
            "(0.041128856023498556+0j) [Y0 Z1 Y2] +\n",
            "(0.041128856023498556+0j) [Y0 Z1 Y2 Z3] +\n",
            "(0.23528824284103544+0j) [Z0] +\n",
            "(0.23528824284103542+0j) [Z0 Z1] +\n",
            "(0.18133335898983727+0j) [Z0 Z1 Z2] +\n",
            "(0.18133335898983727+0j) [Z0 Z1 Z2 Z3] +\n",
            "(0.14020450296633868+0j) [Z0 Z2] +\n",
            "(0.14020450296633868+0j) [Z0 Z2 Z3] +\n",
            "(0.18421983815174378+0j) [Z1] +\n",
            "(-0.45353118471995524+0j) [Z1 Z2 Z3] +\n",
            "(0.19136084915706864+0j) [Z1 Z3] +\n",
            "(-0.45353118471995524+0j) [Z2]\n"
          ],
          "name": "stdout"
        }
      ]
    },
    {
      "metadata": {
        "colab_type": "code",
        "id": "8K4n6RIox2-W",
        "colab": {}
      },
      "cell_type": "code",
      "source": [
        "h = to_pauli_expr(h)"
      ],
      "execution_count": 0,
      "outputs": []
    },
    {
      "metadata": {
        "id": "l4GJdMZRxyCf",
        "colab_type": "code",
        "outputId": "0e3d3362-3e89-40b6-fcc5-dab7561bd735",
        "colab": {
          "base_uri": "https://localhost:8080/",
          "height": 54
        }
      },
      "cell_type": "code",
      "source": [
        "print(h)"
      ],
      "execution_count": 11,
      "outputs": [
        {
          "output_type": "stream",
          "text": [
            "(0.7407724940116754+0j)*I + (0.23528824284103544+0j)*Z[0] + (0.23528824284103542+0j)*Z[0]*Z[1] + (-0.45353118471995524+0j)*Z[2] + (-0.45353118471995524+0j)*Z[1]*Z[2]*Z[3] + (0.18421983815174378+0j)*Z[1] + (0.041128856023498556+0j)*Y[0]*Z[1]*Y[2]*Z[3] + (0.041128856023498556+0j)*X[0]*Z[1]*X[2] + (0.041128856023498556+0j)*X[0]*Z[1]*X[2]*Z[3] + (0.041128856023498556+0j)*Y[0]*Z[1]*Y[2] + (0.14020450296633868+0j)*Z[0]*Z[2] + (0.18133335898983727+0j)*Z[0]*Z[1]*Z[2]*Z[3] + (0.18133335898983727+0j)*Z[0]*Z[1]*Z[2] + (0.14020450296633868+0j)*Z[0]*Z[2]*Z[3] + (0.19136084915706864+0j)*Z[1]*Z[3]\n"
          ],
          "name": "stdout"
        }
      ]
    },
    {
      "metadata": {
        "id": "s6w6avxjY-ug",
        "colab_type": "text"
      },
      "cell_type": "markdown",
      "source": [
        "By using this pauli operator we can calculate the result of molecule energy by using vqe."
      ]
    },
    {
      "metadata": {
        "id": "OXiJ9FKJICcZ",
        "colab_type": "code",
        "outputId": "a9df725e-3399-48b4-9176-37a7e31d8ff8",
        "colab": {
          "base_uri": "https://localhost:8080/",
          "height": 680
        }
      },
      "cell_type": "code",
      "source": [
        "runner = vqe.Vqe(UCCAnsatz(h,2,Circuit().x[0]))\n",
        "result = runner.run(verbose = True)"
      ],
      "execution_count": 13,
      "outputs": [
        {
          "output_type": "stream",
          "text": [
            "params: [0.92610975 0.73480036] val: 0.6610857249777602\n",
            "params: [0.92610975 0.73480036] val: 0.6610857249777602\n",
            "params: [1.92610975 0.73480036] val: 1.732744114154805\n",
            "params: [-0.69192425  0.73480036] val: -0.8928323217500871\n",
            "params: [-11.17962139   0.73480036] val: 0.7324283702853742\n",
            "params: [-0.69192425  0.73480036] val: -0.8928323217500871\n",
            "params: [-0.69192425  0.73480036] val: -0.8928323217500871\n",
            "params: [-0.69192425  1.73480036] val: 1.4502332008478733\n",
            "params: [-0.69192425 -0.88323364] val: -0.11998069920010929\n",
            "params: [-0.69192425  0.73480036] val: -0.8928323217500871\n",
            "params: [-0.69192425  0.11676639] val: -0.5255797976248324\n",
            "params: [-0.69192425  1.11676636] val: 0.8289318645290817\n",
            "params: [-0.69192425  0.48401964] val: -0.3163925309152039\n",
            "params: [-0.69192425  0.88069839] val: -0.22285169013014816\n",
            "params: [-0.69192425  0.63901065] val: -0.8265387126557507\n",
            "params: [-0.69192425  0.79052845] val: -0.7394538212659723\n",
            "params: [-0.69192425  0.70212781] val: -0.913681616078091\n",
            "params: [-2.30995825  0.66945526] val: 0.6624897676287557\n",
            "params: [-0.69192425  0.70212781] val: -0.913681616078091\n",
            "params: [0.30807575 0.70212781] val: -0.2145952839661783\n",
            "params: [-2.30995825  0.70212781] val: 0.5889192257729464\n",
            "params: [-0.69192425  0.70212781] val: -0.913681616078091\n",
            "params: [-1.30995822  0.70212781] val: -0.6552624853989326\n",
            "params: [-0.30995825  0.70212781] val: -0.7972211890120844\n",
            "params: [-0.7117887   0.70212781] val: -0.9139096770019025\n",
            "params: [-0.81111097  0.70212781] val: -0.9062839053844981\n",
            "params: [-0.7117887   0.70212781] val: -0.9139096770019025\n",
            "params: [-0.7117887   1.70212781] val: 1.2662584927066636\n",
            "params: [-0.7117887  -0.91590619] val: -0.2891069263620355\n",
            "params: [-0.7117887   0.70212781] val: -0.9139096770019025\n",
            "params: [-0.7117887   0.08409384] val: -0.5306040004194343\n",
            "params: [-0.7117887   1.08409381] val: 0.8651874263111139\n",
            "params: [-0.7117887   0.45186498] val: -0.2164725607007667\n",
            "params: [-0.7117887   0.84802584] val: -0.4330104332174737\n",
            "params: [-0.7117887   0.60653592] val: -0.726444494757913\n",
            "params: [-0.7117887  0.7578559] val: -0.847793349637755\n",
            "params: [-0.7117887   0.70147288] val: -0.913802981837197\n",
            "params: [-0.7117887   0.70520404] val: -0.9141481595770277\n",
            "params: [-0.7117887   0.72531526] val: -0.9047586236569403\n"
          ],
          "name": "stdout"
        }
      ]
    },
    {
      "metadata": {
        "id": "RPm8yqTeZFbb",
        "colab_type": "text"
      },
      "cell_type": "markdown",
      "source": [
        "We can check what happen inside the gate simulation as qasm format."
      ]
    },
    {
      "metadata": {
        "id": "1DU40C6JP3GI",
        "colab_type": "code",
        "outputId": "632f2bb8-7fe2-4579-dc14-21e13ebf69ee",
        "colab": {
          "base_uri": "https://localhost:8080/",
          "height": 54
        }
      },
      "cell_type": "code",
      "source": [
        "result.circuit.to_qasm()"
      ],
      "execution_count": 15,
      "outputs": [
        {
          "output_type": "execute_result",
          "data": {
            "text/plain": [
              "'OPENQASM 2.0;\\ninclude \"qelib1.inc\";\\nqreg q[4];\\ncreg c[4];\\nx q[0];\\nrz(1.0522796814938002) q[0];\\ncx q[0],q[1];\\nrz(1.0522796814938) q[1];\\ncx q[0],q[1];\\nrz(-2.0283276582036978) q[2];\\ncx q[1],q[2];\\ncx q[2],q[3];\\nrz(-2.0283276582036978) q[3];\\ncx q[2],q[3];\\ncx q[1],q[2];\\nrz(0.8238864393497346) q[1];\\nrx(-1.5707963267948966) q[0];\\nrx(-1.5707963267948966) q[2];\\ncx q[0],q[1];\\ncx q[1],q[2];\\ncx q[2],q[3];\\nrz(0.18394059556070322) q[3];\\ncx q[2],q[3];\\ncx q[1],q[2];\\ncx q[0],q[1];\\nrx(1.5707963267948966) q[0];\\nrx(1.5707963267948966) q[2];\\nh q[0];\\nh q[2];\\ncx q[0],q[1];\\ncx q[1],q[2];\\nrz(0.18394059556070322) q[2];\\ncx q[1],q[2];\\ncx q[0],q[1];\\nh q[0];\\nh q[2];\\nh q[0];\\nh q[2];\\ncx q[0],q[1];\\ncx q[1],q[2];\\ncx q[2],q[3];\\nrz(0.18394059556070322) q[3];\\ncx q[2],q[3];\\ncx q[1],q[2];\\ncx q[0],q[1];\\nh q[0];\\nh q[2];\\nrx(-1.5707963267948966) q[0];\\nrx(-1.5707963267948966) q[2];\\ncx q[0],q[1];\\ncx q[1],q[2];\\nrz(0.18394059556070322) q[2];\\ncx q[1],q[2];\\ncx q[0],q[1];\\nrx(1.5707963267948966) q[0];\\nrx(1.5707963267948966) q[2];\\ncx q[0],q[2];\\nrz(0.6270366421372445) q[2];\\ncx q[0],q[2];\\ncx q[0],q[1];\\ncx q[1],q[2];\\ncx q[2],q[3];\\nrz(0.8109772376979479) q[3];\\ncx q[2],q[3];\\ncx q[1],q[2];\\ncx q[0],q[1];\\ncx q[0],q[1];\\ncx q[1],q[2];\\nrz(0.8109772376979479) q[2];\\ncx q[1],q[2];\\ncx q[0],q[1];\\ncx q[0],q[2];\\ncx q[2],q[3];\\nrz(0.6270366421372445) q[3];\\ncx q[2],q[3];\\ncx q[0],q[2];\\ncx q[1],q[3];\\nrz(0.8558231850854906) q[3];\\ncx q[1],q[3];\\nrz(-1.0425451807919164) q[0];\\ncx q[0],q[1];\\nrz(-1.0425451807919162) q[1];\\ncx q[0],q[1];\\nrz(2.0095638662578104) q[2];\\ncx q[1],q[2];\\ncx q[2],q[3];\\nrz(2.0095638662578104) q[3];\\ncx q[2],q[3];\\ncx q[1],q[2];\\nrz(-0.8162647744414686) q[1];\\nrx(-1.5707963267948966) q[0];\\nrx(-1.5707963267948966) q[2];\\ncx q[0],q[1];\\ncx q[1],q[2];\\ncx q[2],q[3];\\nrz(-0.18223898534425512) q[3];\\ncx q[2],q[3];\\ncx q[1],q[2];\\ncx q[0],q[1];\\nrx(1.5707963267948966) q[0];\\nrx(1.5707963267948966) q[2];\\nh q[0];\\nh q[2];\\ncx q[0],q[1];\\ncx q[1],q[2];\\nrz(-0.18223898534425512) q[2];\\ncx q[1],q[2];\\ncx q[0],q[1];\\nh q[0];\\nh q[2];\\nh q[0];\\nh q[2];\\ncx q[0],q[1];\\ncx q[1],q[2];\\ncx q[2],q[3];\\nrz(-0.18223898534425512) q[3];\\ncx q[2],q[3];\\ncx q[1],q[2];\\ncx q[0],q[1];\\nh q[0];\\nh q[2];\\nrx(-1.5707963267948966) q[0];\\nrx(-1.5707963267948966) q[2];\\ncx q[0],q[1];\\ncx q[1],q[2];\\nrz(-0.18223898534425512) q[2];\\ncx q[1],q[2];\\ncx q[0],q[1];\\nrx(1.5707963267948966) q[0];\\nrx(1.5707963267948966) q[2];\\ncx q[0],q[2];\\nrz(-0.6212360087691965) q[2];\\ncx q[0],q[2];\\ncx q[0],q[1];\\ncx q[1],q[2];\\ncx q[2],q[3];\\nrz(-0.8034749941134518) q[3];\\ncx q[2],q[3];\\ncx q[1],q[2];\\ncx q[0],q[1];\\ncx q[0],q[1];\\ncx q[1],q[2];\\nrz(-0.8034749941134518) q[2];\\ncx q[1],q[2];\\ncx q[0],q[1];\\ncx q[0],q[2];\\ncx q[2],q[3];\\nrz(-0.6212360087691965) q[3];\\ncx q[2],q[3];\\ncx q[0],q[2];\\ncx q[1],q[3];\\nrz(-0.8479060775499002) q[3];\\ncx q[1],q[3];'"
            ]
          },
          "metadata": {
            "tags": []
          },
          "execution_count": 15
        }
      ]
    },
    {
      "metadata": {
        "id": "mXsQK0bxP9Bd",
        "colab_type": "code",
        "outputId": "da446f48-ac82-4fa3-f939-2a2bb1b6d31d",
        "colab": {
          "base_uri": "https://localhost:8080/",
          "height": 34
        }
      },
      "cell_type": "code",
      "source": [
        "runner.ansatz.get_energy(result.circuit,runner.sampler)"
      ],
      "execution_count": 16,
      "outputs": [
        {
          "output_type": "execute_result",
          "data": {
            "text/plain": [
              "-0.9141481595770277"
            ]
          },
          "metadata": {
            "tags": []
          },
          "execution_count": 16
        }
      ]
    },
    {
      "metadata": {
        "id": "_6npotpzZPOt",
        "colab_type": "text"
      },
      "cell_type": "markdown",
      "source": [
        "Finally we can get the molecule energy as plotted figure as below"
      ]
    },
    {
      "metadata": {
        "id": "Ryz8xASTRyRP",
        "colab_type": "code",
        "outputId": "f40ad4f7-8e29-4cc5-e141-63ba29490a48",
        "colab": {
          "base_uri": "https://localhost:8080/",
          "height": 286
        }
      },
      "cell_type": "code",
      "source": [
        "import numpy as np\n",
        "\n",
        "\n",
        "x = [];e=[];fullci=[]\n",
        "\n",
        "for bond_len in np.arange(0.2,2.5,0.1):\n",
        "  m = get_molecule(\"{:.2}\".format(bond_len))\n",
        "  h = bravyi_kitaev(get_fermion_operator(m.get_molecular_hamiltonian()))\n",
        "  runner = vqe.Vqe(UCCAnsatz(h,6,Circuit().x[0]))\n",
        "  result = runner.run()\n",
        "  x.append(bond_len)\n",
        "  e.append(runner.ansatz.get_energy(result.circuit,runner.sampler))\n",
        "  fullci.append(m.fci_energy)\n",
        "\n",
        "%matplotlib inline\n",
        "import matplotlib.pyplot as plt\n",
        "plt.plot(x,fullci)\n",
        "plt.plot(x,e,\"o\")"
      ],
      "execution_count": 17,
      "outputs": [
        {
          "output_type": "execute_result",
          "data": {
            "text/plain": [
              "[<matplotlib.lines.Line2D at 0x7fdd087f7860>]"
            ]
          },
          "metadata": {
            "tags": []
          },
          "execution_count": 17
        },
        {
          "output_type": "display_data",
          "data": {
            "image/png": "[encoded data removed]",
            "text/plain": [
              "<Figure size 432x288 with 1 Axes>"
            ]
          },
          "metadata": {
            "tags": []
          }
        }
      ]
    }
  ]
}